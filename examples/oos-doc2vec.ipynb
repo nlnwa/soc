{
 "cells": [
  {
   "cell_type": "markdown",
   "source": [
    "# Out-of-scope Doc2Vec\n",
    "Creates Doc2Vec representations from the OOS list."
   ],
   "metadata": {
    "collapsed": false
   }
  },
  {
   "cell_type": "code",
   "execution_count": 1,
   "outputs": [],
   "source": [
    "# Imports\n",
    "import re\n",
    "from collections import Counter\n",
    "from pprint import pprint\n",
    "\n",
    "import pandas as pd\n",
    "from gensim.models import Doc2Vec\n",
    "from gensim.models.doc2vec import TaggedDocument\n",
    "import numpy as np\n",
    "import matplotlib.pyplot as plt\n",
    "from sklearn.decomposition import PCA\n",
    "from sklearn.manifold import TSNE\n"
   ],
   "metadata": {
    "collapsed": false,
    "pycharm": {
     "name": "#%%\n",
     "is_executing": false
    }
   }
  },
  {
   "cell_type": "markdown",
   "source": [
    "Generate Doc2Vec for websites."
   ],
   "metadata": {
    "collapsed": false
   }
  },
  {
   "cell_type": "code",
   "execution_count": 3,
   "outputs": [
    {
     "name": "stderr",
     "text": [
      "/home/rolv-arild/PycharmProjects/soc/venv/lib/python3.6/site-packages/smart_open/smart_open_lib.py:398: UserWarning: This function is deprecated, use smart_open.open instead. See the migration notes for details: https://github.com/RaRe-Technologies/smart_open/blob/master/README.rst#migrating-to-the-new-open-function\n  'See the migration notes for details: %s' % _MIGRATION_NOTES_URL\n"
     ],
     "output_type": "stream"
    }
   ],
   "source": [
    "data_path = \"../uri_scores.csv\"\n",
    "file = pd.read_csv(data_path)\n",
    "\n",
    "def iter_urls(file):\n",
    "    for i, row in file.iterrows():\n",
    "        url, text = row[\"original_url\"], str(row[\"text\"])\n",
    "        yield url, text\n",
    "\n",
    "\n",
    "class TaggedWebpageDocument(object):\n",
    "    def __iter__(self):\n",
    "        for url, text in iter_urls(file):\n",
    "            words = [c for c in re.split(r\"\\s+\", re.sub(r\"[^\\w\\s]+\", \" \", text)) if len(c) > 0]\n",
    "            yield TaggedDocument(words, [url])\n",
    "\n",
    "\n",
    "documents = TaggedWebpageDocument()\n",
    "model = Doc2Vec(documents, window=7, vector_size=256, workers=4)\n",
    "model.save(\"oos-doc2vec\")"
   ],
   "metadata": {
    "collapsed": false,
    "pycharm": {
     "name": "#%%\n",
     "is_executing": false
    }
   }
  },
  {
   "cell_type": "code",
   "execution_count": null,
   "outputs": [],
   "source": [
    "model = Doc2Vec.load(\"oos-doc2vec\")"
   ],
   "metadata": {
    "collapsed": false,
    "pycharm": {
     "name": "#%%\n"
    }
   }
  },
  {
   "cell_type": "markdown",
   "source": [
    "Small tests."
   ],
   "metadata": {
    "collapsed": false
   }
  },
  {
   "cell_type": "code",
   "execution_count": 4,
   "outputs": [
    {
     "name": "stdout",
     "text": [
      "[('http://ax.itunes.apple.com', 0.9562076330184937),\n ('http://itunes.apple.com', 0.9437013864517212),\n ('https://geo.itunes.apple.com', 0.9404727220535278),\n ('http://store.apple.com', 0.8602949380874634),\n ('http://livepage.apple.com', 0.840777575969696),\n ('http://apple.com', 0.8331955671310425),\n ('http://www.apple.com', 0.8172075152397156),\n ('https://www.apple.com', 0.8163220286369324),\n ('https://support.apple.com', 0.8123588562011719),\n ('http://www.etudiemploi.fr', 0.8099346160888672)]\n[('http://blogg.jaktogdvd.no', 0.7379841208457947),\n ('http://www.alleteller.no', 0.7270657420158386),\n ('https://www.aid.no', 0.7266299724578857),\n ('http://www.norgesstigen.no', 0.7253384590148926),\n ('http://fsweb.no', 0.7209904193878174),\n ('https://www.anbuddirekte.no', 0.7139006853103638),\n ('http://algarheim.backe.no', 0.7104812264442444),\n ('http://reklameregler.lmi.no', 0.7098019123077393),\n ('http://www.mednytt.no', 0.709213376045227),\n ('http://www.presse.no', 0.7085011005401611)]\n[('https://www.apsisfinland.fi', 0.9021806716918945),\n ('https://www.tamigo.fi', 0.8890319466590881),\n ('https://www.speedservices.fi', 0.8882708549499512),\n ('https://www.semantix.fi', 0.8868154287338257),\n ('http://www.toshiba.fi', 0.8865028619766235),\n ('http://www.ofm.fi', 0.8861180543899536),\n ('https://www.martela.fi', 0.8806219100952148),\n ('https://www.duracell.fi', 0.8798688650131226),\n ('https://www.alihankinta.fi', 0.878528356552124),\n ('https://www.wellspect.fi', 0.8780179023742676)]\n"
     ],
     "output_type": "stream"
    }
   ],
   "source": [
    "pprint(model.docvecs.most_similar(positive=[\"https://itunes.apple.com\"], topn=10))\n",
    "pprint(model.docvecs.most_similar(positive=[\"https://begrep.difi.no\"], topn=10))\n",
    "pprint(model.docvecs.most_similar(positive=[\"https://www.sharp.fi\"], topn=10))"
   ],
   "metadata": {
    "collapsed": false,
    "pycharm": {
     "name": "#%%\n",
     "is_executing": false
    }
   }
  },
  {
   "cell_type": "markdown",
   "source": [
    "Run dimensionality reduction."
   ],
   "metadata": {
    "collapsed": false
   }
  },
  {
   "cell_type": "code",
   "execution_count": null,
   "outputs": [],
   "source": [
    "pca = PCA()\n",
    "\n",
    "trans = pca.fit_transform(model.docvecs.vectors_docs)\n",
    "\n",
    "print(trans.shape)\n",
    "\n",
    "# Plot explained variance (information kept) vs number of components\n",
    "plt.plot(np.cumsum(pca.explained_variance_ratio_))\n",
    "plt.xlabel('number of components')\n",
    "plt.ylabel('cumulative explained variance')\n",
    "plt.show()"
   ],
   "metadata": {
    "collapsed": false,
    "pycharm": {
     "name": "#%%\n"
    }
   }
  },
  {
   "cell_type": "code",
   "execution_count": null,
   "outputs": [],
   "source": [
    "reduced = TSNE().fit_transform(trans)\n",
    "\n",
    "np.save(\"veidemann-reduced.npy\", reduced)"
   ],
   "metadata": {
    "collapsed": false,
    "pycharm": {
     "name": "#%%\n"
    }
   }
  },
  {
   "cell_type": "code",
   "execution_count": null,
   "outputs": [],
   "source": [
    "reduced = np.load(\"veidemann-reduced.npy\")\n"
   ],
   "metadata": {
    "collapsed": false,
    "pycharm": {
     "name": "#%%\n"
    }
   }
  },
  {
   "cell_type": "markdown",
   "source": [
    "Write to CSV for later analysis."
   ],
   "metadata": {
    "collapsed": false,
    "pycharm": {
     "name": "#%% md\n"
    }
   }
  },
  {
   "cell_type": "code",
   "execution_count": 5,
   "outputs": [
    {
     "name": "stdout",
     "text": [
      "(69858, 256)\n69858 None\n"
     ],
     "output_type": "stream"
    }
   ],
   "source": [
    "print(len(file), print(model.docvecs.vectors_docs.shape))\n",
    "vector_df = pd.DataFrame(data=model.docvecs.vectors_docs, columns=[f\"v{i}\" for i in range(256)])\n",
    "conc = pd.concat([file, vector_df], axis=1)\n",
    "conc.to_csv(\"oos-doc2vec.csv\", index=False)"
   ],
   "metadata": {
    "collapsed": false,
    "pycharm": {
     "name": "#%%\n",
     "is_executing": false
    }
   }
  },
  {
   "cell_type": "code",
   "execution_count": 6,
   "outputs": [
    {
     "name": "stdout",
     "text": [
      "[('https://ec.europa.eu', 0.9650459289550781),\n ('http://cassandrarhodin.com', 0.9630915522575378),\n ('http://www.norwegianicons.no', 0.9577521085739136),\n ('http://www.everycar.ph', 0.9563934803009033),\n ('https://www.scanjet.se', 0.9559930562973022),\n ('http://www.cimtshow.com', 0.9548647999763489),\n ('http://www.everycar.com.tw', 0.9545629024505615),\n ('http://www.dinosplattsburgh.com', 0.9534910917282104),\n ('https://minside.sb1kapital.no', 0.9534136056900024),\n ('http://www.annelisenorheim.no', 0.9523912668228149),\n ('http://www.antonsoggiu.com', 0.9522300958633423),\n ('http://www.cieme.org.cn', 0.9517980217933655),\n ('http://byggeplass.com', 0.9517480134963989),\n ('http://www.explorauto.com.bo', 0.9497545957565308),\n ('http://www.tried.com.cn', 0.9488672614097595),\n ('http://www.hallingkart.no', 0.9476903080940247),\n ('https://radio.disney.com', 0.9475408792495728),\n ('http://www.utmark.biz', 0.9474514126777649),\n ('http://www.krasznahorkai.hu', 0.9473844766616821),\n ('http://www.explorauto.cl', 0.9469686150550842),\n ('http://www.anycar.com', 0.9461637735366821),\n ('http://www.explorauto.com.pr', 0.945753812789917),\n ('http://www.wella.no', 0.9457253217697144),\n ('http://eidegrip.no', 0.9455282688140869),\n ('http://4csolutions.no', 0.9455140829086304),\n ('http://www.akcakilcamping.com', 0.9450341463088989),\n ('http://www.careerjet.co.in', 0.9445397853851318),\n ('http://cialisgeneric-incanada.com', 0.9443584084510803),\n ('http://www.dadaux.com', 0.9434069991111755),\n ('http://www.cbre.co.jp', 0.9422622919082642)]\n"
     ],
     "output_type": "stream"
    }
   ],
   "source": [
    "# Find low scoring websites that are most similar to high scoring websites.\n",
    "pprint(model.docvecs.most_similar(\n",
    "    positive=[row[\"original_url\"] for i, row in conc.iterrows() if row[\"norvegica_score\"] > 0.5], topn=30))"
   ],
   "metadata": {
    "collapsed": false,
    "pycharm": {
     "name": "#%%\n",
     "is_executing": false
    }
   }
  },
  {
   "cell_type": "markdown",
   "source": [
    "For converting to [TensorFlow embedding projector](https://projector.tensorflow.org/) compatible format"
   ],
   "metadata": {
    "collapsed": false
   }
  },
  {
   "cell_type": "code",
   "execution_count": 2,
   "outputs": [],
   "source": [
    "fn = \"oos-doc2vec.csv\"\n",
    "csv = pd.read_csv(fn, index_col=False)\n",
    "\n",
    "csv = csv.dropna(subset=[f\"v{i}\" for i in range(256)])\n",
    "csv = csv.fillna(\"missing\")\n",
    "\n",
    "filt = \"v\\d+\"\n",
    "vec = csv.filter(regex=filt)\n",
    "meta = csv.drop(vec.columns, axis=1)\n",
    "# meta = meta.drop(\"text\", axis=1)\n",
    "for column in meta:\n",
    "    try:\n",
    "        meta[column] = meta[column].str.replace(\"\\n\", \" \")\n",
    "    except AttributeError:\n",
    "        pass\n",
    "\n",
    "meta = meta.set_index(\"original_url\")\n",
    "\n",
    "vec.to_csv(fn.replace(\".csv\", \"-vec.tsv\"), header=False, sep=\"\\t\", index=False)\n",
    "meta.to_csv(fn.replace(\".csv\", \"-meta.tsv\"), sep=\"\\t\", index=True)"
   ],
   "metadata": {
    "collapsed": false,
    "pycharm": {
     "name": "#%%\n",
     "is_executing": false
    }
   }
  },
  {
   "cell_type": "markdown",
   "source": [
    "For Weka compatibility"
   ],
   "metadata": {
    "collapsed": false,
    "pycharm": {
     "name": "#%% md\n"
    }
   }
  },
  {
   "cell_type": "code",
   "execution_count": 8,
   "outputs": [],
   "source": [
    "import arff\n",
    "conc_notxt = conc.drop(\"text\", axis=1).fillna(\"missing\")\n",
    "arff.dump(\"oos.arff\", conc_notxt.values, \"ooslist\", conc_notxt.columns)"
   ],
   "metadata": {
    "collapsed": false,
    "pycharm": {
     "name": "#%%\n",
     "is_executing": false
    }
   }
  },
  {
   "cell_type": "markdown",
   "source": [
    "Generate bar charts and histograms for DataFrame"
   ],
   "metadata": {
    "collapsed": false,
    "pycharm": {
     "name": "#%% md\n"
    }
   }
  },
  {
   "cell_type": "code",
   "execution_count": 27,
   "outputs": [
    {
     "data": {
      "text/plain": "<Figure size 432x288 with 0 Axes>"
     },
     "metadata": {},
     "output_type": "display_data"
    }
   ],
   "source": [
    "nominal = (1,2,3,4,6,7,10,11,14,15,23)\n",
    "\n",
    "for index in range(len(meta.columns)):\n",
    "    column = meta.iloc[:, index]\n",
    "    if index+1 not in nominal:\n",
    "        if column.dtype == np.float64:\n",
    "            chart = plt.hist(column.values, bins=101, bottom=0)\n",
    "        elif column.dtype == np.int64:\n",
    "            chart = plt.hist(column.values, bins=min(max(column.values)+1, 101), bottom=0)\n",
    "        else:\n",
    "            continue\n",
    "    else: \n",
    "        counter = Counter(column)\n",
    "        labels, values = zip(*counter.most_common(20))\n",
    "        indexes = np.arange(len(labels))\n",
    "        width=1\n",
    "        chart = plt.bar(indexes, values, width)\n",
    "        plt.xticks(indexes, labels, rotation=90)\n",
    "    plt.semilogy()\n",
    "    plt.suptitle(column.name, y=0.95)\n",
    "    # plt.tight_layout()\n",
    "    plt.savefig(f\"{column.name}.png\", bbox_inches=\"tight\")\n",
    "    plt.clf()"
   ],
   "metadata": {
    "collapsed": false,
    "pycharm": {
     "name": "#%%\n",
     "is_executing": false
    }
   }
  }
 ],
 "metadata": {
  "language_info": {
   "codemirror_mode": {
    "name": "ipython",
    "version": 2
   },
   "file_extension": ".py",
   "mimetype": "text/x-python",
   "name": "python",
   "nbconvert_exporter": "python",
   "pygments_lexer": "ipython2",
   "version": "2.7.6"
  },
  "kernelspec": {
   "name": "python3",
   "language": "python",
   "display_name": "Python 3"
  },
  "pycharm": {
   "stem_cell": {
    "cell_type": "raw",
    "source": [],
    "metadata": {
     "collapsed": false
    }
   }
  }
 },
 "nbformat": 4,
 "nbformat_minor": 0
}