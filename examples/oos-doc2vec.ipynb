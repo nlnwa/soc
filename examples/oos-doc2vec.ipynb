{
 "cells": [
  {
   "cell_type": "markdown",
   "source": [
    "# Out-of-scope Doc2Vec\n",
    "Creates Doc2Vec representations from the OOS list."
   ],
   "metadata": {
    "collapsed": false
   }
  },
  {
   "cell_type": "code",
   "execution_count": 1,
   "outputs": [],
   "source": [
    "# Imports\n",
    "import re\n",
    "from pprint import pprint\n",
    "\n",
    "import pandas as pd\n",
    "from gensim.models import Doc2Vec\n",
    "from gensim.models.doc2vec import TaggedDocument\n",
    "import numpy as np\n",
    "import matplotlib.pyplot as plt\n",
    "from sklearn.decomposition import PCA\n",
    "from sklearn.manifold import TSNE"
   ],
   "metadata": {
    "collapsed": false,
    "pycharm": {
     "name": "#%%\n",
     "is_executing": false
    }
   }
  },
  {
   "cell_type": "markdown",
   "source": [
    "Generate Doc2Vec for websites."
   ],
   "metadata": {
    "collapsed": false,
    "pycharm": {
     "name": "#%% md\n"
    }
   }
  },
  {
   "cell_type": "code",
   "execution_count": 2,
   "outputs": [
    {
     "name": "stderr",
     "text": [
      "/home/rolv-arild/PycharmProjects/soc/venv/lib/python3.6/site-packages/smart_open/smart_open_lib.py:398: UserWarning: This function is deprecated, use smart_open.open instead. See the migration notes for details: https://github.com/RaRe-Technologies/smart_open/blob/master/README.rst#migrating-to-the-new-open-function\n  'See the migration notes for details: %s' % _MIGRATION_NOTES_URL\n"
     ],
     "output_type": "stream"
    }
   ],
   "source": [
    "data_path = \"uri_scores.csv\"\n",
    "file = pd.read_csv(data_path)\n",
    "\n",
    "def iter_urls(file):\n",
    "    for i, row in file.iterrows():\n",
    "        url, text = row[\"original_url\"], str(row[\"text\"])\n",
    "        yield url, text\n",
    "\n",
    "\n",
    "class TaggedWebpageDocument(object):\n",
    "    def __iter__(self):\n",
    "        for url, text in iter_urls(file):\n",
    "            words = [c for c in re.split(r\"\\s+\", re.sub(r\"[^\\w\\s]+\", \" \", text)) if len(c) > 0]\n",
    "            yield TaggedDocument(words, [url])\n",
    "\n",
    "\n",
    "documents = TaggedWebpageDocument()\n",
    "model = Doc2Vec(documents, window=7, vector_size=256, workers=4)\n",
    "model.save(\"oos-doc2vec\")"
   ],
   "metadata": {
    "collapsed": false,
    "pycharm": {
     "name": "#%%\n",
     "is_executing": false
    }
   }
  },
  {
   "cell_type": "code",
   "execution_count": null,
   "outputs": [],
   "source": [
    "model = Doc2Vec.load(\"oos-doc2vec\")"
   ],
   "metadata": {
    "collapsed": false,
    "pycharm": {
     "name": "#%%\n"
    }
   }
  },
  {
   "cell_type": "markdown",
   "source": [
    "Small tests."
   ],
   "metadata": {
    "collapsed": false
   }
  },
  {
   "cell_type": "code",
   "execution_count": 3,
   "outputs": [
    {
     "name": "stdout",
     "text": [
      "[('https://geo.itunes.apple.com', 0.9591037631034851),\n ('http://itunes.apple.com', 0.9363000392913818),\n ('http://ax.itunes.apple.com', 0.9265631437301636),\n ('http://www.kaosagency.it', 0.8383361101150513),\n ('http://www.etudiemploi.fr', 0.8317094445228577),\n ('http://www.costaricamts.com', 0.831321656703949),\n ('http://www.castiholding.it', 0.8302295207977295),\n ('http://amzn.com', 0.8297784328460693),\n ('http://store.apple.com', 0.828658938407898),\n ('http://www.ghbellavista.it', 0.8285951614379883)]\n[('https://www.hapro.no', 0.8215649127960205),\n ('http://nordlandsnett.no', 0.8142644166946411),\n ('http://kulas-terrasse.backe.no', 0.8098169565200806),\n ('http://econpartner.no', 0.8095749616622925),\n ('http://www.fujitsu-siemens.no', 0.7995861768722534),\n ('http://etikkradet.no', 0.7992410659790039),\n ('https://www.semac.no', 0.7986610531806946),\n ('http://www.juss24.no', 0.7979243397712708),\n ('http://www.asak.no', 0.7958770990371704),\n ('http://lillsk8.blogspot.com', 0.792523205280304)]\n[('http://www.valtra.fi', 0.9141387939453125),\n ('https://www.speedservices.fi', 0.9125998020172119),\n ('http://www.kennelliitto.fi', 0.9073418378829956),\n ('https://www.duracell.fi', 0.9058294892311096),\n ('http://www.poyry.fi', 0.9013934135437012),\n ('http://www.abb.fi', 0.9012877941131592),\n ('https://netello.fi', 0.9005213379859924),\n ('http://www.metla.fi', 0.8987133502960205),\n ('https://www.apsisfinland.fi', 0.8979438543319702),\n ('https://www.theben.fi', 0.8968749642372131)]\n"
     ],
     "output_type": "stream"
    }
   ],
   "source": [
    "pprint(model.docvecs.most_similar(positive=[\"https://itunes.apple.com\"], topn=10))\n",
    "pprint(model.docvecs.most_similar(positive=[\"https://begrep.difi.no\"], topn=10))\n",
    "pprint(model.docvecs.most_similar(positive=[\"https://www.sharp.fi\"], topn=10))"
   ],
   "metadata": {
    "collapsed": false,
    "pycharm": {
     "name": "#%%\n",
     "is_executing": false
    }
   }
  },
  {
   "cell_type": "markdown",
   "source": [
    "Run dimensionality reduction."
   ],
   "metadata": {
    "collapsed": false
   }
  },
  {
   "cell_type": "code",
   "execution_count": null,
   "outputs": [],
   "source": [
    "pca = PCA()\n",
    "\n",
    "trans = pca.fit_transform(model.docvecs.vectors_docs)\n",
    "\n",
    "print(trans.shape)\n",
    "\n",
    "# Plot explained variance (information kept) vs number of components\n",
    "plt.plot(np.cumsum(pca.explained_variance_ratio_))\n",
    "plt.xlabel('number of components')\n",
    "plt.ylabel('cumulative explained variance')\n",
    "plt.show()"
   ],
   "metadata": {
    "collapsed": false,
    "pycharm": {
     "name": "#%%\n"
    }
   }
  },
  {
   "cell_type": "code",
   "execution_count": null,
   "outputs": [],
   "source": [
    "reduced = TSNE().fit_transform(trans)\n",
    "\n",
    "np.save(\"veidemann-reduced.npy\", reduced)"
   ],
   "metadata": {
    "collapsed": false,
    "pycharm": {
     "name": "#%%\n"
    }
   }
  },
  {
   "cell_type": "code",
   "execution_count": null,
   "outputs": [],
   "source": [
    "reduced = np.load(\"veidemann-reduced.npy\")\n"
   ],
   "metadata": {
    "collapsed": false,
    "pycharm": {
     "name": "#%%\n"
    }
   }
  },
  {
   "cell_type": "markdown",
   "source": [
    "Write to CSV for later analysis."
   ],
   "metadata": {
    "collapsed": false,
    "pycharm": {
     "name": "#%% md\n"
    }
   }
  },
  {
   "cell_type": "code",
   "execution_count": 4,
   "outputs": [
    {
     "name": "stdout",
     "text": [
      "(69994, 256)\n69994 None\n"
     ],
     "output_type": "stream"
    }
   ],
   "source": [
    "print(len(file), print(model.docvecs.vectors_docs.shape))\n",
    "vector_df = pd.DataFrame(data=model.docvecs.vectors_docs, columns=[f\"v{i}\" for i in range(256)])\n",
    "conc = pd.concat([file, vector_df], axis=1)\n",
    "conc.to_csv(\"oos-doc2vec.csv\", index=False)\n",
    "# Nominal columns: 1,2,3,4,6,7,10,11,14,15,23"
   ],
   "metadata": {
    "collapsed": false,
    "pycharm": {
     "name": "#%%\n",
     "is_executing": false
    }
   }
  },
  {
   "cell_type": "code",
   "execution_count": 15,
   "outputs": [
    {
     "name": "stdout",
     "text": [
      "[('http://www.arendal.com', 0.9722272753715515),\n ('http://marka-rogatec-kulinarika.si', 0.966809868812561),\n ('http://www.aspcontentmanagement.com', 0.9621041417121887),\n ('https://www.soehnleshop.dk', 0.9612629413604736),\n ('https://minside.sb1kapital.no', 0.9585440158843994),\n ('http://www.wella.no', 0.9576130509376526),\n ('https://radio.disney.com', 0.9575710296630859),\n ('http://faktaark.naturbase.no', 0.9573759436607361),\n ('https://esmart24web.no', 0.955369234085083),\n ('http://www.careerjet.vn', 0.9534828662872314),\n ('http://www.annelisenorheim.no', 0.9525358080863953),\n ('http://global.alltech.com', 0.9525244235992432),\n ('http://www.anycar.com', 0.9523997902870178),\n ('http://www.everycar.vn', 0.951771080493927),\n ('http://www.everycar.com.my', 0.9504650831222534),\n ('https://www.homeaway.tw', 0.9502320885658264),\n ('http://www.sinomach-pi.cn', 0.9489997625350952),\n ('http://www.christianlouboutinredbottoms.com', 0.9488970041275024),\n ('http://gerbergear.co.uk', 0.9479470252990723),\n ('http://www.ec.europa.eu', 0.9476618766784668),\n ('http://www.cieme.org.cn', 0.9475427865982056),\n ('http://www.careerjet.ae', 0.9475414752960205),\n ('http://byggeplass.com', 0.9467676281929016),\n ('http://www.2015louisvuittonoutlet.com', 0.9465572834014893),\n ('http://www.dinosplattsburgh.com', 0.9459404945373535),\n ('https://www.strepsils.com.tw', 0.9457186460494995),\n ('http://broenserud2012.blogspot.dk', 0.9456120133399963),\n ('http://www.everycourse.sg', 0.9452952146530151),\n ('http://www.rennebuelektro.no', 0.9450719356536865),\n ('http://www.billboat.it', 0.9443389177322388)]\n"
     ],
     "output_type": "stream"
    }
   ],
   "source": [
    "# Find low scoring websites that are most similar to high scoring websites.\n",
    "pprint(model.docvecs.most_similar(\n",
    "    positive=[row[\"original_url\"] for i, row in conc.iterrows() if row[\"norvegica_score\"] > 0.5], topn=30))"
   ],
   "metadata": {
    "collapsed": false,
    "pycharm": {
     "name": "#%%\n",
     "is_executing": false
    }
   }
  },
  {
   "cell_type": "markdown",
   "source": [
    "For converting to [TensorFlow embedding projector](https://projector.tensorflow.org/) compatible format"
   ],
   "metadata": {
    "collapsed": false
   }
  },
  {
   "cell_type": "code",
   "execution_count": 13,
   "outputs": [],
   "source": [
    "fn = \"oos-doc2vec.csv\"\n",
    "csv = pd.read_csv(fn, index_col=False)\n",
    "\n",
    "csv = csv.dropna(subset=[f\"v{i}\" for i in range(256)])\n",
    "csv = csv.fillna(\"missing\")\n",
    "\n",
    "filt = \"v\\d+\"\n",
    "vec = csv.filter(regex=filt)\n",
    "meta = csv.drop(vec.columns, axis=1)\n",
    "# meta = meta.drop(\"text\", axis=1)\n",
    "for column in meta:\n",
    "    try:\n",
    "        meta[column] = meta[column].str.replace(\"\\n\", \" \")\n",
    "    except AttributeError:\n",
    "        pass\n",
    "\n",
    "meta = meta.set_index(\"original_url\")\n",
    "\n",
    "vec.to_csv(fn.replace(\".csv\", \"-vec.tsv\"), header=False, sep=\"\\t\", index=False)\n",
    "meta.to_csv(fn.replace(\".csv\", \"-meta.tsv\"), sep=\"\\t\", index=True)"
   ],
   "metadata": {
    "collapsed": false,
    "pycharm": {
     "name": "#%%\n",
     "is_executing": false
    }
   }
  },
  {
   "cell_type": "markdown",
   "source": [
    "For Weka compatibility"
   ],
   "metadata": {
    "collapsed": false,
    "pycharm": {
     "name": "#%% md\n"
    }
   }
  },
  {
   "cell_type": "code",
   "execution_count": 14,
   "outputs": [],
   "source": [
    "import arff\n",
    "conc_notxt = conc.drop(\"text\", axis=1).fillna(\"missing\")\n",
    "arff.dump(\"oos.arff\", conc_notxt.values, \"ooslist\", conc_notxt.columns)\n",
    "# tsv2.reset_index().to_csv(\"oos.csv\", index=False, quotechar=\"`\")"
   ],
   "metadata": {
    "collapsed": false,
    "pycharm": {
     "name": "#%%\n",
     "is_executing": false
    }
   }
  }
 ],
 "metadata": {
  "language_info": {
   "codemirror_mode": {
    "name": "ipython",
    "version": 2
   },
   "file_extension": ".py",
   "mimetype": "text/x-python",
   "name": "python",
   "nbconvert_exporter": "python",
   "pygments_lexer": "ipython2",
   "version": "2.7.6"
  },
  "kernelspec": {
   "name": "python3",
   "language": "python",
   "display_name": "Python 3"
  },
  "pycharm": {
   "stem_cell": {
    "cell_type": "raw",
    "source": [],
    "metadata": {
     "collapsed": false
    }
   }
  }
 },
 "nbformat": 4,
 "nbformat_minor": 0
}