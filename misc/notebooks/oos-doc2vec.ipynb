{
 "cells": [
  {
   "cell_type": "markdown",
   "metadata": {},
   "source": [
    "# Out-of-scope Doc2Vec\n",
    "Creates Doc2Vec representations from the OOS list."
   ]
  },
  {
   "cell_type": "code",
   "execution_count": 1,
   "metadata": {},
   "outputs": [
    {
     "name": "stdout",
     "output_type": "stream",
     "text": [
      "Requirement already satisfied: pandas in /usr/local/lib/python3.6/dist-packages (1.0.4)\n",
      "Requirement already satisfied: gensim in /usr/local/lib/python3.6/dist-packages (3.8.3)\n",
      "Requirement already satisfied: matplotlib in /usr/local/lib/python3.6/dist-packages (3.2.1)\n",
      "Requirement already satisfied: scikit-learn in /usr/local/lib/python3.6/dist-packages (0.23.1)\n",
      "Requirement already satisfied: pycld2 in /usr/local/lib/python3.6/dist-packages (0.41)\n",
      "Requirement already satisfied: beautifulsoup4 in /usr/local/lib/python3.6/dist-packages (4.9.1)\n",
      "Requirement already satisfied: geoip2 in /usr/local/lib/python3.6/dist-packages (3.0.0)\n",
      "Requirement already satisfied: numpy>=1.13.3 in /usr/local/lib/python3.6/dist-packages (from pandas) (1.18.5)\n",
      "Requirement already satisfied: pytz>=2017.2 in /usr/local/lib/python3.6/dist-packages (from pandas) (2020.1)\n",
      "Requirement already satisfied: python-dateutil>=2.6.1 in /usr/local/lib/python3.6/dist-packages (from pandas) (2.8.1)\n",
      "Requirement already satisfied: six>=1.5.0 in /usr/local/lib/python3.6/dist-packages (from gensim) (1.15.0)\n",
      "Requirement already satisfied: smart-open>=1.8.1 in /usr/local/lib/python3.6/dist-packages (from gensim) (2.0.0)\n",
      "Requirement already satisfied: scipy>=0.18.1 in /usr/local/lib/python3.6/dist-packages (from gensim) (1.4.1)\n",
      "Requirement already satisfied: kiwisolver>=1.0.1 in /usr/local/lib/python3.6/dist-packages (from matplotlib) (1.2.0)\n",
      "Requirement already satisfied: cycler>=0.10 in /usr/local/lib/python3.6/dist-packages (from matplotlib) (0.10.0)\n",
      "Requirement already satisfied: pyparsing!=2.0.4,!=2.1.2,!=2.1.6,>=2.0.1 in /usr/local/lib/python3.6/dist-packages (from matplotlib) (2.4.7)\n",
      "Requirement already satisfied: joblib>=0.11 in /usr/local/lib/python3.6/dist-packages (from scikit-learn) (0.15.1)\n",
      "Requirement already satisfied: threadpoolctl>=2.0.0 in /usr/local/lib/python3.6/dist-packages (from scikit-learn) (2.1.0)\n",
      "Requirement already satisfied: soupsieve>1.2 in /usr/local/lib/python3.6/dist-packages (from beautifulsoup4) (2.0.1)\n",
      "Requirement already satisfied: urllib3>=1.25.2 in /usr/local/lib/python3.6/dist-packages (from geoip2) (1.25.9)\n",
      "Requirement already satisfied: requests>=2.22.0 in /usr/local/lib/python3.6/dist-packages (from geoip2) (2.23.0)\n",
      "Requirement already satisfied: maxminddb>=1.5.2 in /usr/local/lib/python3.6/dist-packages (from geoip2) (1.5.4)\n",
      "Requirement already satisfied: boto3 in /usr/local/lib/python3.6/dist-packages (from smart-open>=1.8.1->gensim) (1.14.2)\n",
      "Requirement already satisfied: boto in /usr/local/lib/python3.6/dist-packages (from smart-open>=1.8.1->gensim) (2.49.0)\n",
      "Requirement already satisfied: chardet<4,>=3.0.2 in /usr/local/lib/python3.6/dist-packages (from requests>=2.22.0->geoip2) (3.0.4)\n",
      "Requirement already satisfied: idna<3,>=2.5 in /usr/lib/python3/dist-packages (from requests>=2.22.0->geoip2) (2.6)\n",
      "Requirement already satisfied: certifi>=2017.4.17 in /usr/local/lib/python3.6/dist-packages (from requests>=2.22.0->geoip2) (2020.4.5.2)\n",
      "Requirement already satisfied: botocore<1.18.0,>=1.17.2 in /usr/local/lib/python3.6/dist-packages (from boto3->smart-open>=1.8.1->gensim) (1.17.2)\n",
      "Requirement already satisfied: s3transfer<0.4.0,>=0.3.0 in /usr/local/lib/python3.6/dist-packages (from boto3->smart-open>=1.8.1->gensim) (0.3.3)\n",
      "Requirement already satisfied: jmespath<1.0.0,>=0.7.1 in /usr/local/lib/python3.6/dist-packages (from boto3->smart-open>=1.8.1->gensim) (0.10.0)\n",
      "Requirement already satisfied: docutils<0.16,>=0.10 in /usr/local/lib/python3.6/dist-packages (from botocore<1.18.0,>=1.17.2->boto3->smart-open>=1.8.1->gensim) (0.15.2)\n",
      "Note: you may need to restart the kernel to use updated packages.\n"
     ]
    }
   ],
   "source": [
    "%pip install pandas gensim matplotlib scikit-learn pycld2 beautifulsoup4 geoip2"
   ]
  },
  {
   "cell_type": "code",
   "execution_count": 2,
   "metadata": {
    "pycharm": {
     "is_executing": false,
     "name": "#%%\n"
    }
   },
   "outputs": [],
   "source": [
    "# Imports\n",
    "import re\n",
    "from collections import Counter\n",
    "from pprint import pprint\n",
    "import time\n",
    "\n",
    "import pandas as pd\n",
    "import tensorboard as tb\n",
    "from gensim.models import Doc2Vec\n",
    "from gensim.models.doc2vec import TaggedDocument\n",
    "import numpy as np\n",
    "import matplotlib.pyplot as plt\n",
    "from sklearn.decomposition import PCA\n",
    "from sklearn.manifold import TSNE\n",
    "%load_ext tensorboard"
   ]
  },
  {
   "cell_type": "markdown",
   "metadata": {},
   "source": [
    "Generate Doc2Vec for websites."
   ]
  },
  {
   "cell_type": "code",
   "execution_count": 20,
   "metadata": {},
   "outputs": [
    {
     "data": {
      "text/html": [
       "<div>\n",
       "<style scoped>\n",
       "    .dataframe tbody tr th:only-of-type {\n",
       "        vertical-align: middle;\n",
       "    }\n",
       "\n",
       "    .dataframe tbody tr th {\n",
       "        vertical-align: top;\n",
       "    }\n",
       "\n",
       "    .dataframe thead th {\n",
       "        text-align: right;\n",
       "    }\n",
       "</style>\n",
       "<table border=\"1\" class=\"dataframe\">\n",
       "  <thead>\n",
       "    <tr style=\"text-align: right;\">\n",
       "      <th></th>\n",
       "      <th>timestamp</th>\n",
       "      <th>last_modified</th>\n",
       "      <th>norvegica_score</th>\n",
       "      <th>language.text_bytes_found</th>\n",
       "      <th>language.details.0.percent</th>\n",
       "      <th>language.details.0.score</th>\n",
       "      <th>language.details.1.percent</th>\n",
       "      <th>language.details.1.score</th>\n",
       "      <th>language.details.2.percent</th>\n",
       "      <th>language.details.2.score</th>\n",
       "      <th>...</th>\n",
       "      <th>regex.county.unique</th>\n",
       "      <th>regex.county.total</th>\n",
       "      <th>regex.name.unique</th>\n",
       "      <th>regex.name.total</th>\n",
       "      <th>regex.norway.unique</th>\n",
       "      <th>regex.norway.total</th>\n",
       "      <th>regex.kroner.unique</th>\n",
       "      <th>regex.kroner.total</th>\n",
       "      <th>regex.email.unique</th>\n",
       "      <th>regex.email.total</th>\n",
       "    </tr>\n",
       "  </thead>\n",
       "  <tbody>\n",
       "    <tr>\n",
       "      <th>count</th>\n",
       "      <td>2.721400e+04</td>\n",
       "      <td>2.270000e+03</td>\n",
       "      <td>27214.000000</td>\n",
       "      <td>27214.000000</td>\n",
       "      <td>27214.000000</td>\n",
       "      <td>27214.000000</td>\n",
       "      <td>27214.000000</td>\n",
       "      <td>27214.000000</td>\n",
       "      <td>27214.000000</td>\n",
       "      <td>27214.000000</td>\n",
       "      <td>...</td>\n",
       "      <td>27214.000000</td>\n",
       "      <td>27214.000000</td>\n",
       "      <td>27214.000000</td>\n",
       "      <td>27214.000000</td>\n",
       "      <td>27214.000000</td>\n",
       "      <td>27214.000000</td>\n",
       "      <td>27214.000000</td>\n",
       "      <td>27214.000000</td>\n",
       "      <td>27214.000000</td>\n",
       "      <td>27214.000000</td>\n",
       "    </tr>\n",
       "    <tr>\n",
       "      <th>mean</th>\n",
       "      <td>1.592112e+09</td>\n",
       "      <td>1.588043e+09</td>\n",
       "      <td>0.937532</td>\n",
       "      <td>7189.437238</td>\n",
       "      <td>97.573014</td>\n",
       "      <td>851.390093</td>\n",
       "      <td>0.481774</td>\n",
       "      <td>86.639377</td>\n",
       "      <td>0.016903</td>\n",
       "      <td>5.052326</td>\n",
       "      <td>...</td>\n",
       "      <td>0.978687</td>\n",
       "      <td>2.769383</td>\n",
       "      <td>1.626957</td>\n",
       "      <td>2.159036</td>\n",
       "      <td>0.878592</td>\n",
       "      <td>2.262475</td>\n",
       "      <td>0.714706</td>\n",
       "      <td>0.918094</td>\n",
       "      <td>1.266554</td>\n",
       "      <td>1.375285</td>\n",
       "    </tr>\n",
       "    <tr>\n",
       "      <th>std</th>\n",
       "      <td>9.978555e+04</td>\n",
       "      <td>1.225611e+07</td>\n",
       "      <td>0.093705</td>\n",
       "      <td>8843.155948</td>\n",
       "      <td>8.261505</td>\n",
       "      <td>115.418091</td>\n",
       "      <td>1.907234</td>\n",
       "      <td>248.252908</td>\n",
       "      <td>0.227159</td>\n",
       "      <td>58.412139</td>\n",
       "      <td>...</td>\n",
       "      <td>2.229474</td>\n",
       "      <td>5.768105</td>\n",
       "      <td>2.652187</td>\n",
       "      <td>3.854545</td>\n",
       "      <td>1.035668</td>\n",
       "      <td>4.681814</td>\n",
       "      <td>0.994472</td>\n",
       "      <td>1.479765</td>\n",
       "      <td>2.466729</td>\n",
       "      <td>2.593167</td>\n",
       "    </tr>\n",
       "    <tr>\n",
       "      <th>min</th>\n",
       "      <td>1.591942e+09</td>\n",
       "      <td>1.538043e+09</td>\n",
       "      <td>0.159104</td>\n",
       "      <td>43.000000</td>\n",
       "      <td>0.000000</td>\n",
       "      <td>0.000000</td>\n",
       "      <td>0.000000</td>\n",
       "      <td>0.000000</td>\n",
       "      <td>0.000000</td>\n",
       "      <td>0.000000</td>\n",
       "      <td>...</td>\n",
       "      <td>0.000000</td>\n",
       "      <td>0.000000</td>\n",
       "      <td>0.000000</td>\n",
       "      <td>0.000000</td>\n",
       "      <td>0.000000</td>\n",
       "      <td>0.000000</td>\n",
       "      <td>0.000000</td>\n",
       "      <td>0.000000</td>\n",
       "      <td>0.000000</td>\n",
       "      <td>0.000000</td>\n",
       "    </tr>\n",
       "    <tr>\n",
       "      <th>25%</th>\n",
       "      <td>1.592024e+09</td>\n",
       "      <td>1.591974e+09</td>\n",
       "      <td>0.928056</td>\n",
       "      <td>3001.000000</td>\n",
       "      <td>99.000000</td>\n",
       "      <td>803.000000</td>\n",
       "      <td>0.000000</td>\n",
       "      <td>0.000000</td>\n",
       "      <td>0.000000</td>\n",
       "      <td>0.000000</td>\n",
       "      <td>...</td>\n",
       "      <td>0.000000</td>\n",
       "      <td>0.000000</td>\n",
       "      <td>0.000000</td>\n",
       "      <td>0.000000</td>\n",
       "      <td>0.000000</td>\n",
       "      <td>0.000000</td>\n",
       "      <td>0.000000</td>\n",
       "      <td>0.000000</td>\n",
       "      <td>0.000000</td>\n",
       "      <td>0.000000</td>\n",
       "    </tr>\n",
       "    <tr>\n",
       "      <th>50%</th>\n",
       "      <td>1.592111e+09</td>\n",
       "      <td>1.592078e+09</td>\n",
       "      <td>0.958045</td>\n",
       "      <td>4417.000000</td>\n",
       "      <td>99.000000</td>\n",
       "      <td>859.000000</td>\n",
       "      <td>0.000000</td>\n",
       "      <td>0.000000</td>\n",
       "      <td>0.000000</td>\n",
       "      <td>0.000000</td>\n",
       "      <td>...</td>\n",
       "      <td>1.000000</td>\n",
       "      <td>1.000000</td>\n",
       "      <td>1.000000</td>\n",
       "      <td>1.000000</td>\n",
       "      <td>1.000000</td>\n",
       "      <td>1.000000</td>\n",
       "      <td>0.000000</td>\n",
       "      <td>0.000000</td>\n",
       "      <td>0.000000</td>\n",
       "      <td>0.000000</td>\n",
       "    </tr>\n",
       "    <tr>\n",
       "      <th>75%</th>\n",
       "      <td>1.592197e+09</td>\n",
       "      <td>1.592179e+09</td>\n",
       "      <td>0.975335</td>\n",
       "      <td>8996.000000</td>\n",
       "      <td>99.000000</td>\n",
       "      <td>905.000000</td>\n",
       "      <td>0.000000</td>\n",
       "      <td>0.000000</td>\n",
       "      <td>0.000000</td>\n",
       "      <td>0.000000</td>\n",
       "      <td>...</td>\n",
       "      <td>1.000000</td>\n",
       "      <td>3.000000</td>\n",
       "      <td>2.000000</td>\n",
       "      <td>3.000000</td>\n",
       "      <td>1.000000</td>\n",
       "      <td>2.000000</td>\n",
       "      <td>1.000000</td>\n",
       "      <td>1.000000</td>\n",
       "      <td>2.000000</td>\n",
       "      <td>2.000000</td>\n",
       "    </tr>\n",
       "    <tr>\n",
       "      <th>max</th>\n",
       "      <td>1.592284e+09</td>\n",
       "      <td>1.592291e+09</td>\n",
       "      <td>0.997255</td>\n",
       "      <td>118874.000000</td>\n",
       "      <td>99.000000</td>\n",
       "      <td>3390.000000</td>\n",
       "      <td>22.000000</td>\n",
       "      <td>1752.000000</td>\n",
       "      <td>6.000000</td>\n",
       "      <td>1098.000000</td>\n",
       "      <td>...</td>\n",
       "      <td>37.000000</td>\n",
       "      <td>60.000000</td>\n",
       "      <td>30.000000</td>\n",
       "      <td>39.000000</td>\n",
       "      <td>5.000000</td>\n",
       "      <td>44.000000</td>\n",
       "      <td>9.000000</td>\n",
       "      <td>15.000000</td>\n",
       "      <td>22.000000</td>\n",
       "      <td>23.000000</td>\n",
       "    </tr>\n",
       "  </tbody>\n",
       "</table>\n",
       "<p>8 rows × 25 columns</p>\n",
       "</div>"
      ],
      "text/plain": [
       "          timestamp  last_modified  norvegica_score  \\\n",
       "count  2.721400e+04   2.270000e+03     27214.000000   \n",
       "mean   1.592112e+09   1.588043e+09         0.937532   \n",
       "std    9.978555e+04   1.225611e+07         0.093705   \n",
       "min    1.591942e+09   1.538043e+09         0.159104   \n",
       "25%    1.592024e+09   1.591974e+09         0.928056   \n",
       "50%    1.592111e+09   1.592078e+09         0.958045   \n",
       "75%    1.592197e+09   1.592179e+09         0.975335   \n",
       "max    1.592284e+09   1.592291e+09         0.997255   \n",
       "\n",
       "       language.text_bytes_found  language.details.0.percent  \\\n",
       "count               27214.000000                27214.000000   \n",
       "mean                 7189.437238                   97.573014   \n",
       "std                  8843.155948                    8.261505   \n",
       "min                    43.000000                    0.000000   \n",
       "25%                  3001.000000                   99.000000   \n",
       "50%                  4417.000000                   99.000000   \n",
       "75%                  8996.000000                   99.000000   \n",
       "max                118874.000000                   99.000000   \n",
       "\n",
       "       language.details.0.score  language.details.1.percent  \\\n",
       "count              27214.000000                27214.000000   \n",
       "mean                 851.390093                    0.481774   \n",
       "std                  115.418091                    1.907234   \n",
       "min                    0.000000                    0.000000   \n",
       "25%                  803.000000                    0.000000   \n",
       "50%                  859.000000                    0.000000   \n",
       "75%                  905.000000                    0.000000   \n",
       "max                 3390.000000                   22.000000   \n",
       "\n",
       "       language.details.1.score  language.details.2.percent  \\\n",
       "count              27214.000000                27214.000000   \n",
       "mean                  86.639377                    0.016903   \n",
       "std                  248.252908                    0.227159   \n",
       "min                    0.000000                    0.000000   \n",
       "25%                    0.000000                    0.000000   \n",
       "50%                    0.000000                    0.000000   \n",
       "75%                    0.000000                    0.000000   \n",
       "max                 1752.000000                    6.000000   \n",
       "\n",
       "       language.details.2.score  ...  regex.county.unique  regex.county.total  \\\n",
       "count              27214.000000  ...         27214.000000        27214.000000   \n",
       "mean                   5.052326  ...             0.978687            2.769383   \n",
       "std                   58.412139  ...             2.229474            5.768105   \n",
       "min                    0.000000  ...             0.000000            0.000000   \n",
       "25%                    0.000000  ...             0.000000            0.000000   \n",
       "50%                    0.000000  ...             1.000000            1.000000   \n",
       "75%                    0.000000  ...             1.000000            3.000000   \n",
       "max                 1098.000000  ...            37.000000           60.000000   \n",
       "\n",
       "       regex.name.unique  regex.name.total  regex.norway.unique  \\\n",
       "count       27214.000000      27214.000000         27214.000000   \n",
       "mean            1.626957          2.159036             0.878592   \n",
       "std             2.652187          3.854545             1.035668   \n",
       "min             0.000000          0.000000             0.000000   \n",
       "25%             0.000000          0.000000             0.000000   \n",
       "50%             1.000000          1.000000             1.000000   \n",
       "75%             2.000000          3.000000             1.000000   \n",
       "max            30.000000         39.000000             5.000000   \n",
       "\n",
       "       regex.norway.total  regex.kroner.unique  regex.kroner.total  \\\n",
       "count        27214.000000         27214.000000        27214.000000   \n",
       "mean             2.262475             0.714706            0.918094   \n",
       "std              4.681814             0.994472            1.479765   \n",
       "min              0.000000             0.000000            0.000000   \n",
       "25%              0.000000             0.000000            0.000000   \n",
       "50%              1.000000             0.000000            0.000000   \n",
       "75%              2.000000             1.000000            1.000000   \n",
       "max             44.000000             9.000000           15.000000   \n",
       "\n",
       "       regex.email.unique  regex.email.total  \n",
       "count        27214.000000       27214.000000  \n",
       "mean             1.266554           1.375285  \n",
       "std              2.466729           2.593167  \n",
       "min              0.000000           0.000000  \n",
       "25%              0.000000           0.000000  \n",
       "50%              0.000000           0.000000  \n",
       "75%              2.000000           2.000000  \n",
       "max             22.000000          23.000000  \n",
       "\n",
       "[8 rows x 25 columns]"
      ]
     },
     "execution_count": 20,
     "metadata": {},
     "output_type": "execute_result"
    }
   ],
   "source": [
    "data_path = \"res/news_temp.csv\"\n",
    "file = pd.read_csv(data_path)\n",
    "file.describe()"
   ]
  },
  {
   "cell_type": "code",
   "execution_count": 4,
   "metadata": {},
   "outputs": [
    {
     "name": "stdout",
     "output_type": "stream",
     "text": [
      "283\n"
     ]
    }
   ],
   "source": [
    "print(len(file[\"original_url\"].unique()))"
   ]
  },
  {
   "cell_type": "code",
   "execution_count": 5,
   "metadata": {
    "pycharm": {
     "is_executing": false,
     "name": "#%%\n"
    }
   },
   "outputs": [
    {
     "name": "stdout",
     "output_type": "stream",
     "text": [
      "319.51482605934143\n"
     ]
    }
   ],
   "source": [
    "class TaggedWebpageDocument(object):\n",
    "    def __iter__(self):\n",
    "        for i, row in file.iterrows():\n",
    "            url, text = row[\"original_url\"], str(row[\"text\"]).lower()\n",
    "            words = [c for c in re.split(r\"\\W+\", text) if len(c) > 0]\n",
    "            yield TaggedDocument(words, [f\"{url}@{row['timestamp']}\"])\n",
    "\n",
    "\n",
    "documents = TaggedWebpageDocument()\n",
    "t0 = time.time()\n",
    "model = Doc2Vec(documents, window=7, vector_size=256, workers=4)\n",
    "t1 = time.time()\n",
    "print(t1 - t0)\n",
    "model.save(\"oos-doc2vec\")"
   ]
  },
  {
   "cell_type": "code",
   "execution_count": 6,
   "metadata": {
    "pycharm": {
     "name": "#%%\n"
    }
   },
   "outputs": [],
   "source": [
    "model = Doc2Vec.load(\"oos-doc2vec\")"
   ]
  },
  {
   "cell_type": "markdown",
   "metadata": {},
   "source": [
    "Small tests."
   ]
  },
  {
   "cell_type": "code",
   "execution_count": 8,
   "metadata": {
    "pycharm": {
     "is_executing": false,
     "name": "#%%\n"
    }
   },
   "outputs": [
    {
     "name": "stdout",
     "output_type": "stream",
     "text": [
      "[('http://www.vg.no/@1591945249', 0.8638827800750732),\n",
      " ('http://www.vg.no/@1591948845', 0.8528187274932861),\n",
      " ('http://www.vg.no/@1591952442', 0.7945458889007568),\n",
      " ('http://www.vg.no/@1591956039', 0.7919875383377075),\n",
      " ('http://www.vg.no/@1591959636', 0.7476581931114197),\n",
      " ('http://www.vg.no/@1591963233', 0.7415838837623596),\n",
      " ('http://www.vg.no/@1592006402', 0.7389625310897827),\n",
      " ('http://www.vg.no/@1591999205', 0.7266556024551392),\n",
      " ('http://www.vg.no/@1591966829', 0.7248575091362),\n",
      " ('http://www.vg.no/@1592017196', 0.7197355628013611)]\n",
      "[('http://www.abcnyheter.no/@1591963234', 0.4788393974304199),\n",
      " ('http://www.abcnyheter.no/@1592020796', 0.47651931643486023),\n",
      " ('http://www.abcnyheter.no/@1591992012', 0.47352588176727295),\n",
      " ('http://www.abcnyheter.no/@1591966831', 0.46877190470695496),\n",
      " ('http://www.abcnyheter.no/@1592038789', 0.4674818515777588),\n",
      " ('https://www.klartale.no/@1592042363', 0.46714669466018677),\n",
      " ('https://www.nrk.no/nyheter/@1592143162', 0.4650852084159851),\n",
      " ('https://www.klartale.no/@1591948824', 0.4642580449581146),\n",
      " ('http://www.abcnyheter.no/@1591999207', 0.4573274850845337),\n",
      " ('https://www.klartale.no/@1591966808', 0.45549342036247253)]\n",
      "[('https://www.ranablad.no/@1591945245', 0.8149003982543945),\n",
      " ('https://www.ranablad.no/@1591948841', 0.7805801630020142),\n",
      " ('https://www.ranablad.no/@1591952438', 0.7494176626205444),\n",
      " ('https://www.ranablad.no/@1591956034', 0.7386859655380249),\n",
      " ('https://www.ranablad.no/@1592002799', 0.677057147026062),\n",
      " ('https://www.ranablad.no/@1591963228', 0.6739169359207153),\n",
      " ('https://www.ranablad.no/@1591970422', 0.6606402397155762),\n",
      " ('https://www.ranablad.no/@1591966824', 0.6574787497520447),\n",
      " ('https://www.saltrod.no/@1591991987', 0.6550940275192261),\n",
      " ('https://www.ranablad.no/@1591959632', 0.6541894674301147)]\n"
     ]
    }
   ],
   "source": [
    "pprint(model.docvecs.most_similar(positive=[\"http://www.vg.no/@1591941652\"], topn=10))\n",
    "pprint(model.docvecs.most_similar(positive=[\"https://www.nrk.no/nyheter/@1591941624\"], topn=10))\n",
    "pprint(model.docvecs.most_similar(positive=[\"https://www.ranablad.no/@1591941648\"], topn=10))"
   ]
  },
  {
   "cell_type": "markdown",
   "metadata": {},
   "source": [
    "Run dimensionality reduction."
   ]
  },
  {
   "cell_type": "code",
   "execution_count": 9,
   "metadata": {
    "pycharm": {
     "name": "#%%\n"
    }
   },
   "outputs": [
    {
     "name": "stdout",
     "output_type": "stream",
     "text": [
      "(27214, 256)\n"
     ]
    },
    {
     "data": {
      "image/png": "[encoded data removed]",
      "text/plain": [
       "<Figure size 432x288 with 1 Axes>"
      ]
     },
     "metadata": {
      "needs_background": "light"
     },
     "output_type": "display_data"
    }
   ],
   "source": [
    "pca = PCA()\n",
    "\n",
    "trans = pca.fit_transform(model.docvecs.vectors_docs)\n",
    "\n",
    "print(trans.shape)\n",
    "\n",
    "# Plot explained variance (information kept) vs number of components\n",
    "plt.plot(np.cumsum(pca.explained_variance_ratio_))\n",
    "plt.xlabel('number of components')\n",
    "plt.ylabel('cumulative explained variance')\n",
    "plt.show()"
   ]
  },
  {
   "cell_type": "code",
   "execution_count": null,
   "metadata": {
    "pycharm": {
     "name": "#%%\n"
    }
   },
   "outputs": [],
   "source": [
    "# reduced = TSNE().fit_transform(trans)\n",
    "\n",
    "# np.save(\"veidemann-reduced.npy\", reduced)"
   ]
  },
  {
   "cell_type": "code",
   "execution_count": null,
   "metadata": {
    "pycharm": {
     "name": "#%%\n"
    }
   },
   "outputs": [],
   "source": [
    "# reduced = np.load(\"veidemann-reduced.npy\")\n"
   ]
  },
  {
   "cell_type": "markdown",
   "metadata": {
    "pycharm": {
     "name": "#%% md\n"
    }
   },
   "source": [
    "Write to CSV for later analysis."
   ]
  },
  {
   "cell_type": "code",
   "execution_count": 10,
   "metadata": {
    "pycharm": {
     "is_executing": false,
     "name": "#%%\n"
    }
   },
   "outputs": [
    {
     "name": "stdout",
     "output_type": "stream",
     "text": [
      "27214 (27214, 256)\n"
     ]
    }
   ],
   "source": [
    "print(len(file), model.docvecs.vectors_docs.shape)\n",
    "vector_df = pd.DataFrame(data=model.docvecs.vectors_docs, columns=[f\"v{i}\" for i in range(256)])\n",
    "conc = pd.concat([file, vector_df], axis=1)\n",
    "conc.to_csv(\"oos-doc2vec.csv\", index=False)"
   ]
  },
  {
   "cell_type": "code",
   "execution_count": 11,
   "metadata": {
    "pycharm": {
     "is_executing": false,
     "name": "#%%\n"
    }
   },
   "outputs": [
    {
     "ename": "TypeError",
     "evalue": "'<' not supported between instances of 'str' and 'int'",
     "output_type": "error",
     "traceback": [
      "\u001b[0;31m---------------------------------------------------------------------------\u001b[0m",
      "\u001b[0;31mTypeError\u001b[0m                                 Traceback (most recent call last)",
      "\u001b[0;32m<ipython-input-11-d903e4f3335a>\u001b[0m in \u001b[0;36m<module>\u001b[0;34m\u001b[0m\n\u001b[1;32m      1\u001b[0m \u001b[0;31m# Find low scoring websites that are most similar to high scoring websites.\u001b[0m\u001b[0;34m\u001b[0m\u001b[0;34m\u001b[0m\u001b[0;34m\u001b[0m\u001b[0m\n\u001b[1;32m      2\u001b[0m pprint(model.docvecs.most_similar(\n\u001b[0;32m----> 3\u001b[0;31m     positive=[row[\"original_url\"] for i, row in conc.iterrows() if row[\"norvegica_score\"] > 0.5], topn=30))\n\u001b[0m",
      "\u001b[0;32m/usr/local/lib/python3.6/dist-packages/gensim/models/keyedvectors.py\u001b[0m in \u001b[0;36mmost_similar\u001b[0;34m(self, positive, negative, topn, clip_start, clip_end, indexer)\u001b[0m\n\u001b[1;32m   1726\u001b[0m             \u001b[0;32mif\u001b[0m \u001b[0misinstance\u001b[0m\u001b[0;34m(\u001b[0m\u001b[0mdoc\u001b[0m\u001b[0;34m,\u001b[0m \u001b[0mndarray\u001b[0m\u001b[0;34m)\u001b[0m\u001b[0;34m:\u001b[0m\u001b[0;34m\u001b[0m\u001b[0;34m\u001b[0m\u001b[0m\n\u001b[1;32m   1727\u001b[0m                 \u001b[0mmean\u001b[0m\u001b[0;34m.\u001b[0m\u001b[0mappend\u001b[0m\u001b[0;34m(\u001b[0m\u001b[0mweight\u001b[0m \u001b[0;34m*\u001b[0m \u001b[0mdoc\u001b[0m\u001b[0;34m)\u001b[0m\u001b[0;34m\u001b[0m\u001b[0;34m\u001b[0m\u001b[0m\n\u001b[0;32m-> 1728\u001b[0;31m             \u001b[0;32melif\u001b[0m \u001b[0mdoc\u001b[0m \u001b[0;32min\u001b[0m \u001b[0mself\u001b[0m\u001b[0;34m.\u001b[0m\u001b[0mdoctags\u001b[0m \u001b[0;32mor\u001b[0m \u001b[0mdoc\u001b[0m \u001b[0;34m<\u001b[0m \u001b[0mself\u001b[0m\u001b[0;34m.\u001b[0m\u001b[0mcount\u001b[0m\u001b[0;34m:\u001b[0m\u001b[0;34m\u001b[0m\u001b[0;34m\u001b[0m\u001b[0m\n\u001b[0m\u001b[1;32m   1729\u001b[0m                 \u001b[0mmean\u001b[0m\u001b[0;34m.\u001b[0m\u001b[0mappend\u001b[0m\u001b[0;34m(\u001b[0m\u001b[0mweight\u001b[0m \u001b[0;34m*\u001b[0m \u001b[0mself\u001b[0m\u001b[0;34m.\u001b[0m\u001b[0mvectors_docs_norm\u001b[0m\u001b[0;34m[\u001b[0m\u001b[0mself\u001b[0m\u001b[0;34m.\u001b[0m\u001b[0m_int_index\u001b[0m\u001b[0;34m(\u001b[0m\u001b[0mdoc\u001b[0m\u001b[0;34m,\u001b[0m \u001b[0mself\u001b[0m\u001b[0;34m.\u001b[0m\u001b[0mdoctags\u001b[0m\u001b[0;34m,\u001b[0m \u001b[0mself\u001b[0m\u001b[0;34m.\u001b[0m\u001b[0mmax_rawint\u001b[0m\u001b[0;34m)\u001b[0m\u001b[0;34m]\u001b[0m\u001b[0;34m)\u001b[0m\u001b[0;34m\u001b[0m\u001b[0;34m\u001b[0m\u001b[0m\n\u001b[1;32m   1730\u001b[0m                 \u001b[0mall_docs\u001b[0m\u001b[0;34m.\u001b[0m\u001b[0madd\u001b[0m\u001b[0;34m(\u001b[0m\u001b[0mself\u001b[0m\u001b[0;34m.\u001b[0m\u001b[0m_int_index\u001b[0m\u001b[0;34m(\u001b[0m\u001b[0mdoc\u001b[0m\u001b[0;34m,\u001b[0m \u001b[0mself\u001b[0m\u001b[0;34m.\u001b[0m\u001b[0mdoctags\u001b[0m\u001b[0;34m,\u001b[0m \u001b[0mself\u001b[0m\u001b[0;34m.\u001b[0m\u001b[0mmax_rawint\u001b[0m\u001b[0;34m)\u001b[0m\u001b[0;34m)\u001b[0m\u001b[0;34m\u001b[0m\u001b[0;34m\u001b[0m\u001b[0m\n",
      "\u001b[0;31mTypeError\u001b[0m: '<' not supported between instances of 'str' and 'int'"
     ]
    }
   ],
   "source": [
    "# Find low scoring websites that are most similar to high scoring websites.\n",
    "# pprint(model.docvecs.most_similar(\n",
    "#     positive=[row[\"original_url\"] for i, row in conc.iterrows() if row[\"norvegica_score\"] > 0.5], topn=30))"
   ]
  },
  {
   "cell_type": "markdown",
   "metadata": {},
   "source": [
    "For converting to [TensorFlow embedding projector](https://projector.tensorflow.org/) compatible format"
   ]
  },
  {
   "cell_type": "code",
   "execution_count": 12,
   "metadata": {
    "pycharm": {
     "is_executing": false,
     "name": "#%%\n"
    }
   },
   "outputs": [],
   "source": [
    "fn = \"oos-doc2vec.csv\"\n",
    "csv = pd.read_csv(fn, index_col=False)\n",
    "\n",
    "csv = csv.dropna(subset=[f\"v{i}\" for i in range(256)])\n",
    "csv = csv.fillna(\"missing\")\n",
    "\n",
    "filt = \"v\\d+\"\n",
    "vec = csv.filter(regex=filt)\n",
    "meta = csv.drop(vec.columns, axis=1)\n",
    "# meta = meta.drop(\"text\", axis=1)\n",
    "for column in meta:\n",
    "    try:\n",
    "        meta[column] = meta[column].str.replace(\"\\n\", \" \")\n",
    "    except AttributeError:\n",
    "        pass\n",
    "\n",
    "meta = meta.set_index(\"original_url\")\n",
    "\n",
    "vec.to_csv(fn.replace(\".csv\", \"-vec.tsv\"), header=False, sep=\"\\t\", index=False)\n",
    "meta.to_csv(fn.replace(\".csv\", \"-meta.tsv\"), sep=\"\\t\", index=True)"
   ]
  },
  {
   "cell_type": "code",
   "execution_count": 18,
   "metadata": {},
   "outputs": [
    {
     "data": {
      "text/html": [
       "\n",
       "      <iframe id=\"tensorboard-frame-c53ae78c82ed0cab\" width=\"100%\" height=\"800\" frameborder=\"0\">\n",
       "      </iframe>\n",
       "      <script>\n",
       "        (function() {\n",
       "          const frame = document.getElementById(\"tensorboard-frame-c53ae78c82ed0cab\");\n",
       "          const url = new URL(\"https://stage.nettarkivet.nb.no/tensorboard/\", window.location);\n",
       "          const port = 0;\n",
       "          if (port) {\n",
       "            url.port = port;\n",
       "          }\n",
       "          frame.src = url;\n",
       "        })();\n",
       "      </script>\n",
       "    "
      ],
      "text/plain": [
       "<IPython.core.display.HTML object>"
      ]
     },
     "metadata": {},
     "output_type": "display_data"
    }
   ],
   "source": [
    "%tensorboard --bind_all --logdir logs --path_prefix /tensorboard"
   ]
  },
  {
   "cell_type": "code",
   "execution_count": 17,
   "metadata": {},
   "outputs": [],
   "source": [
    "# !kill 1573"
   ]
  },
  {
   "cell_type": "code",
   "execution_count": 19,
   "metadata": {},
   "outputs": [],
   "source": [
    "import os\n",
    "import tensorflow as tf\n",
    "from tensorboard.plugins import projector\n",
    "log_dir = \"logs\"\n",
    "weights = tf.Variable(model.docvecs.vectors_docs)\n",
    "checkpoint = tf.train.Checkpoint(embedding=weights)\n",
    "checkpoint.save(os.path.join(log_dir, \"embedding.ckpt\"))\n",
    "\n",
    "config = projector.ProjectorConfig()\n",
    "embedding = config.embeddings.add()\n",
    "embedding.tensor_name = \"embedding/.ATTRIBUTES/VARIABLE_VALUE\"\n",
    "embedding.metadata_path = '../oos-doc2vec-meta.tsv'\n",
    "projector.visualize_embeddings(log_dir, config)"
   ]
  },
  {
   "cell_type": "code",
   "execution_count": null,
   "metadata": {},
   "outputs": [],
   "source": [
    "%config IPCompleter.greedy=True"
   ]
  },
  {
   "cell_type": "markdown",
   "metadata": {
    "pycharm": {
     "name": "#%% md\n"
    }
   },
   "source": [
    "For Weka compatibility"
   ]
  },
  {
   "cell_type": "code",
   "execution_count": null,
   "metadata": {
    "pycharm": {
     "is_executing": false,
     "name": "#%%\n"
    }
   },
   "outputs": [],
   "source": [
    "import arff\n",
    "conc_notxt = conc.drop(\"text\", axis=1).fillna(\"missing\")\n",
    "arff.dump(\"oos.arff\", conc_notxt.values, \"ooslist\", conc_notxt.columns)"
   ]
  },
  {
   "cell_type": "markdown",
   "metadata": {
    "pycharm": {
     "name": "#%% md\n"
    }
   },
   "source": [
    "Generate bar charts and histograms for DataFrame"
   ]
  },
  {
   "cell_type": "code",
   "execution_count": null,
   "metadata": {
    "pycharm": {
     "is_executing": false,
     "name": "#%%\n"
    }
   },
   "outputs": [],
   "source": [
    "nominal = (1,2,3,4,6,7,10,11,14,15,23)\n",
    "\n",
    "for index in range(len(meta.columns)):\n",
    "    column = meta.iloc[:, index]\n",
    "    if index+1 not in nominal:\n",
    "        if column.dtype == np.float64:\n",
    "            chart = plt.hist(column.values, bins=101, bottom=0)\n",
    "        elif column.dtype == np.int64:\n",
    "            chart = plt.hist(column.values, bins=min(max(column.values)+1, 101), bottom=0)\n",
    "        else:\n",
    "            continue\n",
    "    else: \n",
    "        counter = Counter(column)\n",
    "        labels, values = zip(*counter.most_common(20))\n",
    "        indexes = np.arange(len(labels))\n",
    "        width=1\n",
    "        chart = plt.bar(indexes, values, width)\n",
    "        plt.xticks(indexes, labels, rotation=90)\n",
    "    plt.semilogy()\n",
    "    plt.suptitle(column.name, y=0.95)\n",
    "    # plt.tight_layout()\n",
    "    plt.savefig(f\"{column.name}.png\", bbox_inches=\"tight\")\n",
    "    plt.clf()"
   ]
  },
  {
   "cell_type": "code",
   "execution_count": null,
   "metadata": {},
   "outputs": [],
   "source": [
    "from urllib import request\n",
    "import json\n",
    "r = request.urlopen(\"http://veidemann-health-check-api:80/health\")\n",
    "print(json.dumps(json.loads(r.read()), indent=1))"
   ]
  }
 ],
 "metadata": {
  "kernelspec": {
   "display_name": "Python 3",
   "language": "python",
   "name": "python3"
  },
  "language_info": {
   "codemirror_mode": {
    "name": "ipython",
    "version": 3
   },
   "file_extension": ".py",
   "mimetype": "text/x-python",
   "name": "python",
   "nbconvert_exporter": "python",
   "pygments_lexer": "ipython3",
   "version": "3.6.9"
  },
  "pycharm": {
   "stem_cell": {
    "cell_type": "raw",
    "metadata": {
     "collapsed": false
    },
    "source": []
   }
  }
 },
 "nbformat": 4,
 "nbformat_minor": 1
}
