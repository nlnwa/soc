{
 "cells": [
  {
   "cell_type": "code",
   "execution_count": 1,
   "metadata": {},
   "outputs": [],
   "source": [
    "import math\n",
    "import re\n",
    "from collections import Counter\n",
    "\n",
    "import pandas as pd\n",
    "import matplotlib.pyplot as plt\n",
    "\n",
    "from scipy.optimize import curve_fit, least_squares\n",
    "from sklearn.metrics import mean_squared_error, r2_score\n",
    "import numpy as np\n",
    "import functools\n",
    "import multiprocessing\n",
    "import difflib"
   ]
  },
  {
   "cell_type": "code",
   "execution_count": 2,
   "metadata": {
    "pycharm": {
     "name": "#%%\n"
    }
   },
   "outputs": [
    {
     "data": {
      "text/html": [
       "<div>\n",
       "<style scoped>\n",
       "    .dataframe tbody tr th:only-of-type {\n",
       "        vertical-align: middle;\n",
       "    }\n",
       "\n",
       "    .dataframe tbody tr th {\n",
       "        vertical-align: top;\n",
       "    }\n",
       "\n",
       "    .dataframe thead th {\n",
       "        text-align: right;\n",
       "    }\n",
       "</style>\n",
       "<table border=\"1\" class=\"dataframe\">\n",
       "  <thead>\n",
       "    <tr style=\"text-align: right;\">\n",
       "      <th></th>\n",
       "      <th>Unnamed: 0</th>\n",
       "      <th>timestamp</th>\n",
       "      <th>norvegica_score</th>\n",
       "      <th>language.text_bytes_found</th>\n",
       "      <th>language.details.0.percent</th>\n",
       "      <th>language.details.0.score</th>\n",
       "      <th>language.details.1.percent</th>\n",
       "      <th>language.details.1.score</th>\n",
       "      <th>language.details.2.percent</th>\n",
       "      <th>language.details.2.score</th>\n",
       "      <th>...</th>\n",
       "      <th>regex.county.unique</th>\n",
       "      <th>regex.county.total</th>\n",
       "      <th>regex.name.unique</th>\n",
       "      <th>regex.name.total</th>\n",
       "      <th>regex.norway.unique</th>\n",
       "      <th>regex.norway.total</th>\n",
       "      <th>regex.kroner.unique</th>\n",
       "      <th>regex.kroner.total</th>\n",
       "      <th>regex.email.unique</th>\n",
       "      <th>regex.email.total</th>\n",
       "    </tr>\n",
       "  </thead>\n",
       "  <tbody>\n",
       "    <tr>\n",
       "      <th>count</th>\n",
       "      <td>31080.000000</td>\n",
       "      <td>3.108000e+04</td>\n",
       "      <td>31080.000000</td>\n",
       "      <td>31080.000000</td>\n",
       "      <td>31080.000000</td>\n",
       "      <td>31080.000000</td>\n",
       "      <td>31080.000000</td>\n",
       "      <td>31080.000000</td>\n",
       "      <td>31080.000000</td>\n",
       "      <td>31080.000000</td>\n",
       "      <td>...</td>\n",
       "      <td>31080.000000</td>\n",
       "      <td>31080.000000</td>\n",
       "      <td>31080.000000</td>\n",
       "      <td>31080.000000</td>\n",
       "      <td>31080.000000</td>\n",
       "      <td>31080.000000</td>\n",
       "      <td>31080.000000</td>\n",
       "      <td>31080.000000</td>\n",
       "      <td>31080.000000</td>\n",
       "      <td>31080.000000</td>\n",
       "    </tr>\n",
       "    <tr>\n",
       "      <th>mean</th>\n",
       "      <td>45320.922555</td>\n",
       "      <td>1.587886e+09</td>\n",
       "      <td>0.950073</td>\n",
       "      <td>9085.293855</td>\n",
       "      <td>96.518790</td>\n",
       "      <td>826.540283</td>\n",
       "      <td>0.828861</td>\n",
       "      <td>122.802156</td>\n",
       "      <td>0.075064</td>\n",
       "      <td>11.359202</td>\n",
       "      <td>...</td>\n",
       "      <td>1.369723</td>\n",
       "      <td>3.930534</td>\n",
       "      <td>1.859202</td>\n",
       "      <td>2.499614</td>\n",
       "      <td>1.256821</td>\n",
       "      <td>3.944981</td>\n",
       "      <td>0.636486</td>\n",
       "      <td>0.858977</td>\n",
       "      <td>1.247072</td>\n",
       "      <td>1.359459</td>\n",
       "    </tr>\n",
       "    <tr>\n",
       "      <th>std</th>\n",
       "      <td>29097.739147</td>\n",
       "      <td>1.938948e+06</td>\n",
       "      <td>0.042613</td>\n",
       "      <td>11679.092760</td>\n",
       "      <td>11.648883</td>\n",
       "      <td>128.222696</td>\n",
       "      <td>3.096030</td>\n",
       "      <td>300.465196</td>\n",
       "      <td>0.739544</td>\n",
       "      <td>101.862492</td>\n",
       "      <td>...</td>\n",
       "      <td>3.427866</td>\n",
       "      <td>7.690205</td>\n",
       "      <td>3.170843</td>\n",
       "      <td>4.371765</td>\n",
       "      <td>1.144335</td>\n",
       "      <td>7.178043</td>\n",
       "      <td>1.026171</td>\n",
       "      <td>1.641479</td>\n",
       "      <td>2.235152</td>\n",
       "      <td>2.356825</td>\n",
       "    </tr>\n",
       "    <tr>\n",
       "      <th>min</th>\n",
       "      <td>0.000000</td>\n",
       "      <td>1.584097e+09</td>\n",
       "      <td>0.000000</td>\n",
       "      <td>11.000000</td>\n",
       "      <td>0.000000</td>\n",
       "      <td>0.000000</td>\n",
       "      <td>0.000000</td>\n",
       "      <td>0.000000</td>\n",
       "      <td>0.000000</td>\n",
       "      <td>0.000000</td>\n",
       "      <td>...</td>\n",
       "      <td>0.000000</td>\n",
       "      <td>0.000000</td>\n",
       "      <td>0.000000</td>\n",
       "      <td>0.000000</td>\n",
       "      <td>0.000000</td>\n",
       "      <td>0.000000</td>\n",
       "      <td>0.000000</td>\n",
       "      <td>0.000000</td>\n",
       "      <td>0.000000</td>\n",
       "      <td>0.000000</td>\n",
       "    </tr>\n",
       "    <tr>\n",
       "      <th>25%</th>\n",
       "      <td>20788.750000</td>\n",
       "      <td>1.586118e+09</td>\n",
       "      <td>0.937500</td>\n",
       "      <td>3584.000000</td>\n",
       "      <td>99.000000</td>\n",
       "      <td>784.000000</td>\n",
       "      <td>0.000000</td>\n",
       "      <td>0.000000</td>\n",
       "      <td>0.000000</td>\n",
       "      <td>0.000000</td>\n",
       "      <td>...</td>\n",
       "      <td>0.000000</td>\n",
       "      <td>0.000000</td>\n",
       "      <td>0.000000</td>\n",
       "      <td>0.000000</td>\n",
       "      <td>0.000000</td>\n",
       "      <td>0.000000</td>\n",
       "      <td>0.000000</td>\n",
       "      <td>0.000000</td>\n",
       "      <td>0.000000</td>\n",
       "      <td>0.000000</td>\n",
       "    </tr>\n",
       "    <tr>\n",
       "      <th>50%</th>\n",
       "      <td>41213.500000</td>\n",
       "      <td>1.587825e+09</td>\n",
       "      <td>0.962595</td>\n",
       "      <td>6170.500000</td>\n",
       "      <td>99.000000</td>\n",
       "      <td>836.000000</td>\n",
       "      <td>0.000000</td>\n",
       "      <td>0.000000</td>\n",
       "      <td>0.000000</td>\n",
       "      <td>0.000000</td>\n",
       "      <td>...</td>\n",
       "      <td>1.000000</td>\n",
       "      <td>1.000000</td>\n",
       "      <td>1.000000</td>\n",
       "      <td>1.000000</td>\n",
       "      <td>1.000000</td>\n",
       "      <td>1.000000</td>\n",
       "      <td>0.000000</td>\n",
       "      <td>0.000000</td>\n",
       "      <td>1.000000</td>\n",
       "      <td>1.000000</td>\n",
       "    </tr>\n",
       "    <tr>\n",
       "      <th>75%</th>\n",
       "      <td>67903.500000</td>\n",
       "      <td>1.589609e+09</td>\n",
       "      <td>0.978654</td>\n",
       "      <td>11096.250000</td>\n",
       "      <td>99.000000</td>\n",
       "      <td>884.000000</td>\n",
       "      <td>0.000000</td>\n",
       "      <td>0.000000</td>\n",
       "      <td>0.000000</td>\n",
       "      <td>0.000000</td>\n",
       "      <td>...</td>\n",
       "      <td>1.000000</td>\n",
       "      <td>4.000000</td>\n",
       "      <td>2.000000</td>\n",
       "      <td>3.000000</td>\n",
       "      <td>2.000000</td>\n",
       "      <td>5.000000</td>\n",
       "      <td>1.000000</td>\n",
       "      <td>1.000000</td>\n",
       "      <td>1.000000</td>\n",
       "      <td>2.000000</td>\n",
       "    </tr>\n",
       "    <tr>\n",
       "      <th>max</th>\n",
       "      <td>105072.000000</td>\n",
       "      <td>1.591085e+09</td>\n",
       "      <td>0.996367</td>\n",
       "      <td>142032.000000</td>\n",
       "      <td>99.000000</td>\n",
       "      <td>4100.000000</td>\n",
       "      <td>48.000000</td>\n",
       "      <td>6702.000000</td>\n",
       "      <td>12.000000</td>\n",
       "      <td>5617.000000</td>\n",
       "      <td>...</td>\n",
       "      <td>37.000000</td>\n",
       "      <td>60.000000</td>\n",
       "      <td>33.000000</td>\n",
       "      <td>41.000000</td>\n",
       "      <td>5.000000</td>\n",
       "      <td>74.000000</td>\n",
       "      <td>12.000000</td>\n",
       "      <td>19.000000</td>\n",
       "      <td>21.000000</td>\n",
       "      <td>21.000000</td>\n",
       "    </tr>\n",
       "  </tbody>\n",
       "</table>\n",
       "<p>8 rows × 25 columns</p>\n",
       "</div>"
      ],
      "text/plain": [
       "          Unnamed: 0     timestamp  norvegica_score  \\\n",
       "count   31080.000000  3.108000e+04     31080.000000   \n",
       "mean    45320.922555  1.587886e+09         0.950073   \n",
       "std     29097.739147  1.938948e+06         0.042613   \n",
       "min         0.000000  1.584097e+09         0.000000   \n",
       "25%     20788.750000  1.586118e+09         0.937500   \n",
       "50%     41213.500000  1.587825e+09         0.962595   \n",
       "75%     67903.500000  1.589609e+09         0.978654   \n",
       "max    105072.000000  1.591085e+09         0.996367   \n",
       "\n",
       "       language.text_bytes_found  language.details.0.percent  \\\n",
       "count               31080.000000                31080.000000   \n",
       "mean                 9085.293855                   96.518790   \n",
       "std                 11679.092760                   11.648883   \n",
       "min                    11.000000                    0.000000   \n",
       "25%                  3584.000000                   99.000000   \n",
       "50%                  6170.500000                   99.000000   \n",
       "75%                 11096.250000                   99.000000   \n",
       "max                142032.000000                   99.000000   \n",
       "\n",
       "       language.details.0.score  language.details.1.percent  \\\n",
       "count              31080.000000                31080.000000   \n",
       "mean                 826.540283                    0.828861   \n",
       "std                  128.222696                    3.096030   \n",
       "min                    0.000000                    0.000000   \n",
       "25%                  784.000000                    0.000000   \n",
       "50%                  836.000000                    0.000000   \n",
       "75%                  884.000000                    0.000000   \n",
       "max                 4100.000000                   48.000000   \n",
       "\n",
       "       language.details.1.score  language.details.2.percent  \\\n",
       "count              31080.000000                31080.000000   \n",
       "mean                 122.802156                    0.075064   \n",
       "std                  300.465196                    0.739544   \n",
       "min                    0.000000                    0.000000   \n",
       "25%                    0.000000                    0.000000   \n",
       "50%                    0.000000                    0.000000   \n",
       "75%                    0.000000                    0.000000   \n",
       "max                 6702.000000                   12.000000   \n",
       "\n",
       "       language.details.2.score  ...  regex.county.unique  regex.county.total  \\\n",
       "count              31080.000000  ...         31080.000000        31080.000000   \n",
       "mean                  11.359202  ...             1.369723            3.930534   \n",
       "std                  101.862492  ...             3.427866            7.690205   \n",
       "min                    0.000000  ...             0.000000            0.000000   \n",
       "25%                    0.000000  ...             0.000000            0.000000   \n",
       "50%                    0.000000  ...             1.000000            1.000000   \n",
       "75%                    0.000000  ...             1.000000            4.000000   \n",
       "max                 5617.000000  ...            37.000000           60.000000   \n",
       "\n",
       "       regex.name.unique  regex.name.total  regex.norway.unique  \\\n",
       "count       31080.000000      31080.000000         31080.000000   \n",
       "mean            1.859202          2.499614             1.256821   \n",
       "std             3.170843          4.371765             1.144335   \n",
       "min             0.000000          0.000000             0.000000   \n",
       "25%             0.000000          0.000000             0.000000   \n",
       "50%             1.000000          1.000000             1.000000   \n",
       "75%             2.000000          3.000000             2.000000   \n",
       "max            33.000000         41.000000             5.000000   \n",
       "\n",
       "       regex.norway.total  regex.kroner.unique  regex.kroner.total  \\\n",
       "count        31080.000000         31080.000000        31080.000000   \n",
       "mean             3.944981             0.636486            0.858977   \n",
       "std              7.178043             1.026171            1.641479   \n",
       "min              0.000000             0.000000            0.000000   \n",
       "25%              0.000000             0.000000            0.000000   \n",
       "50%              1.000000             0.000000            0.000000   \n",
       "75%              5.000000             1.000000            1.000000   \n",
       "max             74.000000            12.000000           19.000000   \n",
       "\n",
       "       regex.email.unique  regex.email.total  \n",
       "count        31080.000000       31080.000000  \n",
       "mean             1.247072           1.359459  \n",
       "std              2.235152           2.356825  \n",
       "min              0.000000           0.000000  \n",
       "25%              0.000000           0.000000  \n",
       "50%              1.000000           1.000000  \n",
       "75%              1.000000           2.000000  \n",
       "max             21.000000          21.000000  \n",
       "\n",
       "[8 rows x 25 columns]"
      ]
     },
     "execution_count": 2,
     "metadata": {},
     "output_type": "execute_result"
    }
   ],
   "source": [
    "news = pd.read_csv(\"res/warc_pages.csv\")\n",
    "# news = pd.concat((news, pd.read_csv(\"res/news2_temp.csv\")))\n",
    "news = news[news[\"text\"].notna()]\n",
    "news[\"original_url\"] = news[\"original_url\"].str.strip()\n",
    "news = news[~news[\"original_url\"].isin({\"https://sero.gcloud.api.no:443/\", \"http://sero.gcloud.api.no/\"})]\n",
    "news = news.groupby(\"original_url\").filter(lambda x: len(x) >= 100)\n",
    "news = news.sort_values(\"timestamp\")\n",
    "news.describe()"
   ]
  },
  {
   "cell_type": "code",
   "execution_count": 3,
   "metadata": {
    "pycharm": {
     "name": "#%%\n"
    }
   },
   "outputs": [],
   "source": [
    "schemes = [\"dice\", \"cosine\", \"jaccard\"]\n",
    "\n",
    "def similarity_coeffs(A, B):\n",
    "    intersect = A & B\n",
    "    absA = sum(A.values())\n",
    "    absB = sum(B.values())\n",
    "    absI = sum(intersect.values())\n",
    "    dice = 2 * absI / (absA + absB)\n",
    "    cosine = absI / (math.sqrt(absA * absB))\n",
    "    jacc = absI / (absA + absB - absI)\n",
    "    return dice, cosine, jacc\n",
    "\n",
    "def get_all_diffs(df, adjust=False):\n",
    "    diffs = {\n",
    "        scheme: np.eye(len(df) or None, dtype=float)\n",
    "        for scheme in schemes\n",
    "    }\n",
    "    counters = [Counter(re.split(\"\\\\W+\", s.lower())) for s in df[\"text\"]]\n",
    "#     const = functools.reduce(Counter.__and__, counters) if adjust else Counter()\n",
    "    for i, c1 in enumerate(counters):\n",
    "        for j, c2 in enumerate(counters[:i]):\n",
    "            sims = similarity_coeffs(c1, c2)\n",
    "            for scheme, sim in zip(schemes, sims):\n",
    "                diffs[scheme][i][j] = sim\n",
    "                diffs[scheme][j][i] = sim\n",
    "    return diffs\n",
    "\n",
    "def g(x, a, b):\n",
    "    x = np.abs(x)\n",
    "#     return (1 - c) / (b * x + 1) + c\n",
    "#     return (1-a) * ((1-b) * c ** x + b * d ** x) + a\n",
    "#     return b ** x\n",
    "#     return b / (x + b)\n",
    "#     return (1-a) / (1 + (1/b-1) * x) + a\n",
    "#     return (1 + a * (1/b - 1) * x) / (1 + (1/b - 1) * x)\n",
    "#     return 1 / (a * x / (b + x) + 1)\n",
    "    return 1 / (a * np.log1p(b*x) + 1)\n",
    "\n",
    "def get_params(diffs, timestamps):\n",
    "    params = {}\n",
    "    fitness = {}\n",
    "    xg = np.array([(ts1 - ts0) / 3600 for ts0 in timestamps for ts1 in timestamps])\n",
    "    for scheme, diff in diffs.items():\n",
    "        yg = diff.flatten()\n",
    "        g_params = curve_fit(g, xg, yg, p0=[1, 1], bounds=(0, np.inf), maxfev=1000)[0]\n",
    "        params[scheme] = g_params\n",
    "        fitness[scheme] = {\n",
    "            \"r2\": r2_score(yg, g(xg, *g_params)),\n",
    "            \"mse\": mean_squared_error(yg, g(xg, *g_params))\n",
    "        }\n",
    "    return params, fitness\n",
    "\n",
    "def get_info(website):\n",
    "    df = news[news[\"original_url\"] == website]\n",
    "    diffs = get_all_diffs(df)\n",
    "    params, fitness = get_params(diffs, df[\"timestamp\"].array)\n",
    "    \n",
    "    info = {\n",
    "        scheme: {\n",
    "            \"diffs\": diffs[scheme],\n",
    "            \"params\": params[scheme],\n",
    "            \"fitness\": fitness[scheme]\n",
    "        } for scheme in schemes\n",
    "    }\n",
    "    info[\"timestamps\"] = df[\"timestamp\"].array\n",
    "    return info\n",
    "\n",
    "def div_diff(t1, t2):\n",
    "#     t1, t2 = t1.split(\"\\t\"), t2.split(\"\\t\")\n",
    "    chars = \" +-?\"\n",
    "    sets = set(), set(), set(), set()  # same, added, removed, neither\n",
    "    for comp in difflib.Differ().compare(t1, t2):\n",
    "        line = comp[2:]\n",
    "        first = comp[0]\n",
    "        for c, s in zip(chars, sets):\n",
    "            if first == c:\n",
    "                s.add(line)\n",
    "                break\n",
    "    return sets\n",
    "\n",
    "def foo(arg):\n",
    "    split, c1 = arg\n",
    "    sims = []\n",
    "    for j, c2 in enumerate(split):\n",
    "        s, a, r, n = div_diff(c1, c2)\n",
    "        changes = len(a-r)\n",
    "        sim = 1 - changes / (len(s) + changes)\n",
    "#             diffs[i][j] = sim\n",
    "#             diffs[j][i] = sim\n",
    "        sims.append(sim)\n",
    "    return sims\n",
    "\n",
    "def get_div_diffs(website):\n",
    "    df = news[news[\"original_url\"] == website]\n",
    "    diffs = np.eye(len(df) or None, dtype=float)\n",
    "    splits = [s.split(\"\\t\") for s in df[\"text\"]]\n",
    "#     const = functools.reduce(Counter.__and__, counters) if adjust else Counter()\n",
    "#     print(len(splits))\n",
    "    diffs = []\n",
    "    s1 = splits[len(splits) // 4]\n",
    "    for s2 in splits:\n",
    "        s, a, r, n = div_diff(s1, s2)\n",
    "        changes = len(a-r)\n",
    "        sim = 1 - changes / (len(s) + changes)\n",
    "        diffs.append(sim)\n",
    "\n",
    "    return diffs\n"
   ]
  },
  {
   "cell_type": "code",
   "execution_count": 4,
   "metadata": {},
   "outputs": [],
   "source": [
    "pool = multiprocessing.Pool(6)\n",
    "names = news[\"original_url\"].unique()\n",
    "info_dict = dict(zip(names, pool.map(get_info, names)))\n",
    "pool.close()\n",
    "# info_dict = {\n",
    "#     ws: get_info(ws)\n",
    "#     for ws in news[\"original_url\"].unique()\n",
    "# }"
   ]
  },
  {
   "cell_type": "code",
   "execution_count": 5,
   "metadata": {
    "pycharm": {
     "is_executing": true,
     "name": "#%%\n"
    }
   },
   "outputs": [
    {
     "data": {
      "image/png": "[encoded data removed]",
      "text/plain": [
       "<Figure size 432x288 with 1 Axes>"
      ]
     },
     "metadata": {
      "needs_background": "light"
     },
     "output_type": "display_data"
    }
   ],
   "source": [
    "vals = [info_dict[ws][\"jaccard\"][\"fitness\"][\"r2\"] for ws in info_dict]\n",
    "# plt.hist(vals)\n",
    "pd.DataFrame(vals, columns=[\"diff\"]).plot.kde()\n",
    "plt.savefig(\"density.png\")"
   ]
  },
  {
   "cell_type": "code",
   "execution_count": 15,
   "metadata": {},
   "outputs": [
    {
     "name": "stdout",
     "output_type": "stream",
     "text": [
      "{'cosine': {'fitness': {'mse': 0.0004273357888198204, 'r2': 0.9016069608545456},\n",
      "            'params': array([0.15337925, 1.07165036])},\n",
      " 'dice': {'fitness': {'mse': 0.00042857240392832417, 'r2': 0.9013748378267545},\n",
      "          'params': array([0.15352606, 1.07250164])},\n",
      " 'jaccard': {'fitness': {'mse': 0.0004815791552915215,\n",
      "                         'r2': 0.9158466164592328},\n",
      "             'params': array([0.3302604 , 0.71404562])}}\n"
     ]
    },
    {
     "data": {
      "image/png": "[encoded data removed]",
      "text/plain": [
       "<Figure size 432x288 with 1 Axes>"
      ]
     },
     "metadata": {
      "needs_background": "light"
     },
     "output_type": "display_data"
    }
   ],
   "source": [
    "from pprint import pprint\n",
    "\n",
    "def plot(site, skip, scheme=\"cosine\"):\n",
    "    stamps = info_dict[site][\"timestamps\"]\n",
    "    stamps = np.array((stamps - stamps[0]) / 3600)\n",
    "    params = info_dict[site][scheme][\"params\"]\n",
    "    diffs = info_dict[site][scheme][\"diffs\"]\n",
    "    [plt.plot(stamps, diffs[i], color=\"blue\") for i in range(0, len(diffs), skip)]\n",
    "    [plt.plot(np.arange(stamps[0], stamps[-1], 0.01), g(np.arange(-stamps[i], stamps[-1]-stamps[i], 0.01), *params), color=\"orange\") \n",
    "         for i in range(0, len(diffs), skip)]\n",
    "    plt.title(site)\n",
    "    plt.xlabel(\"Hours\")\n",
    "    plt.ylabel(\"Similarity\")\n",
    "    plt.show()\n",
    "get = \"https://www.vg.no:443/\"\n",
    "pprint({scheme: {k: info_dict[get][scheme][k] for k in info_dict[get][scheme] if k != \"diffs\"} for scheme in schemes})\n",
    "# print(info_dict[get][\"timestamps\"][1:]-info_dict[get][\"timestamps\"][:-1])\n",
    "plot(get, 16, \"jaccard\")"
   ]
  },
  {
   "cell_type": "code",
   "execution_count": 7,
   "metadata": {},
   "outputs": [
    {
     "name": "stdout",
     "output_type": "stream",
     "text": [
      "[('http://www.norwaypost.no/', 0.9999994626149431), ('https://meloyavisa.no:443/', 0.9999994689399897), ('https://www.p4.no:443/', 1.1434967968295102), ('http://www.vestkantavisen.no/', 1.3367933286352995), ('https://www.hf.no:443/', 1.3550794171484486), ('http://frostingen.no/', 1.377630406393949), ('http://www.tysnesbladet.no/', 1.3967334927009027), ('https://www.blv.no:443/', 1.428929473092896), ('https://www.nytid.no:443/', 1.4371502669335618), ('https://www.eub.no:443/', 1.440466676900635)]\n",
      "...\n",
      "[('https://www.synste.no:443/', 1.4557482913333732), ('https://www.driva.no:443/', 1.7013887101223304), ('https://www.innherred.no:443/', 1.743569739514206), ('https://www.glomdalen.no:443/', 1.7703852484874938), ('https://www.rights.no:443/', 1.809658647144293), ('https://www.vikebladet.no:443/', 1.858758522117199)]\n",
      "...\n",
      "[('https://svalbardposten.no:443/', 1.8603972054049076), ('https://igjerstad.no:443/', 1.8617702758088206), ('https://idag.no:443/', 1.8658679887664205), ('https://www.vg.no:443/', 1.8719567927962686), ('https://saltenposten.no:443/', 1.873652991637575), ('https://vaganavisa.no:443/', 1.882506608264222), ('https://www.klartale.no:443/', 1.8845094762289945), ('https://www.vl.no:443/', 1.8859316117254332), ('https://opp.no:443/', 1.89801463639578), ('https://www.samningen.no:443/', 1.9267673899787647)]\n"
     ]
    }
   ],
   "source": [
    "sort_fitness = sorted([(ws, info_dict[ws][\"jaccard\"][\"fitness\"][\"r2\"]\n",
    "                        + (1 - 2 * math.sqrt(info_dict[ws][\"jaccard\"][\"fitness\"][\"mse\"])))\n",
    "                       for ws in info_dict], key=lambda x: x[::-1])\n",
    "print(f\"{sort_fitness[:10]}\\n...\\n{sort_fitness[10:-10:30]}\\n...\\n{sort_fitness[-10:]}\")"
   ]
  },
  {
   "cell_type": "code",
   "execution_count": 8,
   "metadata": {},
   "outputs": [
    {
     "name": "stdout",
     "output_type": "stream",
     "text": [
      "[('http://www.norwaypost.no/', 1.6614302400534715e-05), ('https://meloyavisa.no:443/', 1.6907184476746148e-05), ('http://www.vestkantavisen.no/', 0.0004078571957700164), ('https://folldalsportalen.no:443/', 0.05755953267097025), ('https://mre.no:443/', 0.08555258691668002), ('https://www.p4.no:443/', 0.09158460191827104), ('https://saltenposten.no:443/', 0.09758062833341784), ('https://vaganavisa.no:443/', 0.11719096253201199), ('https://www.oyposten.no:443/', 0.12083696207817597), ('https://svalbardposten.no:443/', 0.12419685647041388)]\n",
      "...\n",
      "[('https://groruddalen.no:443/', 0.13538975999443512), ('https://www.smp.no:443/', 0.2889997418833612), ('https://drm24.no:443/', 0.38742768838162056), ('https://www.opdalingen.no:443/', 0.4829918770999978), ('https://www.fremover.no:443/', 0.6582759412909263), ('https://www.dagen.no:443/', 1.0638939064193607)]\n",
      "...\n",
      "[('http://www.reavisa.no/', 1.287045007980091), ('https://journalisten.no:443/', 1.2889756346028314), ('https://universitas.no:443/', 1.2917479507205893), ('https://kulingen.no:443/', 1.4035189671871644), ('https://www.samningen.no:443/', 1.465213132966403), ('https://www.sulaposten.no:443/', 1.6221974513071367), ('https://www.kanalen.no:443/', 2.7924648201318867), ('https://nattogdag.no:443/', 3.7860776238039593), ('https://igjerstad.no:443/', 5.5612969475605265), ('https://www.nytid.no:443/', 614.3664039748459)]\n"
     ]
    }
   ],
   "source": [
    "sort_params = sorted([(ws, info_dict[ws][\"jaccard\"][\"params\"][0])\n",
    "                       for ws in info_dict], key=lambda x: x[::-1])\n",
    "print(f\"{sort_params[:10]}\\n...\\n{sort_params[10:-10:30]}\\n...\\n{sort_params[-10:]}\")"
   ]
  },
  {
   "cell_type": "code",
   "execution_count": 9,
   "metadata": {},
   "outputs": [
    {
     "name": "stdout",
     "output_type": "stream",
     "text": [
      "1.7265241588955262\n"
     ]
    }
   ],
   "source": [
    "fit = [f for ws, f in sort_fitness if not math.isnan(f)]\n",
    "print(sum(fit)/len(fit))"
   ]
  },
  {
   "cell_type": "code",
   "execution_count": 10,
   "metadata": {},
   "outputs": [
    {
     "name": "stdout",
     "output_type": "stream",
     "text": [
      "296.9621553300305 -124.96215533003061\n"
     ]
    },
    {
     "data": {
      "image/png": "[encoded data removed]",
      "text/plain": [
       "<Figure size 432x288 with 1 Axes>"
      ]
     },
     "metadata": {
      "needs_background": "light"
     },
     "output_type": "display_data"
    }
   ],
   "source": [
    "info_df = pd.DataFrame(fit, columns=[\"fit\"])\n",
    "info_df[\"fit\"].plot.hist(bins=50)\n",
    "print(sum(f for f in fit), sum(1-f for f in fit))"
   ]
  },
  {
   "cell_type": "code",
   "execution_count": 11,
   "metadata": {},
   "outputs": [
    {
     "data": {
      "text/plain": [
       "[<matplotlib.lines.Line2D at 0x7fa3a0c962e8>]"
      ]
     },
     "execution_count": 11,
     "metadata": {},
     "output_type": "execute_result"
    },
    {
     "data": {
      "image/png": "[encoded data removed]",
      "text/plain": [
       "<Figure size 432x288 with 1 Axes>"
      ]
     },
     "metadata": {
      "needs_background": "light"
     },
     "output_type": "display_data"
    }
   ],
   "source": [
    "def nice(df, step=1):\n",
    "    counters = [Counter(re.split(\"\\\\W+\", s.lower())) for s in df[\"text\"]]\n",
    "    midsim = []\n",
    "    for i in range(step, len(counters)-step):\n",
    "        c1 = counters[i-step]\n",
    "        c2 = counters[i]\n",
    "        c3 = counters[i+step]\n",
    "        # How much information does c2 contain which is not in c1 or c3\n",
    "        a = c2 - (c1 | c3)\n",
    "        midsim.append(sum(a.values())/sum(c2.values()))\n",
    "    return sum(midsim) / len(midsim)\n",
    "\n",
    "noice = news[news.original_url == \"https://www.vg.no:443/\"]\n",
    "plt.plot([nice(noice, i) for i in range(len(noice) // 2)])\n",
    "# print(res)"
   ]
  },
  {
   "cell_type": "code",
   "execution_count": 12,
   "metadata": {},
   "outputs": [
    {
     "data": {
      "text/plain": [
       "[<matplotlib.lines.Line2D at 0x7fa3a1481c50>]"
      ]
     },
     "execution_count": 12,
     "metadata": {},
     "output_type": "execute_result"
    },
    {
     "data": {
      "image/png": "[encoded data removed]",
      "text/plain": [
       "<Figure size 432x288 with 1 Axes>"
      ]
     },
     "metadata": {
      "needs_background": "light"
     },
     "output_type": "display_data"
    }
   ],
   "source": [
    "asd = \"https://www.vg.no:443/\"\n",
    "dd = get_div_diffs(asd)\n",
    "loc = len(dd) // 4\n",
    "plt.plot(list(info_dict[asd][\"timestamps\"]), dd)\n",
    "plt.plot(list(info_dict[asd][\"timestamps\"]), info_dict[asd][\"jaccard\"][\"diffs\"][loc])"
   ]
  },
  {
   "cell_type": "code",
   "execution_count": 13,
   "metadata": {},
   "outputs": [
    {
     "name": "stdout",
     "output_type": "stream",
     "text": [
      "[[1.         0.84659091 0.5863747  ... 0.21292776 0.21013133 0.20973783]\n",
      " [0.84659091 1.         0.6159601  ... 0.21455939 0.21172023 0.21132075]\n",
      " [0.5863747  0.6159601  1.         ... 0.21374046 0.21092279 0.21052632]\n",
      " ...\n",
      " [0.21292776 0.21455939 0.21374046 ... 1.         0.86646884 0.82608696]\n",
      " [0.21013133 0.21172023 0.21092279 ... 0.86646884 1.         0.94801223]\n",
      " [0.20973783 0.21132075 0.21052632 ... 0.82608696 0.94801223 1.        ]]\n"
     ]
    },
    {
     "data": {
      "text/plain": [
       "[<matplotlib.lines.Line2D at 0x7fa3a13d2748>]"
      ]
     },
     "execution_count": 13,
     "metadata": {},
     "output_type": "execute_result"
    },
    {
     "data": {
      "image/png": "[encoded data removed]",
      "text/plain": [
       "<Figure size 432x288 with 1 Axes>"
      ]
     },
     "metadata": {
      "needs_background": "light"
     },
     "output_type": "display_data"
    }
   ],
   "source": [
    "def link_sim(website):\n",
    "    df = news[news[\"original_url\"] == website]\n",
    "    diffs = np.eye(len(df) or None, dtype=float)\n",
    "    counters = [Counter(s.split(\"\\t\")) for s in df[\"links\"]]\n",
    "    for i, c1 in enumerate(counters):\n",
    "        for j, c2 in enumerate(counters[:i]):\n",
    "            sim = similarity_coeffs(c1, c2)[2]\n",
    "            diffs[i][j] = sim\n",
    "            diffs[j][i] = sim\n",
    "\n",
    "    return diffs\n",
    "\n",
    "sitels = \"https://www.vg.no:443/\"\n",
    "ls = link_sim(sitels)\n",
    "print(ls)\n",
    "loc = len(dd) // 4\n",
    "plt.plot(list(info_dict[asd][\"timestamps\"]), dd, color=\"r\")\n",
    "plt.plot(list(info_dict[asd][\"timestamps\"]), ls[loc], color=\"g\")\n",
    "plt.plot(list(info_dict[asd][\"timestamps\"]), info_dict[asd][\"jaccard\"][\"diffs\"][loc], color=\"b\")"
   ]
  },
  {
   "cell_type": "code",
   "execution_count": 14,
   "metadata": {},
   "outputs": [
    {
     "data": {
      "text/plain": [
       "[<matplotlib.lines.Line2D at 0x7fa3a0b7db70>]"
      ]
     },
     "execution_count": 14,
     "metadata": {},
     "output_type": "execute_result"
    },
    {
     "data": {
      "image/png": "[encoded data removed]",
      "text/plain": [
       "<Figure size 432x288 with 1 Axes>"
      ]
     },
     "metadata": {
      "needs_background": "light"
     },
     "output_type": "display_data"
    }
   ],
   "source": [
    "vg = \"https://www.hf.no:443/\"\n",
    "tss = np.array(info_dict[vg][\"timestamps\"])\n",
    "plt.plot((tss - tss[0]) / 3600, 1/np.array(info_dict[vg][\"jaccard\"][\"diffs\"][0])-1)"
   ]
  },
  {
   "cell_type": "code",
   "execution_count": 16,
   "metadata": {},
   "outputs": [
    {
     "name": "stdout",
     "output_type": "stream",
     "text": [
      "Collecting gplearn\n",
      "  Downloading gplearn-0.4.1-py3-none-any.whl (41 kB)\n",
      "\u001b[K     |████████████████████████████████| 41 kB 381 kB/s eta 0:00:011\n",
      "\u001b[?25hRequirement already satisfied: joblib>=0.13.0 in /usr/local/lib/python3.6/dist-packages (from gplearn) (0.15.1)\n",
      "Requirement already satisfied: scikit-learn>=0.20.0 in /usr/local/lib/python3.6/dist-packages (from gplearn) (0.23.1)\n",
      "Requirement already satisfied: threadpoolctl>=2.0.0 in /usr/local/lib/python3.6/dist-packages (from scikit-learn>=0.20.0->gplearn) (2.1.0)\n",
      "Requirement already satisfied: numpy>=1.13.3 in /usr/local/lib/python3.6/dist-packages (from scikit-learn>=0.20.0->gplearn) (1.18.5)\n",
      "Requirement already satisfied: scipy>=0.19.1 in /usr/local/lib/python3.6/dist-packages (from scikit-learn>=0.20.0->gplearn) (1.4.1)\n",
      "Installing collected packages: gplearn\n",
      "Successfully installed gplearn-0.4.1\n",
      "\u001b[33mWARNING: You are using pip version 20.1.1; however, version 20.2.1 is available.\n",
      "You should consider upgrading via the '/usr/bin/python3 -m pip install --upgrade pip' command.\u001b[0m\n"
     ]
    }
   ],
   "source": [
    "# !pip install gplearn"
   ]
  },
  {
   "cell_type": "code",
   "execution_count": 35,
   "metadata": {},
   "outputs": [
    {
     "name": "stdout",
     "output_type": "stream",
     "text": [
      "[  0.           1.87111111  25.83722222  49.81277778  57.01083333\n",
      "  82.97555556  96.985      102.93       106.99944444 171.78166667] [1.         0.90606421 0.56910569 0.37466548 0.35299145 0.33809099\n",
      " 0.32003325 0.3307888  0.3307888  0.32961373]\n",
      "[59.215      30.18638889 27.09361111 24.23416667 17.07611111 13.145\n",
      "  8.96833333  6.21944444  1.09166667  0.        ] [0.82161235 0.91992883 0.91992883 0.93048128 0.94265233 0.97106691\n",
      " 1.         1.         1.         1.        ]\n",
      "    |   Population Average    |             Best Individual              |\n",
      "---- ------------------------- ------------------------------------------ ----------\n",
      " Gen   Length          Fitness   Length          Fitness      OOB Fitness  Time Left\n",
      "   0    17.69          288.624       16        0.0923051        0.0927422    241.24m\n",
      "   1     7.12          2.61447       16        0.0921155        0.0944484    141.56m\n",
      "   2     4.57         0.690168        8        0.0911283         0.094011    124.46m\n",
      "   3     2.67          1.12134        5          0.10233         0.103334    107.25m\n",
      "   4     1.66         0.740093        8        0.0945375        0.0914992     92.55m\n",
      "   5     1.42           153.27        1         0.102862         0.110945     86.43m\n",
      "   6     1.42          4.24814        7        0.0963961        0.0957731     85.73m\n",
      "   7     1.44          1.58871        1         0.102913         0.110466     86.78m\n",
      "   8     1.40          1.01721        1         0.102877         0.110814     83.03m\n",
      "   9     1.44          1.12469        1         0.102788         0.111612     87.77m\n",
      "  10     1.41         0.846915        1         0.102838         0.111161     84.82m\n",
      "  11     1.43          1.24035        1          0.10298         0.109882     81.06m\n",
      "  12     1.43          1.11352       14        0.0945184        0.0948545     85.09m\n",
      "  13     1.44          73.8532        6        0.0954713         0.093684     81.17m\n",
      "  14     1.44          1.39583        1         0.102883          0.11074     81.52m\n",
      "  15     1.40           1.1851       25          0.10115         0.102627     79.31m\n",
      "  16     1.42          1.74966        1         0.102865         0.110903     78.46m\n",
      "  17     1.42          1.48856        1          0.10281         0.111395     78.89m\n",
      "  18     1.43          7.78165        7        0.0960334        0.0974952     74.12m\n",
      "  19     1.45          1.66297        6        0.0897716         0.091458     74.69m\n",
      "  20     1.46          1.98213        1         0.102828         0.111233     75.05m\n",
      "  21     1.42          1.25962       12        0.0993674        0.0984487     72.19m\n",
      "  22     1.43          1.37634        1          0.10284          0.11112     72.79m\n",
      "  23     1.44          1.66525        7         0.100564         0.101155     68.51m\n",
      "  24     1.42         0.930649       12        0.0945982        0.0993975     69.13m\n",
      "  25     1.40          1.12216        1         0.102686         0.112506     67.83m\n",
      "  26     1.41          1.14914        7         0.100824         0.100705     67.59m\n",
      "  27     1.43          156.007        1         0.102876         0.110804     67.24m\n",
      "  28     1.42          1.17168        1          0.10286         0.110943     66.24m\n",
      "  29     1.43          28.0024        1         0.102895         0.110648     65.07m\n",
      "  30     1.43           20.435        1         0.102904         0.110568     61.11m\n",
      "  31     1.42           1.5511        1         0.102756           0.1119     60.94m\n",
      "  32     1.43           1.1565        1         0.102942         0.110209     59.28m\n",
      "  33     1.43         0.578219        6        0.0946241        0.0939463     58.36m\n",
      "  34     1.42            1.068       15          0.10201         0.103864     58.88m\n",
      "  35     1.41          0.80651        7          0.10042        0.0982863     57.68m\n",
      "  36     1.42          1.40085        1         0.102856          0.11098     55.59m\n",
      "  37     1.41          5.83503       11        0.0997643        0.0994592     57.19m\n",
      "  38     1.42         0.574567        1         0.102826         0.111265     54.37m\n",
      "  39     1.42          1.05761        1         0.102864         0.110912     52.32m\n",
      "  40     1.41          1.15869        1         0.102941         0.110238     52.09m\n",
      "  41     1.42         0.718429        1         0.102872          0.11084     50.55m\n",
      "  42     1.43         0.732412        1         0.102846         0.111073     49.89m\n",
      "  43     1.43         0.917188        6        0.0933599        0.0956812     49.49m\n",
      "  44     1.44         0.635978        8        0.0971693        0.0957566     49.22m\n",
      "  45     1.47          1.50748        1         0.102917          0.11043     48.89m\n",
      "  46     1.41          154.559       18        0.0984956        0.0978898     46.88m\n",
      "  47     1.41         0.925796        1         0.102809           0.1114     48.48m\n",
      "  48     1.43          1.03283        6        0.0997683        0.0990925     45.80m\n",
      "  49     1.43         0.991971        1         0.102852         0.111035     47.48m\n",
      "  50     1.41          1.28392        1          0.10288         0.110779     43.23m\n",
      "  51     1.45           1.0066        1         0.102698           0.1124     42.98m\n",
      "  52     1.43          1.96394       12        0.0918977        0.0910949     42.53m\n",
      "  53     1.42          1.11868        1         0.102827          0.11124     41.66m\n",
      "  54     1.41          1.35355        1         0.102882         0.110744     40.51m\n",
      "  55     1.43          1.27444       14         0.102361         0.101909     38.59m\n",
      "  56     1.42          1.58489        1         0.102742         0.112008     38.41m\n",
      "  57     1.46          1.02848        1          0.10291         0.110496     37.50m\n",
      "  58     1.42          1.14149       14        0.0946115        0.0939809     35.62m\n",
      "  59     1.43          1.14223        1           0.1029         0.110583     36.10m\n",
      "  60     1.43          1.59019        1         0.102824         0.111269     35.20m\n",
      "  61     1.42          2.54368       17         0.100597        0.0984177     33.89m\n",
      "  62     1.42         0.916466        1         0.102915          0.11045     33.33m\n",
      "  63     1.44          1.46463       11        0.0975221        0.0969244     32.54m\n",
      "  64     1.45          1.38121        1         0.102835         0.111172     30.77m\n",
      "  65     1.42         0.683936        1         0.102751         0.111924     30.33m\n",
      "  66     1.44          1.05877        1         0.102863         0.110917     29.30m\n",
      "  67     1.41          1.05405        1         0.102832         0.111217     29.37m\n",
      "  68     1.46         0.787431        1         0.102646         0.112893     28.67m\n",
      "  69     1.43         0.866705        1         0.102837         0.111152     27.48m\n",
      "  70     1.40          1.36848       11          0.10119         0.101828     25.70m\n",
      "  71     1.43          2.26641        6         0.102903         0.100918     24.78m\n",
      "  72     1.42         0.960439        1         0.102952         0.110137     24.68m\n",
      "  73     1.44           1.2512        1         0.102912         0.110478     23.14m\n",
      "  74     1.44          1.25207       23        0.0938821         0.096806     22.95m\n",
      "  75     1.44          1.05737        1         0.102781         0.111679     20.93m\n",
      "  76     1.42          1.76216       14        0.0940383        0.0943056     20.05m\n",
      "  77     1.42         0.477511        1         0.102877         0.110796     19.60m\n",
      "  78     1.42          1.30953        8        0.0999684         0.100688     18.74m\n",
      "  79     1.42          1.30857        6        0.0934383        0.0922094     17.38m\n",
      "  80     1.41          1.23635        8         0.102794         0.101906     17.27m\n",
      "  81     1.40          1.16847        7         0.092467        0.0904237     16.52m\n",
      "  82     1.44         0.841926        6         0.095047        0.0987988     14.93m\n",
      "  83     1.41          0.50241        1         0.102899         0.110589     14.13m\n",
      "  84     1.42         0.878456        1         0.102603         0.113259     13.14m\n",
      "  85     1.42          1.51805        6        0.0968799        0.0956179     12.52m\n",
      "  86     1.41          1.32709        1         0.102846         0.111067     11.70m\n",
      "  87     1.41         0.486474        6         0.101601         0.100993     10.50m\n"
     ]
    },
    {
     "name": "stdout",
     "output_type": "stream",
     "text": [
      "  88     1.42         0.783295       24        0.0998753        0.0964705      9.95m\n",
      "  89     1.42         0.791538        1         0.102846          0.11107      9.14m\n",
      "  90     1.40         0.972461        7        0.0934751        0.0917585      7.94m\n",
      "  91     1.41          1.77803       19         0.101195        0.0998636      6.97m\n",
      "  92     1.41           1.4637        7        0.0931957        0.0974029      6.15m\n",
      "  93     1.41          1.70322       31        0.0998595         0.102544      5.40m\n",
      "  94     1.46         0.915087       22         0.100817        0.0980253      4.46m\n",
      "  95     1.44          1.04407       11         0.101636         0.100213      3.56m\n",
      "  96     1.42          7.74041       21        0.0925607        0.0941696      2.76m\n",
      "  97     1.45         0.855679        7         0.102671         0.101934      1.75m\n",
      "  98     1.45          1.28724        9        0.0955603        0.0966672     53.30s\n",
      "  99     1.44          9.15771        7        0.0982693          0.09864      0.00s\n"
     ]
    },
    {
     "data": {
      "text/plain": [
       "SymbolicRegressor(function_set=['add', 'sub', 'mul', 'div', 'sqrt', 'log',\n",
       "                                'abs', 'neg', 'inv', 'max', 'min'],\n",
       "                  generations=100, max_samples=0.9, p_crossover=0.7,\n",
       "                  p_hoist_mutation=0.05, p_point_mutation=0.1,\n",
       "                  p_subtree_mutation=0.1, parsimony_coefficient=0.01,\n",
       "                  population_size=20000, random_state=0, stopping_criteria=0.01,\n",
       "                  verbose=1)"
      ]
     },
     "execution_count": 35,
     "metadata": {},
     "output_type": "execute_result"
    }
   ],
   "source": [
    "from gplearn.genetic import SymbolicRegressor\n",
    "\n",
    "function_set = ['add', 'sub', 'mul', 'div',\n",
    "                'sqrt', 'log', 'abs', 'neg', 'inv',\n",
    "                'max', 'min']\n",
    "sr = SymbolicRegressor(population_size=20000,\n",
    "                           generations=100, stopping_criteria=0.01,\n",
    "                           p_crossover=0.7, p_subtree_mutation=0.1,\n",
    "                           p_hoist_mutation=0.05, p_point_mutation=0.1,\n",
    "                           max_samples=0.9, verbose=1,\n",
    "                           parsimony_coefficient=0.01, random_state=0,\n",
    "                      function_set=function_set)\n",
    "tss = info_dict[vg][\"timestamps\"]\n",
    "dfs = info_dict[vg][\"jaccard\"][\"diffs\"]\n",
    "x = np.array([abs(tss[j] - tss[i]) / 3600 for i in range(len(tss)) for j in range(len(tss))])\n",
    "y = np.array([dfs[j][i] for i in range(len(dfs)) for j in range(len(dfs))])\n",
    "print(x[:10], y[:10])\n",
    "print(x[-10:], y[-10:])\n",
    "sr.fit(np.reshape(x, (-1, 1)) / 3600, y)\n"
   ]
  },
  {
   "cell_type": "code",
   "execution_count": 36,
   "metadata": {},
   "outputs": [
    {
     "name": "stdout",
     "output_type": "stream",
     "text": [
      "div(mul(-0.340, X0), mul(-0.894, X0))\n"
     ]
    }
   ],
   "source": [
    "print(sr._program)"
   ]
  },
  {
   "cell_type": "code",
   "execution_count": null,
   "metadata": {},
   "outputs": [],
   "source": []
  }
 ],
 "metadata": {
  "kernelspec": {
   "display_name": "Python 3",
   "language": "python",
   "name": "python3"
  },
  "language_info": {
   "codemirror_mode": {
    "name": "ipython",
    "version": 3
   },
   "file_extension": ".py",
   "mimetype": "text/x-python",
   "name": "python",
   "nbconvert_exporter": "python",
   "pygments_lexer": "ipython3",
   "version": "3.6.9"
  }
 },
 "nbformat": 4,
 "nbformat_minor": 1
}
