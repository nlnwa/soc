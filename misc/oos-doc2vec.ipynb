{
 "cells": [
  {
   "cell_type": "markdown",
   "source": [
    "# Out-of-scope Doc2Vec\n",
    "Creates Doc2Vec representations from the OOS list."
   ],
   "metadata": {
    "collapsed": false
   }
  },
  {
   "cell_type": "code",
   "execution_count": 3,
   "outputs": [],
   "source": [
    "# Imports\n",
    "import re\n",
    "from collections import Counter\n",
    "from pprint import pprint\n",
    "\n",
    "import pandas as pd\n",
    "from gensim.models import Doc2Vec\n",
    "from gensim.models.doc2vec import TaggedDocument\n",
    "import numpy as np\n",
    "import matplotlib.pyplot as plt\n",
    "from sklearn.decomposition import PCA\n",
    "from sklearn.manifold import TSNE\n"
   ],
   "metadata": {
    "collapsed": false,
    "pycharm": {
     "name": "#%%\n",
     "is_executing": false
    }
   }
  },
  {
   "cell_type": "markdown",
   "source": [
    "Generate Doc2Vec for websites."
   ],
   "metadata": {
    "collapsed": false
   }
  },
  {
   "cell_type": "code",
   "execution_count": 5,
   "outputs": [
    {
     "name": "stderr",
     "text": [
      "/home/rolv-arild/PycharmProjects/soc/venv/lib/python3.6/site-packages/smart_open/smart_open_lib.py:398: UserWarning: This function is deprecated, use smart_open.open instead. See the migration notes for details: https://github.com/RaRe-Technologies/smart_open/blob/master/README.rst#migrating-to-the-new-open-function\n  'See the migration notes for details: %s' % _MIGRATION_NOTES_URL\n"
     ],
     "output_type": "stream"
    }
   ],
   "source": [
    "data_path = \"../uri_scores.csv\"\n",
    "file = pd.read_csv(data_path)\n",
    "\n",
    "def iter_urls(file):\n",
    "    for i, row in file.iterrows():\n",
    "        url, text = row[\"original_url\"], str(row[\"text\"])\n",
    "        yield url, text\n",
    "\n",
    "\n",
    "class TaggedWebpageDocument(object):\n",
    "    def __iter__(self):\n",
    "        for url, text in iter_urls(file):\n",
    "            words = [c for c in re.split(r\"\\s+\", re.sub(r\"[^\\w\\s]+\", \" \", text)) if len(c) > 0]\n",
    "            yield TaggedDocument(words, [url])\n",
    "\n",
    "\n",
    "documents = TaggedWebpageDocument()\n",
    "model = Doc2Vec(documents, window=7, vector_size=256, workers=4)\n",
    "model.save(\"oos-doc2vec\")"
   ],
   "metadata": {
    "collapsed": false,
    "pycharm": {
     "name": "#%%\n",
     "is_executing": false
    }
   }
  },
  {
   "cell_type": "code",
   "execution_count": null,
   "outputs": [],
   "source": [
    "model = Doc2Vec.load(\"oos-doc2vec\")"
   ],
   "metadata": {
    "collapsed": false,
    "pycharm": {
     "name": "#%%\n"
    }
   }
  },
  {
   "cell_type": "markdown",
   "source": [
    "Small tests."
   ],
   "metadata": {
    "collapsed": false
   }
  },
  {
   "cell_type": "code",
   "execution_count": 6,
   "outputs": [
    {
     "name": "stdout",
     "text": [
      "[('http://itunes.apple.com', 0.9402926564216614),\n ('http://ax.itunes.apple.com', 0.938474178314209),\n ('https://geo.itunes.apple.com', 0.9134922027587891),\n ('http://www.ghbellavista.it', 0.8842248320579529),\n ('https://www.amazon.com', 0.8706847429275513),\n ('http://www.etudiemploi.fr', 0.8702532052993774),\n ('http://www.teknomec.it', 0.863261878490448),\n ('http://www.moviepilot.it', 0.8608096837997437),\n ('http://www.vinzetlou.fr', 0.8588129281997681),\n ('http://www.sandrarossi.it', 0.8583096265792847)]\n[('https://klubbadmin.nif.no', 0.7878474593162537),\n ('https://www.alleteller.no', 0.7743078470230103),\n ('http://www.trenmedoss.no', 0.7734191417694092),\n ('http://tonstadost.backe.no', 0.7687683701515198),\n ('http://www.ark.no', 0.7686697840690613),\n ('http://www.klimagassregnskap.no', 0.7684811353683472),\n ('https://www.bokselskap.no', 0.7679361701011658),\n ('http://valbobehandling.no', 0.767586350440979),\n ('http://overhallafjos.no', 0.7672936320304871),\n ('http://econpartner.no', 0.7654291391372681)]\n[('https://www.apsisfinland.fi', 0.9506667256355286),\n ('https://www.boklok.fi', 0.9373830556869507),\n ('https://www.speedservices.fi', 0.9373453855514526),\n ('https://www.thl.fi', 0.9350866675376892),\n ('https://www.wellspect.fi', 0.933761715888977),\n ('http://www.metla.fi', 0.9337074756622314),\n ('https://www.celgene.fi', 0.9306715726852417),\n ('https://www.hammerglass.fi', 0.9304863214492798),\n ('http://www.varta-consumer.fi', 0.928795576095581),\n ('http://www.uef.fi', 0.9281903505325317)]\n"
     ],
     "output_type": "stream"
    }
   ],
   "source": [
    "pprint(model.docvecs.most_similar(positive=[\"https://itunes.apple.com\"], topn=10))\n",
    "pprint(model.docvecs.most_similar(positive=[\"https://begrep.difi.no\"], topn=10))\n",
    "pprint(model.docvecs.most_similar(positive=[\"https://www.sharp.fi\"], topn=10))"
   ],
   "metadata": {
    "collapsed": false,
    "pycharm": {
     "name": "#%%\n",
     "is_executing": false
    }
   }
  },
  {
   "cell_type": "markdown",
   "source": [
    "Run dimensionality reduction."
   ],
   "metadata": {
    "collapsed": false
   }
  },
  {
   "cell_type": "code",
   "execution_count": null,
   "outputs": [],
   "source": [
    "pca = PCA()\n",
    "\n",
    "trans = pca.fit_transform(model.docvecs.vectors_docs)\n",
    "\n",
    "print(trans.shape)\n",
    "\n",
    "# Plot explained variance (information kept) vs number of components\n",
    "plt.plot(np.cumsum(pca.explained_variance_ratio_))\n",
    "plt.xlabel('number of components')\n",
    "plt.ylabel('cumulative explained variance')\n",
    "plt.show()"
   ],
   "metadata": {
    "collapsed": false,
    "pycharm": {
     "name": "#%%\n"
    }
   }
  },
  {
   "cell_type": "code",
   "execution_count": null,
   "outputs": [],
   "source": [
    "reduced = TSNE().fit_transform(trans)\n",
    "\n",
    "np.save(\"veidemann-reduced.npy\", reduced)"
   ],
   "metadata": {
    "collapsed": false,
    "pycharm": {
     "name": "#%%\n"
    }
   }
  },
  {
   "cell_type": "code",
   "execution_count": null,
   "outputs": [],
   "source": [
    "reduced = np.load(\"veidemann-reduced.npy\")\n"
   ],
   "metadata": {
    "collapsed": false,
    "pycharm": {
     "name": "#%%\n"
    }
   }
  },
  {
   "cell_type": "markdown",
   "source": [
    "Write to CSV for later analysis."
   ],
   "metadata": {
    "collapsed": false,
    "pycharm": {
     "name": "#%% md\n"
    }
   }
  },
  {
   "cell_type": "code",
   "execution_count": 7,
   "outputs": [
    {
     "name": "stdout",
     "text": [
      "(68675, 256)\n68675 None\n"
     ],
     "output_type": "stream"
    }
   ],
   "source": [
    "print(len(file), print(model.docvecs.vectors_docs.shape))\n",
    "vector_df = pd.DataFrame(data=model.docvecs.vectors_docs, columns=[f\"v{i}\" for i in range(256)])\n",
    "conc = pd.concat([file, vector_df], axis=1)\n",
    "conc.to_csv(\"oos-doc2vec.csv\", index=False)"
   ],
   "metadata": {
    "collapsed": false,
    "pycharm": {
     "name": "#%%\n",
     "is_executing": false
    }
   }
  },
  {
   "cell_type": "code",
   "execution_count": 8,
   "outputs": [
    {
     "name": "stdout",
     "text": [
      "[('http://www.w-h-y.no', 0.9652109146118164),\n ('http://www.christianlouboutinredbottoms.com', 0.9632914662361145),\n ('https://www.mepalshop.dk', 0.9628714323043823),\n ('http://www.shining.no', 0.9627617597579956),\n ('https://www.soehnleshop.dk', 0.9626474976539612),\n ('http://www.wella.no', 0.9598065614700317),\n ('https://www.sharp.eu', 0.9595633745193481),\n ('http://www.jacobyoung.no', 0.9576820135116577),\n ('http://www.careerjet.vn', 0.9563694000244141),\n ('http://sketchingstamperdigi-stamps.blogspot.com', 0.95531165599823),\n ('https://www.scanjet.se', 0.9536997079849243),\n ('http://www.ec.europa.eu', 0.9532003402709961),\n ('http://fotoartikler.no', 0.9499859809875488),\n ('http://scanjet.se', 0.9488911032676697),\n ('http://www.antonsoggiu.com', 0.9487696886062622),\n ('https://www.sgs.ph', 0.9487102031707764),\n ('https://www.palookaville.no', 0.9487078785896301),\n ('https://bamble.nett.itum.tv', 0.9486806988716125),\n ('http://www.careerjet.com.kw', 0.9486024975776672),\n ('http://www.vinzetlou.fr', 0.9478272199630737),\n ('http://christinejohansen.blogspot.com', 0.947761058807373),\n ('https://jegskalflytte.no', 0.9473857879638672),\n ('https://egypt.cbre.com', 0.9471953511238098),\n ('https://www.durex.com.hk', 0.946841835975647),\n ('http://4csolutions.no', 0.9468213319778442),\n ('http://apovest2.45webs.com', 0.946325421333313),\n ('http://www.winterhalter.tw', 0.9460110664367676),\n ('http://www.hallingkart.no', 0.9459991455078125),\n ('https://faktaark.naturbase.no', 0.9459481835365295),\n ('https://www.sgs.ie', 0.9452967643737793)]\n"
     ],
     "output_type": "stream"
    }
   ],
   "source": [
    "# Find low scoring websites that are most similar to high scoring websites.\n",
    "pprint(model.docvecs.most_similar(\n",
    "    positive=[row[\"original_url\"] for i, row in conc.iterrows() if row[\"norvegica_score\"] > 0.5], topn=30))"
   ],
   "metadata": {
    "collapsed": false,
    "pycharm": {
     "name": "#%%\n",
     "is_executing": false
    }
   }
  },
  {
   "cell_type": "markdown",
   "source": [
    "For converting to [TensorFlow embedding projector](https://projector.tensorflow.org/) compatible format"
   ],
   "metadata": {
    "collapsed": false
   }
  },
  {
   "cell_type": "code",
   "execution_count": 9,
   "outputs": [],
   "source": [
    "fn = \"oos-doc2vec.csv\"\n",
    "csv = pd.read_csv(fn, index_col=False)\n",
    "\n",
    "csv = csv.dropna(subset=[f\"v{i}\" for i in range(256)])\n",
    "csv = csv.fillna(\"missing\")\n",
    "\n",
    "filt = \"v\\d+\"\n",
    "vec = csv.filter(regex=filt)\n",
    "meta = csv.drop(vec.columns, axis=1)\n",
    "# meta = meta.drop(\"text\", axis=1)\n",
    "for column in meta:\n",
    "    try:\n",
    "        meta[column] = meta[column].str.replace(\"\\n\", \" \")\n",
    "    except AttributeError:\n",
    "        pass\n",
    "\n",
    "meta = meta.set_index(\"original_url\")\n",
    "\n",
    "vec.to_csv(fn.replace(\".csv\", \"-vec.tsv\"), header=False, sep=\"\\t\", index=False)\n",
    "meta.to_csv(fn.replace(\".csv\", \"-meta.tsv\"), sep=\"\\t\", index=True)"
   ],
   "metadata": {
    "collapsed": false,
    "pycharm": {
     "name": "#%%\n",
     "is_executing": false
    }
   }
  },
  {
   "cell_type": "markdown",
   "source": [
    "For Weka compatibility"
   ],
   "metadata": {
    "collapsed": false,
    "pycharm": {
     "name": "#%% md\n"
    }
   }
  },
  {
   "cell_type": "code",
   "execution_count": 10,
   "outputs": [],
   "source": [
    "import arff\n",
    "conc_notxt = conc.drop(\"text\", axis=1).fillna(\"missing\")\n",
    "arff.dump(\"oos.arff\", conc_notxt.values, \"ooslist\", conc_notxt.columns)"
   ],
   "metadata": {
    "collapsed": false,
    "pycharm": {
     "name": "#%%\n",
     "is_executing": false
    }
   }
  },
  {
   "cell_type": "markdown",
   "source": [
    "Generate bar charts and histograms for DataFrame"
   ],
   "metadata": {
    "collapsed": false,
    "pycharm": {
     "name": "#%% md\n"
    }
   }
  },
  {
   "cell_type": "code",
   "execution_count": 11,
   "outputs": [
    {
     "data": {
      "text/plain": "<Figure size 432x288 with 0 Axes>"
     },
     "metadata": {},
     "output_type": "display_data"
    }
   ],
   "source": [
    "nominal = (1,2,3,4,6,7,10,11,14,15,23)\n",
    "\n",
    "for index in range(len(meta.columns)):\n",
    "    column = meta.iloc[:, index]\n",
    "    if index+1 not in nominal:\n",
    "        if column.dtype == np.float64:\n",
    "            chart = plt.hist(column.values, bins=101, bottom=0)\n",
    "        elif column.dtype == np.int64:\n",
    "            chart = plt.hist(column.values, bins=min(max(column.values)+1, 101), bottom=0)\n",
    "        else:\n",
    "            continue\n",
    "    else: \n",
    "        counter = Counter(column)\n",
    "        labels, values = zip(*counter.most_common(20))\n",
    "        indexes = np.arange(len(labels))\n",
    "        width=1\n",
    "        chart = plt.bar(indexes, values, width)\n",
    "        plt.xticks(indexes, labels, rotation=90)\n",
    "    plt.semilogy()\n",
    "    plt.suptitle(column.name, y=0.95)\n",
    "    # plt.tight_layout()\n",
    "    plt.savefig(f\"{column.name}.png\", bbox_inches=\"tight\")\n",
    "    plt.clf()"
   ],
   "metadata": {
    "collapsed": false,
    "pycharm": {
     "name": "#%%\n",
     "is_executing": false
    }
   }
  }
 ],
 "metadata": {
  "language_info": {
   "codemirror_mode": {
    "name": "ipython",
    "version": 2
   },
   "file_extension": ".py",
   "mimetype": "text/x-python",
   "name": "python",
   "nbconvert_exporter": "python",
   "pygments_lexer": "ipython2",
   "version": "2.7.6"
  },
  "kernelspec": {
   "name": "python3",
   "language": "python",
   "display_name": "Python 3"
  },
  "pycharm": {
   "stem_cell": {
    "cell_type": "raw",
    "source": [],
    "metadata": {
     "collapsed": false
    }
   }
  }
 },
 "nbformat": 4,
 "nbformat_minor": 0
}