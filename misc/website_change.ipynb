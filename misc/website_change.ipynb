{
 "cells": [
  {
   "cell_type": "code",
   "execution_count": 1,
   "metadata": {},
   "outputs": [],
   "source": [
    "import math\n",
    "import re\n",
    "from collections import Counter\n",
    "\n",
    "import pandas as pd\n",
    "import matplotlib.pyplot as plt\n",
    "\n",
    "from scipy.optimize import curve_fit, least_squares\n",
    "from sklearn.metrics import mean_squared_error, r2_score\n",
    "import numpy as np\n",
    "import functools\n",
    "import multiprocessing"
   ]
  },
  {
   "cell_type": "code",
   "execution_count": 2,
   "metadata": {
    "pycharm": {
     "name": "#%%\n"
    }
   },
   "outputs": [
    {
     "name": "stdout",
     "output_type": "stream",
     "text": [
      "21841\n"
     ]
    }
   ],
   "source": [
    "news = pd.read_csv(\"../news_temp.csv\")\n",
    "news = news.sort_values(\"timestamp\")\n",
    "news[\"text\"] = news[\"text\"].astype(str)\n",
    "news[\"original_url\"] = news[\"original_url\"].str.strip()\n",
    "news = news[~news[\"original_url\"].isin({\"https://sero.gcloud.api.no:443/\", \"http://sero.gcloud.api.no/\"})]\n",
    "print(len(news))"
   ]
  },
  {
   "cell_type": "code",
   "execution_count": 3,
   "metadata": {
    "pycharm": {
     "name": "#%%\n"
    }
   },
   "outputs": [],
   "source": [
    "schemes = [\"dice\", \"cosine\", \"jaccard\"]\n",
    "\n",
    "def similarity_coeffs(A, B):\n",
    "    intersect = A & B\n",
    "    absA = sum(A.values())\n",
    "    absB = sum(B.values())\n",
    "    absI = sum(intersect.values())\n",
    "    dice = 2 * absI / (absA + absB)\n",
    "    cosine = absI / (math.sqrt(absA * absB))\n",
    "    jacc = absI / (absA + absB - absI)\n",
    "    return dice, cosine, jacc\n",
    "\n",
    "def get_all_diffs(df, adjust=False):\n",
    "    diffs = {\n",
    "        scheme: np.eye(len(df) or None, dtype=float)\n",
    "        for scheme in schemes\n",
    "    }\n",
    "    counters = [Counter(re.split(\"\\\\W+\", s.lower())) for s in df[\"text\"]]\n",
    "    const = functools.reduce(Counter.__and__, counters) if adjust else Counter()\n",
    "    for i, c1 in enumerate(counters):\n",
    "        for j, c2 in enumerate(counters[:i]):\n",
    "            sims = similarity_coeffs(c1-const, c2-const)\n",
    "            for scheme, sim in zip(schemes, sims):\n",
    "                diffs[scheme][i][j] = sim\n",
    "                diffs[scheme][j][i] = sim\n",
    "    return diffs\n",
    "\n",
    "def g(x, b, c):\n",
    "    return (1 - c) * b ** np.abs(x) + c\n",
    "\n",
    "def get_params(diffs, timestamps):\n",
    "    params = {}\n",
    "    fitness = {}\n",
    "    xg = [(ts1 - ts0) / 3600 for ts0 in timestamps for ts1 in timestamps]\n",
    "    for scheme, diff in diffs.items():\n",
    "        yg = diff.flatten()\n",
    "        g_params = curve_fit(g, xg, yg, p0=[1, 0], bounds=(0, 1))[0]\n",
    "        params[scheme] = g_params\n",
    "        fitness[scheme] = r2_score(yg, g(xg, *g_params))\n",
    "    return params, fitness\n",
    "\n",
    "def get_info(website):\n",
    "    df = news[news[\"original_url\"] == website]\n",
    "    diffs = get_all_diffs(df)\n",
    "    params, fitness = get_params(diffs, df[\"timestamp\"].array)\n",
    "    \n",
    "    info = {\n",
    "        scheme: {\n",
    "            \"diffs\": diffs[scheme],\n",
    "            \"params\": params[scheme],\n",
    "            \"fitness\": fitness[scheme]\n",
    "        } for scheme in schemes\n",
    "    }\n",
    "    info[\"timestamps\"] = df[\"timestamp\"].array\n",
    "    return info"
   ]
  },
  {
   "cell_type": "code",
   "execution_count": null,
   "metadata": {
    "pycharm": {
     "is_executing": true
    }
   },
   "outputs": [],
   "source": [
    "pool = multiprocessing.Pool()\n",
    "names = news[\"original_url\"].unique()\n",
    "info_dict = dict(zip(names, pool.map(get_info, names)))\n",
    "pool.close()\n",
    "# info_dict = {\n",
    "#     ws: get_info(ws)\n",
    "#     for ws in news[\"original_url\"].unique()\n",
    "# }"
   ]
  },
  {
   "cell_type": "code",
   "execution_count": null,
   "metadata": {
    "pycharm": {
     "name": "#%%\n",
     "is_executing": true
    }
   },
   "outputs": [],
   "source": [
    "vals = [info_dict[ws][\"cosine\"][\"params\"][0] for ws in info_dict]\n",
    "# plt.hist(vals)\n",
    "pd.DataFrame(vals, columns=[\"diff\"]).plot.kde()\n",
    "plt.savefig(\"density.png\")"
   ]
  },
  {
   "cell_type": "code",
   "execution_count": null,
   "metadata": {
    "scrolled": true,
    "pycharm": {
     "is_executing": true
    }
   },
   "outputs": [],
   "source": [
    "def plot(site, skip, scheme=\"cosine\"):\n",
    "    stamps = info_dict[site][\"timestamps\"]\n",
    "    stamps = np.array((stamps - stamps[0]) / 3600)\n",
    "    params = info_dict[site][scheme][\"params\"]\n",
    "    diffs = info_dict[site][scheme][\"diffs\"]\n",
    "    [plt.plot(stamps, diffs[i], color=\"blue\") for i in range(0, len(diffs), skip)]\n",
    "    [plt.plot(np.arange(stamps[0], stamps[-1], 0.01), g(np.arange(-stamps[i], stamps[-1]-stamps[i], 0.01), *params), color=\"orange\") \n",
    "         for i in range(0, len(diffs), skip)]\n",
    "    plt.show()\n",
    "plot(next(info_dict), 12, \"cosine\")"
   ]
  },
  {
   "cell_type": "code",
   "execution_count": null,
   "metadata": {
    "pycharm": {
     "is_executing": true
    }
   },
   "outputs": [],
   "source": [
    "sort_fitness = sorted([(ws, info_dict[ws][\"cosine\"][\"fitness\"]) for ws in info_dict], key=lambda x: x[::-1])\n",
    "print(f\"{sort_fitness[:10]}\\n...\\n{sort_fitness[10::35]}\\n...\\n{sort_fitness[-10:]}\")"
   ]
  }
 ],
 "metadata": {
  "kernelspec": {
   "display_name": "Python 3",
   "language": "python",
   "name": "python3"
  },
  "language_info": {
   "codemirror_mode": {
    "name": "ipython",
    "version": 3
   },
   "file_extension": ".py",
   "mimetype": "text/x-python",
   "name": "python",
   "nbconvert_exporter": "python",
   "pygments_lexer": "ipython3",
   "version": "3.6.9"
  }
 },
 "nbformat": 4,
 "nbformat_minor": 1
}