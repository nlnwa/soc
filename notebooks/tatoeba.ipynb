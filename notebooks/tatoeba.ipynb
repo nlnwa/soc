{
 "cells": [
  {
   "cell_type": "code",
   "execution_count": 1,
   "metadata": {
    "collapsed": true,
    "pycharm": {
     "is_executing": false,
     "name": "#%%\n"
    }
   },
   "outputs": [],
   "source": [
    "import pandas as pd\n",
    "from math import log, e, floor\n",
    "\n",
    "base_path = \"res/tatoeba\"\n"
   ]
  },
  {
   "cell_type": "code",
   "execution_count": 2,
   "metadata": {
    "pycharm": {
     "is_executing": false,
     "name": "#%%\n"
    }
   },
   "outputs": [],
   "source": [
    "main_df = pd.read_csv(f\"{base_path}/sentences.csv\", sep=\"\\t\", header=None, names=[\"index\", \"language\", \"sentence\"], \n",
    "                      index_col=0, quoting=3, dtype={\"language\": str, \"sentence\": str}, na_filter=False)"
   ]
  },
  {
   "cell_type": "code",
   "execution_count": 3,
   "metadata": {
    "pycharm": {
     "is_executing": false,
     "name": "#%%\n"
    }
   },
   "outputs": [
    {
     "name": "stdout",
     "output_type": "stream",
     "text": [
      "[('eng', 16519), ('ita', 15002), ('rus', 14899), ('tur', 14763), ('epo', 14432), ('deu', 13720), ('fra', 13190), ('por', 12673), ('spa', 12538), ('hun', 11957), ('ber', 11188), ('heb', 11184), ('jpn', 11141), ('ukr', 10456), ('pol', 9446), ('fin', 9412), ('nld', 9379), ('kab', 8943), ('mkd', 8842), ('cmn', 8227), ('mar', 7768), ('dan', 7294), ('swe', 6855), ('ara', 6777), ('lit', 6766), ('lat', 6731), ('toki', 6705), ('ces', 6672), ('srp', 6591), ('ell', 6562), ('bul', 6065), ('ina', 6018), ('pes', 5652), ('ron', 5458), ('nds', 5362), ('tlh', 5311), ('jbo', 5098), ('tat', 4804), ('tgl', 4793), ('nob', 4792), ('ind', 4637), ('hin', 4525), ('isl', 4414), ('bel', 4305), ('vie', 4295), ('lfn', 3759), ('uig', 3689), ('bre', 3572), ('tuk', 3463), ('ile', 3333), ('eus', 3280), ('cat', 3261), ('yue', 3237), ('oci', 3149), ('hrv', 2985), ('ido', 2982), ('aze', 2913), ('ben', 2840), ('glg', 2733), ('wuu', 2701), ('mhr', 2695), ('kor', 2571), ('avk', 2543), ('afr', 2535), ('cor', 2534), ('slk', 2492), ('est', 2129), ('vol', 2088), ('kaz', 1939), ('cbk', 1921), ('dtp', 1878), ('ilo', 1860), ('zsm', 1804), ('gle', 1731), ('hye', 1730), ('war', 1614), ('run', 1585), ('kzj', 1566), ('urd', 1558), ('lvs', 1528), ('lzh', 1488), ('gos', 1475), ('chv', 1300), ('khm', 1284), ('pam', 1271), ('ceb', 1238), ('arq', 1176), ('kha', 1174), ('orv', 1157), ('sqi', 1135), ('yid', 1115), ('gcf', 1092), ('tha', 1085), ('ota', 1070), ('nno', 1070), ('kat', 1051), ('grn', 1046), ('slv', 1000)]\n"
     ]
    }
   ],
   "source": [
    "def app(x):\n",
    "    if len(x) < 1000:\n",
    "        return None\n",
    "    # elif len(x) <= 1000:\n",
    "    #     return x\n",
    "    # elif len(x) < 1000000:\n",
    "    #     return x.sample(round(10000*(log(len(x))/log(10000))))\n",
    "    else:\n",
    "        f = round((1 + log(len(x)/1000) ** 1.4) * 1000)\n",
    "        return x.sample(f)\n",
    "\n",
    "main_df = main_df.groupby(\"language\").apply(app)\n",
    "filt = main_df[\"language\"].value_counts()\n",
    "langs = filt.index.values\n",
    "counts = filt.values\n",
    "print([z for z in zip(langs, counts)])"
   ]
  },
  {
   "cell_type": "code",
   "execution_count": 4,
   "metadata": {
    "pycharm": {
     "is_executing": false,
     "name": "#%%\n"
    }
   },
   "outputs": [],
   "source": [
    "train_df = main_df.sample(frac=0.7)\n",
    "test_df = main_df.drop(train_df.index).sample(frac=1.)"
   ]
  },
  {
   "cell_type": "code",
   "execution_count": 5,
   "metadata": {
    "pycharm": {
     "is_executing": false,
     "name": "#%%\n"
    }
   },
   "outputs": [],
   "source": [
    "def write(df, name):\n",
    "    x_file = open(f\"{base_path}/x_{name}.txt\", \"w\")\n",
    "    y_file = open(f\"{base_path}/y_{name}.txt\", \"w\")\n",
    "    for i, row in df.iterrows():\n",
    "        x_file.write(row[\"sentence\"] + \"\\n\")\n",
    "        y_file.write(row[\"language\"] + \"\\n\")"
   ]
  },
  {
   "cell_type": "code",
   "execution_count": 6,
   "metadata": {
    "pycharm": {
     "is_executing": false,
     "name": "#%%\n"
    }
   },
   "outputs": [],
   "source": [
    "write(train_df, \"train\")\n",
    "write(test_df, \"test\")"
   ]
  },
  {
   "cell_type": "code",
   "execution_count": 7,
   "metadata": {
    "pycharm": {
     "is_executing": false,
     "name": "#%%\n"
    }
   },
   "outputs": [],
   "source": [
    "del main_df\n",
    "del train_df\n",
    "del test_df"
   ]
  }
 ],
 "metadata": {
  "kernelspec": {
   "display_name": "Python 3",
   "language": "python",
   "name": "python3"
  },
  "language_info": {
   "codemirror_mode": {
    "name": "ipython",
    "version": 3
   },
   "file_extension": ".py",
   "mimetype": "text/x-python",
   "name": "python",
   "nbconvert_exporter": "python",
   "pygments_lexer": "ipython3",
   "version": "3.6.9"
  },
  "pycharm": {
   "stem_cell": {
    "cell_type": "raw",
    "metadata": {
     "collapsed": false
    },
    "source": []
   }
  }
 },
 "nbformat": 4,
 "nbformat_minor": 1
}
