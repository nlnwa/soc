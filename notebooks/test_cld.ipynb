{
 "cells": [
  {
   "cell_type": "markdown",
   "metadata": {
    "pycharm": {
     "name": "#%% md\n"
    }
   },
   "source": [
    "# Test CLD\n",
    "Notebook for various tests of the pycld2 library"
   ]
  },
  {
   "cell_type": "code",
   "execution_count": null,
   "metadata": {},
   "outputs": [],
   "source": []
  },
  {
   "cell_type": "code",
   "execution_count": 1,
   "metadata": {},
   "outputs": [
    {
     "name": "stdout",
     "output_type": "stream",
     "text": [
      "Collecting pandas\n",
      "  Downloading pandas-1.0.4-cp36-cp36m-manylinux1_x86_64.whl (10.1 MB)\n",
      "\u001b[K     |████████████████████████████████| 10.1 MB 1.6 MB/s eta 0:00:01\n",
      "\u001b[?25hCollecting pycld2\n",
      "  Downloading pycld2-0.41.tar.gz (41.4 MB)\n",
      "\u001b[K     |████████████████████████████████| 41.4 MB 152 kB/s  eta 0:00:01█▊                         | 8.7 MB 51.1 MB/s eta 0:00:01    |███████████                     | 14.1 MB 51.1 MB/s eta 0:00:011.1 MB/s eta 0:00:01███████▋                | 20.3 MB 51.1 MB/s eta 0:00:0122.5 MB 51.1 MB/s eta 0:00:01B 51.1 MB/s eta 0:00:01�█████████████████████▏         | 28.7 MB 51.1 MB/s eta 0:00:01   |█████████████████████████▏      | 32.6 MB 51.1 MB/s eta 0:00:01��███████████████████▍   | 36.7 MB 51.1 MB/s eta 0:00:01███████▍| 40.6 MB 51.1 MB/s eta 0:00:01\n",
      "\u001b[?25hCollecting sklearn\n",
      "  Downloading sklearn-0.0.tar.gz (1.1 kB)\n",
      "Requirement already satisfied: python-dateutil>=2.6.1 in /usr/local/lib/python3.6/dist-packages (from pandas) (2.8.1)\n",
      "Requirement already satisfied: numpy>=1.13.3 in /usr/local/lib/python3.6/dist-packages (from pandas) (1.18.5)\n",
      "Collecting pytz>=2017.2\n",
      "  Downloading pytz-2020.1-py2.py3-none-any.whl (510 kB)\n",
      "\u001b[K     |████████████████████████████████| 510 kB 52.8 MB/s eta 0:00:01\n",
      "\u001b[?25hCollecting scikit-learn\n",
      "  Downloading scikit_learn-0.23.1-cp36-cp36m-manylinux1_x86_64.whl (6.8 MB)\n",
      "\u001b[K     |████████████████████████████████| 6.8 MB 62.6 MB/s eta 0:00:01:00:01\n",
      "\u001b[?25hRequirement already satisfied: six>=1.5 in /usr/local/lib/python3.6/dist-packages (from python-dateutil>=2.6.1->pandas) (1.15.0)\n",
      "Requirement already satisfied: scipy>=0.19.1 in /usr/local/lib/python3.6/dist-packages (from scikit-learn->sklearn) (1.4.1)\n",
      "Collecting threadpoolctl>=2.0.0\n",
      "  Downloading threadpoolctl-2.1.0-py3-none-any.whl (12 kB)\n",
      "Collecting joblib>=0.11\n",
      "  Downloading joblib-0.15.1-py3-none-any.whl (298 kB)\n",
      "\u001b[K     |████████████████████████████████| 298 kB 62.3 MB/s eta 0:00:01\n",
      "\u001b[?25hBuilding wheels for collected packages: pycld2, sklearn\n",
      "  Building wheel for pycld2 (setup.py) ... \u001b[?25ldone\n",
      "\u001b[?25h  Created wheel for pycld2: filename=pycld2-0.41-cp36-cp36m-linux_x86_64.whl size=9837283 sha256=c881ed8f9ae9df6f581b10d4d59ae143924ffbeccff9deab448adfe08eb547eb\n",
      "  Stored in directory: /root/.cache/pip/wheels/6b/7e/07/b9336468d80bec16f1d07cb4d6fd0509478618d360e4175f8d\n",
      "  Building wheel for sklearn (setup.py) ... \u001b[?25ldone\n",
      "\u001b[?25h  Created wheel for sklearn: filename=sklearn-0.0-py2.py3-none-any.whl size=2397 sha256=7e01ac478ec4efe1960a403f24d39d9c7c12dc328cd0939386f76255f6f806c1\n",
      "  Stored in directory: /root/.cache/pip/wheels/23/9d/42/5ec745cbbb17517000a53cecc49d6a865450d1f5cb16dc8a9c\n",
      "Successfully built pycld2 sklearn\n",
      "Installing collected packages: pytz, pandas, pycld2, threadpoolctl, joblib, scikit-learn, sklearn\n",
      "Successfully installed joblib-0.15.1 pandas-1.0.4 pycld2-0.41 pytz-2020.1 scikit-learn-0.23.1 sklearn-0.0 threadpoolctl-2.1.0\n",
      "Note: you may need to restart the kernel to use updated packages.\n"
     ]
    }
   ],
   "source": [
    "# Install dependencies\n",
    "%pip install pandas pycld2 sklearn"
   ]
  },
  {
   "cell_type": "code",
   "execution_count": 2,
   "metadata": {},
   "outputs": [],
   "source": [
    "# Imports\n",
    "import os\n",
    "import random\n",
    "import re\n",
    "from collections import Counter\n",
    "\n",
    "import pandas as pd\n",
    "from pycld2 import detect\n",
    "from sklearn.metrics import confusion_matrix, classification_report\n",
    "from sklearn.preprocessing import MultiLabelBinarizer"
   ]
  },
  {
   "cell_type": "markdown",
   "metadata": {
    "pycharm": {
     "name": "#%% md\n"
    }
   },
   "source": [
    "Load data from Wiki files"
   ]
  },
  {
   "cell_type": "code",
   "execution_count": 3,
   "metadata": {
    "pycharm": {
     "name": "#%%\n"
    }
   },
   "outputs": [],
   "source": [
    "data = {}\n",
    "for n in [\"train\", \"val\", \"test\"]:\n",
    "    nowiki = [(line.strip(), \"no\") for line in open(f\"res/wiki/nowiki-{n}.txt\")]\n",
    "    nnwiki = [(line.strip(), \"nn\") for line in open(f\"res/wiki/nnwiki-{n}.txt\")]\n",
    "\n",
    "    m = min(len(nowiki), len(nnwiki))\n",
    "    sample = random.sample(nowiki, m)\n",
    "    sample += random.sample(nnwiki, m)\n",
    "\n",
    "    random.shuffle(sample)\n",
    "\n",
    "    data[n] = sample\n",
    "\n",
    "x_train, y_train = zip(*data[\"train\"])\n",
    "x_val, y_val = zip(*data[\"val\"])\n",
    "x_test, y_test = zip(*data[\"test\"])"
   ]
  },
  {
   "cell_type": "code",
   "execution_count": 22,
   "metadata": {},
   "outputs": [
    {
     "name": "stdout",
     "output_type": "stream",
     "text": [
      "input contains invalid UTF-8 around byte 0 (of 32)\n",
      "input contains invalid UTF-8 around byte 55 (of 85)\n",
      "input contains invalid UTF-8 around byte 26 (of 131)\n",
      "input contains invalid UTF-8 around byte 123 (of 173)\n",
      "input contains invalid UTF-8 around byte 3 (of 113)\n",
      "input contains invalid UTF-8 around byte 59 (of 127)\n",
      "input contains invalid UTF-8 around byte 44 (of 163)\n",
      "input contains invalid UTF-8 around byte 10 (of 128)\n",
      "input contains invalid UTF-8 around byte 111 (of 159)\n",
      "input contains invalid UTF-8 around byte 103 (of 154)\n",
      "input contains invalid UTF-8 around byte 0 (of 54)\n",
      "input contains invalid UTF-8 around byte 8 (of 19)\n",
      "input contains invalid UTF-8 around byte 8 (of 39)\n",
      "input contains invalid UTF-8 around byte 8 (of 38)\n",
      "input contains invalid UTF-8 around byte 23 (of 41)\n",
      "input contains invalid UTF-8 around byte 8 (of 23)\n",
      "input contains invalid UTF-8 around byte 23 (of 219)\n",
      "input contains invalid UTF-8 around byte 75 (of 94)\n",
      "input contains invalid UTF-8 around byte 68 (of 225)\n",
      "[(('nn', 'no'), 125916), (('no', 'nn'), 60212)]\n",
      "[[1119003  125916]\n",
      " [  60212 1252784]]\n",
      "              precision    recall  f1-score   support\n",
      "\n",
      "          nn       0.91      0.89      0.90   1399884\n",
      "          no       0.95      0.80      0.87   1399871\n",
      "          un       0.00      0.00      0.00         0\n",
      "\n",
      "    accuracy                           0.85   2799755\n",
      "   macro avg       0.62      0.56      0.59   2799755\n",
      "weighted avg       0.93      0.85      0.88   2799755\n",
      "\n"
     ]
    }
   ],
   "source": [
    "pred = []\n",
    "true = []\n",
    "for x, y in [(x_train, y_train), (x_val, y_val), (x_test, y_test)]:\n",
    "    for text, label in zip(x, y):\n",
    "        # print(x[:10])\n",
    "        try:\n",
    "            d = detect(text, returnVectors=True, bestEffort=True)\n",
    "            p = d[2][0][1]  # Number one prediction\n",
    "            pred.append(p if p in {\"no\", \"nn\"} else \"un\")\n",
    "            true.append(label)\n",
    "        except Exception as e:\n",
    "            # print(text)\n",
    "            print(e)\n",
    "\n",
    "counter = Counter((a, b) for a, b in zip(pred, true) if a != b and a != \"un\")\n",
    "\n",
    "print(counter.most_common(100))\n",
    "\n",
    "# for y in confusion_matrix(true, pred):\n",
    "#     print(list(y))\n",
    "print(confusion_matrix(true, pred))\n",
    "print(classification_report(true, pred))"
   ]
  },
  {
   "cell_type": "markdown",
   "metadata": {
    "pycharm": {
     "name": "#%% md\n"
    }
   },
   "source": [
    "Load data from WiLI dataset"
   ]
  },
  {
   "cell_type": "code",
   "execution_count": 18,
   "metadata": {
    "pycharm": {
     "name": "#%%\n"
    }
   },
   "outputs": [],
   "source": [
    "wili_train = zip(open(\"res/wili-2018/x_train.txt\"), open(\"res/wili-2018/y_train.txt\"))\n",
    "wili_test = zip(open(\"res/wili-2018/x_test.txt\"), open(\"res/wili-2018/y_test.txt\"))"
   ]
  },
  {
   "cell_type": "code",
   "execution_count": 19,
   "metadata": {
    "pycharm": {
     "name": "#%%\n"
    }
   },
   "outputs": [
    {
     "name": "stdout",
     "output_type": "stream",
     "text": [
      "input contains invalid UTF-8 around byte 1402 (of 46994)\n",
      "input contains invalid UTF-8 around byte 104396 (of 124230)\n"
     ]
    }
   ],
   "source": [
    "df = pd.read_csv(\"res/wili-2018/labels.csv\", delimiter=\";\")\n",
    "\n",
    "pred = []\n",
    "true = []\n",
    "for text, label in wili_test:\n",
    "    text = re.sub(\"[]\", \"\", text)  # Clean text so cld doesn't crash\n",
    "    text = text.strip()\n",
    "    label = label.strip()\n",
    "    try:\n",
    "        d = detect(text, returnVectors=True, bestEffort=True)\n",
    "        p = d[2][0][1]  # Number one prediction\n",
    "        \n",
    "        # Use wiki code from WiLI (matches better with cld codes)\n",
    "        t = df[df[\"Label\"] == label][\"Wiki Code\"].values\n",
    "        \n",
    "        # a few more adjustments for matching\n",
    "        t = t[0] if len(t) > 0 else \"other\"\n",
    "        conv = {\"arz\": \"ar\", \"tcy\": \"kn\", \"he\": \"iw\", \"xmf\": \"ka\", \"be-tarask\": \"be\", \"zh-classical\": \"zh\",\n",
    "                \"zh-yue\": \"zh\", \"jv\": \"jw\"}\n",
    "        t = conv[t] if t in conv else t\n",
    "        \n",
    "        if len(t) == 2 or t == p or t in {\"chr\", \"sco\", \"war\", \"zh-Hant\"}:\n",
    "            pred.append(p if p != \"zh-Hant\" else \"zh\")\n",
    "            true.append(t)\n",
    "    except Exception as e:\n",
    "        # print(text)\n",
    "        print(e)\n"
   ]
  },
  {
   "cell_type": "markdown",
   "metadata": {
    "pycharm": {
     "name": "#%% md\n"
    }
   },
   "source": [
    "Get stats."
   ]
  },
  {
   "cell_type": "code",
   "execution_count": 20,
   "metadata": {
    "pycharm": {
     "name": "#%%\n"
    }
   },
   "outputs": [
    {
     "name": "stdout",
     "output_type": "stream",
     "text": [
      "[(('en', 'sco'), 378), (('eo', 'io'), 347), (('nl', 'li'), 346), (('en', 'ia'), 290), (('en', 'ie'), 270), (('fr', 'wa'), 250), (('hr', 'bs'), 233), (('en', 'sc'), 225), (('hr', 'sh'), 198), (('cy', 'kw'), 197), (('en', 'wa'), 197), (('es', 'an'), 183), (('bs', 'sh'), 178), (('fi', 'se'), 171), (('en', 'kw'), 168), (('en', 'an'), 168), (('bs', 'hr'), 130), (('qu', 'ay'), 124), (('da', 'nv'), 115), (('ru', 'kv'), 112), (('en', 'av'), 111), (('uz', 'av'), 108), (('hi', 'bh'), 107), (('en', 'yo'), 107), (('sr', 'kv'), 105), (('sr', 'sh'), 94), (('fr', 'oc'), 92), (('en', 'ig'), 86), (('en', 'ku'), 82), (('en', 'li'), 79), (('co', 'sc'), 75), (('en', 'sn'), 71), (('en', 'la'), 69), (('en', 'io'), 65), (('sm', 'se'), 64), (('ru', 'os'), 63), (('af', 'li'), 63), (('gl', 'an'), 61), (('br', 'kw'), 59), (('en', 'km'), 58), (('en', 'bn'), 56), (('cs', 'ku'), 54), (('aa', 'nv'), 51), (('rw', 'io'), 48), (('ro', 'av'), 48), (('id', 'ms'), 48), (('tr', 'ku'), 47), (('ru', 'av'), 45), (('mn', 'os'), 45), (('th', 'lo'), 44), (('sr', 'os'), 43), (('en', 'se'), 43), (('be', 'os'), 42), (('it', 'sc'), 41), (('en', 'pt'), 40), (('sg', 'ku'), 38), (('sr', 'mk'), 38), (('ga', 'nv'), 38), (('be', 'kv'), 37), (('et', 'se'), 35), (('ab', 'os'), 35), (('en', 'nv'), 34), (('fr', 'ie'), 34), (('sr', 'bs'), 33), (('kk', 'os'), 33), (('st', 'nv'), 33), (('tg', 'os'), 33), (('en', 'ca'), 32), (('en', 'zh'), 32), (('vi', 'ku'), 31), (('fr', 'ln'), 31), (('en', 'si'), 30), (('ha', 'ku'), 30), (('en', 'xh'), 29), (('fr', 'lb'), 29), (('en', 'te'), 29), (('rw', 'ku'), 29), (('ms', 'id'), 28), (('nn', 'no'), 28), (('om', 'nv'), 27), (('ms', 'ku'), 26), (('en', 'sl'), 26), (('en', 'oc'), 26), (('en', 'rw'), 24), (('sk', 'sc'), 24), (('ga', 'se'), 23), (('wo', 'nv'), 23), (('en', 'fy'), 23), (('en', 'lg'), 23), (('en', 'lb'), 22), (('la', 'sc'), 22), (('en', 'it'), 22), (('en', 'ps'), 22), (('gl', 'sc'), 22), (('id', 'jw'), 22), (('en', 'mr'), 22), (('en', 'nl'), 21), (('en', 'or'), 21), (('ca', 'an'), 20), (('it', 'co'), 20)]\n",
      "[[   0    0    0 ...    0    0    0]\n",
      " [   0    0    0 ...    0    0    0]\n",
      " [   0    0  491 ...    0    0    0]\n",
      " ...\n",
      " [   0    0    0 ...  386    0    0]\n",
      " [   0    0    0 ...    0 1454    0]\n",
      " [   0    0    0 ...    0    0    0]]\n"
     ]
    },
    {
     "name": "stderr",
     "output_type": "stream",
     "text": [
      "/usr/local/lib/python3.6/dist-packages/sklearn/metrics/_classification.py:1221: UndefinedMetricWarning: Precision and F-score are ill-defined and being set to 0.0 in labels with no predicted samples. Use `zero_division` parameter to control this behavior.\n",
      "  _warn_prf(average, modifier, msg_start, len(result))\n"
     ]
    },
    {
     "name": "stdout",
     "output_type": "stream",
     "text": [
      "              precision    recall  f1-score   support\n",
      "\n",
      "          aa       0.00      0.00      0.00         0\n",
      "          ab       0.00      0.00      0.00         0\n",
      "          af       0.87      0.98      0.92       500\n",
      "          ak       0.00      0.00      0.00         0\n",
      "          am       1.00      0.99      0.99       500\n",
      "          an       0.00      0.00      0.00       500\n",
      "          ar       0.99      0.99      0.99      1000\n",
      "          as       1.00      0.97      0.98       500\n",
      "          av       0.00      0.00      0.00       500\n",
      "          ay       1.00      0.68      0.81       500\n",
      "          az       0.96      0.98      0.97       500\n",
      "          ba       0.95      0.98      0.96       500\n",
      "          be       0.92      0.98      0.95      1000\n",
      "          bg       0.96      0.93      0.94       500\n",
      "          bh       0.99      0.75      0.85       500\n",
      "          bi       0.00      0.00      0.00         0\n",
      "          bn       1.00      0.88      0.94       500\n",
      "          bo       1.00      1.00      1.00       498\n",
      "          br       0.89      0.98      0.93       500\n",
      "          bs       0.39      0.44      0.41       500\n",
      "          ca       0.90      0.92      0.91       500\n",
      "          ce       0.00      0.00      0.00       500\n",
      "         ceb       0.99      1.00      1.00       404\n",
      "         chr       1.00      0.98      0.99       500\n",
      "          co       0.86      0.94      0.89       500\n",
      "         crs       0.00      0.00      0.00         0\n",
      "          cs       0.86      0.97      0.91       500\n",
      "          cv       0.00      0.00      0.00       500\n",
      "          cy       0.71      0.99      0.82       500\n",
      "          da       0.76      0.93      0.84       500\n",
      "          de       0.79      0.97      0.87       500\n",
      "          dv       1.00      1.00      1.00       500\n",
      "          el       1.00      0.99      0.99       500\n",
      "          en       0.12      1.00      0.21       500\n",
      "          eo       0.56      0.97      0.71       500\n",
      "          es       0.64      0.95      0.76       500\n",
      "          et       0.92      0.95      0.94       500\n",
      "          eu       0.94      0.99      0.97       500\n",
      "          fa       0.99      1.00      1.00       500\n",
      "          fi       0.73      1.00      0.84       500\n",
      "          fj       0.00      0.00      0.00         0\n",
      "          fo       0.99      0.98      0.98       500\n",
      "          fr       0.46      0.97      0.63       500\n",
      "          fy       0.99      0.94      0.96       500\n",
      "          ga       0.88      0.96      0.92       500\n",
      "          gd       0.97      0.97      0.97       500\n",
      "          gl       0.82      0.95      0.88       500\n",
      "          gn       0.98      0.96      0.97       500\n",
      "          gu       1.00      0.96      0.98       500\n",
      "          gv       0.96      0.98      0.97       500\n",
      "          ha       0.94      0.99      0.96       500\n",
      "          hi       0.81      0.98      0.88       500\n",
      "         hmn       0.00      0.00      0.00         0\n",
      "          hr       0.44      0.68      0.54       500\n",
      "          ht       1.00      0.98      0.99       500\n",
      "          hu       0.96      0.98      0.97       500\n",
      "          hy       1.00      0.98      0.99       500\n",
      "          ia       0.97      0.38      0.55       500\n",
      "          id       0.81      0.90      0.85       500\n",
      "          ie       0.96      0.26      0.41       500\n",
      "          ig       0.99      0.83      0.90       500\n",
      "          io       0.00      0.00      0.00       500\n",
      "          is       0.98      0.99      0.99       500\n",
      "          it       0.84      0.93      0.88       500\n",
      "          iw       0.99      1.00      1.00       500\n",
      "          ja       0.97      0.99      0.98       500\n",
      "          jw       0.97      0.92      0.95       500\n",
      "          ka       1.00      0.98      0.99      1000\n",
      "         kha       0.00      0.00      0.00         0\n",
      "          kk       0.91      1.00      0.95       500\n",
      "          kl       0.00      0.00      0.00         0\n",
      "          km       1.00      0.88      0.94       500\n",
      "          kn       1.00      0.99      1.00      1000\n",
      "          ko       1.00      0.99      0.99       500\n",
      "          ks       0.00      0.00      0.00         0\n",
      "          ku       0.00      0.00      0.00       500\n",
      "          kv       0.00      0.00      0.00       500\n",
      "          kw       0.00      0.00      0.00       500\n",
      "          ky       0.95      0.99      0.97       500\n",
      "          la       0.89      0.83      0.86       500\n",
      "          lb       0.98      0.87      0.92       500\n",
      "          lg       0.99      0.95      0.97       500\n",
      "          li       0.00      0.00      0.00       500\n",
      "          ln       1.00      0.89      0.94       500\n",
      "          lo       1.00      0.87      0.93       500\n",
      "          lt       0.99      0.98      0.98       500\n",
      "          lv       0.99      0.98      0.98       500\n",
      "         mfe       0.00      0.00      0.00         0\n",
      "          mg       0.99      1.00      1.00       500\n",
      "          mi       0.99      0.99      0.99       500\n",
      "          mk       0.97      0.90      0.93       500\n",
      "          ml       1.00      0.99      0.99       500\n",
      "          mn       0.91      1.00      0.95       500\n",
      "          mr       1.00      0.95      0.97       500\n",
      "          ms       0.87      0.87      0.87       500\n",
      "          mt       0.99      0.99      0.99       500\n",
      "          my       1.00      1.00      1.00       500\n",
      "          na       0.00      0.00      0.00         0\n",
      "          ne       1.00      0.96      0.98       500\n",
      "          nl       0.56      0.93      0.70       500\n",
      "          nn       0.90      0.96      0.93       500\n",
      "          no       0.94      0.90      0.92       500\n",
      "         nso       1.00      1.00      1.00        79\n",
      "          nv       0.00      0.00      0.00       500\n",
      "          ny       0.00      0.00      0.00         0\n",
      "          oc       0.89      0.75      0.81       500\n",
      "          om       0.93      0.97      0.95       500\n",
      "          or       1.00      0.96      0.98       500\n",
      "          os       0.00      0.00      0.00       500\n",
      "          pa       1.00      0.98      0.99       500\n",
      "          pl       0.97      0.99      0.98       500\n",
      "          ps       1.00      0.95      0.98       500\n",
      "          pt       0.90      0.91      0.90       500\n",
      "          qu       0.78      0.95      0.86       500\n",
      "          rm       0.97      0.96      0.96       500\n",
      "          rn       0.00      0.00      0.00         0\n",
      "          ro       0.87      0.97      0.92       500\n",
      "          ru       0.60      0.90      0.72       500\n",
      "          rw       0.84      0.92      0.88       500\n",
      "          sa       0.98      0.99      0.98       500\n",
      "          sc       0.00      0.00      0.00       500\n",
      "         sco       0.77      0.23      0.35       500\n",
      "          sd       0.99      0.99      0.99       500\n",
      "          se       0.00      0.00      0.00       500\n",
      "          sg       0.00      0.00      0.00         0\n",
      "          sh       0.00      0.00      0.00       500\n",
      "          si       1.00      0.94      0.97       500\n",
      "          sk       0.89      0.99      0.94       500\n",
      "          sl       0.99      0.91      0.94       500\n",
      "          sm       0.00      0.00      0.00         0\n",
      "          sn       1.00      0.85      0.92       500\n",
      "          so       0.94      0.94      0.94       500\n",
      "          sq       0.95      0.98      0.96       500\n",
      "          sr       0.57      0.94      0.71       500\n",
      "          ss       0.00      0.00      0.00         0\n",
      "          st       0.00      0.00      0.00         0\n",
      "          su       0.99      0.93      0.96       500\n",
      "          sv       0.98      0.97      0.97       500\n",
      "          sw       0.99      0.96      0.97       500\n",
      "          ta       1.00      0.99      0.99       500\n",
      "          te       1.00      0.94      0.97       500\n",
      "          tg       0.91      0.97      0.94       500\n",
      "          th       0.92      0.99      0.95       500\n",
      "          tk       0.89      0.99      0.94       500\n",
      "          tl       0.99      0.96      0.97       500\n",
      "         tlh       0.00      0.00      0.00         0\n",
      "          tn       0.99      0.96      0.97       500\n",
      "          to       0.99      0.99      0.99       500\n",
      "          tr       0.87      0.98      0.92       500\n",
      "          tt       0.96      0.98      0.97       500\n",
      "          ug       0.99      0.99      0.99       500\n",
      "          uk       0.97      0.98      0.98       500\n",
      "          un       0.00      0.00      0.00         0\n",
      "          ur       1.00      0.95      0.97       500\n",
      "          uz       0.79      0.98      0.88       500\n",
      "          ve       0.00      0.00      0.00         0\n",
      "          vi       0.93      0.98      0.96       500\n",
      "          vo       0.99      1.00      0.99       500\n",
      "          wa       0.00      0.00      0.00       500\n",
      "         war       0.94      0.96      0.95       500\n",
      "          wo       0.94      0.93      0.94       500\n",
      "          xh       0.99      0.94      0.96       500\n",
      "          yi       1.00      0.97      0.99       500\n",
      "          yo       0.95      0.77      0.85       500\n",
      "          zh       1.00      0.97      0.98      1500\n",
      "          zu       0.00      0.00      0.00         0\n",
      "\n",
      "    accuracy                           0.84     74481\n",
      "   macro avg       0.71      0.72      0.71     74481\n",
      "weighted avg       0.82      0.84      0.82     74481\n",
      "\n"
     ]
    }
   ],
   "source": [
    "counter = Counter((a, b) for a, b in zip(pred, true) if a != b and a != \"un\")\n",
    "\n",
    "print(counter.most_common(100))\n",
    "\n",
    "# for y in confusion_matrix(true, pred):\n",
    "#     print(list(y))\n",
    "print(confusion_matrix(true, pred))\n",
    "print(classification_report(true, pred))"
   ]
  },
  {
   "cell_type": "markdown",
   "metadata": {
    "pycharm": {
     "name": "#%% md\n"
    }
   },
   "source": [
    "Additional speaker text identification"
   ]
  },
  {
   "cell_type": "code",
   "execution_count": null,
   "metadata": {
    "pycharm": {
     "name": "#%%\n"
    }
   },
   "outputs": [],
   "source": [
    "files = os.listdir(\"res/speaker_texts\")\n",
    "files = sorted(files, key=lambda x: x.lower().replace(\"æ\", \"{\").replace(\"ø\", \"|\").replace(\"å\", \"}\"))\n",
    "\n",
    "d = open(\"speakers.csv\", \"w\")\n",
    "d.write(\"file,is_reliable,bytes,\" + \",\".join(\n",
    "    (f\"lang{i}_name,lang{i}_code,lang{i}_percentage,lang{i}_score\" for i in range(3))) + \"\\n\")\n",
    "\n",
    "for f in files:\n",
    "    print(f)\n",
    "    txt = open(f\"res/speaker_texts/{f}\").read()\n",
    "    txt = re.sub(r\"(^|\\n)[^\\t]+\\t\", \"\", txt)\n",
    "    det = detect(txt, hintTopLevelDomain=\"no\")\n",
    "\n",
    "    d.write(f + \",\" + re.sub(r\"[\\s()]+\", \"\", str(det)) + \"\\n\")\n"
   ]
  }
 ],
 "metadata": {
  "celltoolbar": "Raw Cell Format",
  "kernelspec": {
   "display_name": "Python 3",
   "language": "python",
   "name": "python3"
  },
  "language_info": {
   "codemirror_mode": {
    "name": "ipython",
    "version": 3
   },
   "file_extension": ".py",
   "mimetype": "text/x-python",
   "name": "python",
   "nbconvert_exporter": "python",
   "pygments_lexer": "ipython3",
   "version": "3.6.9"
  },
  "pycharm": {
   "stem_cell": {
    "cell_type": "raw",
    "metadata": {
     "collapsed": false
    },
    "source": []
   }
  }
 },
 "nbformat": 4,
 "nbformat_minor": 1
}
