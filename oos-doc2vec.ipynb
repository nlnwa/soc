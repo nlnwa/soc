{
 "cells": [
  {
   "cell_type": "markdown",
   "source": [
    "# Out-of-scope Doc2Vec\n",
    "Creates Doc2Vec representations from the OOS list."
   ],
   "metadata": {
    "collapsed": false
   }
  },
  {
   "cell_type": "code",
   "execution_count": 10,
   "outputs": [],
   "source": [
    "# Imports\n",
    "import re\n",
    "from pprint import pprint\n",
    "\n",
    "import pandas as pd\n",
    "from gensim.models import Doc2Vec\n",
    "from gensim.models.doc2vec import TaggedDocument"
   ],
   "metadata": {
    "collapsed": false,
    "pycharm": {
     "name": "#%%\n",
     "is_executing": false
    }
   }
  },
  {
   "cell_type": "markdown",
   "source": [
    "Generate Doc2Vec for websites."
   ],
   "metadata": {
    "collapsed": false,
    "pycharm": {
     "name": "#%% md\n"
    }
   }
  },
  {
   "cell_type": "code",
   "execution_count": 11,
   "outputs": [
    {
     "name": "stderr",
     "text": [
      "/home/rolv-arild/PycharmProjects/soc/venv/lib/python3.6/site-packages/smart_open/smart_open_lib.py:398: UserWarning: This function is deprecated, use smart_open.open instead. See the migration notes for details: https://github.com/RaRe-Technologies/smart_open/blob/master/README.rst#migrating-to-the-new-open-function\n  'See the migration notes for details: %s' % _MIGRATION_NOTES_URL\n"
     ],
     "output_type": "stream"
    }
   ],
   "source": [
    "data_path = \"uri_scores.csv\"\n",
    "file = pd.read_csv(data_path)\n",
    "\n",
    "def iter_urls(file):\n",
    "    for i, row in file.iterrows():\n",
    "        url, text = row[\"original_url\"], str(row[\"text\"])\n",
    "        yield url, text\n",
    "\n",
    "\n",
    "class TaggedWebpageDocument(object):\n",
    "    def __iter__(self):\n",
    "        for url, text in iter_urls(file):\n",
    "            words = [c for c in re.split(r\"\\s+\", re.sub(r\"[^\\w\\s]+\", \" \", text)) if len(c) > 0]\n",
    "            yield TaggedDocument(words, [url])\n",
    "\n",
    "\n",
    "documents = TaggedWebpageDocument()\n",
    "model = Doc2Vec(documents, window=7, vector_size=256, workers=4)\n",
    "model.save(\"oos-doc2vec\")"
   ],
   "metadata": {
    "collapsed": false,
    "pycharm": {
     "name": "#%%\n",
     "is_executing": false
    }
   }
  },
  {
   "cell_type": "code",
   "execution_count": null,
   "outputs": [],
   "source": [
    "model = Doc2Vec.load(\"oos-doc2vec\")"
   ],
   "metadata": {
    "collapsed": false,
    "pycharm": {
     "name": "#%%\n"
    }
   }
  },
  {
   "cell_type": "markdown",
   "source": [
    "Small tests."
   ],
   "metadata": {
    "collapsed": false
   }
  },
  {
   "cell_type": "code",
   "execution_count": 12,
   "outputs": [
    {
     "name": "stdout",
     "text": [
      "[('http://itunes.apple.com', 0.9488991498947144),\n ('http://ax.itunes.apple.com', 0.8805733919143677),\n ('http://www.apple.com', 0.810758113861084),\n ('https://www.haugnett.no', 0.7921438217163086),\n ('http://www.lifesalt.it', 0.7871398329734802),\n ('http://www.midikaraoke.fr', 0.7832567095756531),\n ('http://maps.apple.com', 0.7820781469345093),\n ('http://www.sandrarossi.it', 0.781813383102417),\n ('https://www.apple.com', 0.7807577252388),\n ('https://www.neas.mr.no', 0.7788445353507996)]\n[('http://vestorcollect.no', 0.7750795483589172),\n ('http://algarheim.backe.no', 0.7714511752128601),\n ('http://www.explorauto.co.cr', 0.7688676714897156),\n ('http://www.annelisenorheim.no', 0.7681679725646973),\n ('https://www.naob.no', 0.7664501667022705),\n ('https://grorud.osloskolen.no', 0.7660972476005554),\n ('http://facebook.no', 0.7657254338264465),\n ('http://monicaslykke.blogspot.com', 0.7653048634529114),\n ('http://t4h.chromecrm.com', 0.7646962404251099),\n ('http://jaktlia.backe.no', 0.7643650770187378)]\n[('http://www.toshiba.fi', 0.8892852067947388),\n ('https://www.speedservices.fi', 0.8888482451438904),\n ('http://www.uef.fi', 0.8772764205932617),\n ('https://www.apsisfinland.fi', 0.8712373971939087),\n ('https://www.theben.fi', 0.8684325218200684),\n ('https://www.thl.fi', 0.8671317100524902),\n ('https://www.duracell.fi', 0.8636255264282227),\n ('https://www.flashbay.fi', 0.863512396812439),\n ('https://www.yoursurprise.fi', 0.8621069192886353),\n ('https://www.finanssivalvonta.fi', 0.8619253039360046)]\n"
     ],
     "output_type": "stream"
    }
   ],
   "source": [
    "pprint(model.docvecs.most_similar(positive=[\"https://itunes.apple.com\"], topn=10))\n",
    "pprint(model.docvecs.most_similar(positive=[\"https://begrep.difi.no\"], topn=10))\n",
    "pprint(model.docvecs.most_similar(positive=[\"https://www.sharp.fi\"], topn=10))"
   ],
   "metadata": {
    "collapsed": false,
    "pycharm": {
     "name": "#%%\n",
     "is_executing": false
    }
   }
  },
  {
   "cell_type": "markdown",
   "source": [
    "Write to CSV for later analysis."
   ],
   "metadata": {
    "collapsed": false,
    "pycharm": {
     "name": "#%% md\n"
    }
   }
  },
  {
   "cell_type": "code",
   "execution_count": 13,
   "outputs": [
    {
     "name": "stdout",
     "text": [
      "(67881, 41) 67881\n"
     ],
     "output_type": "stream"
    }
   ],
   "source": [
    "print(file.shape, len(model.docvecs.doctags))\n",
    "fw = open(\"oos-doc2vec.csv\", \"w\")\n",
    "fw.write(\",\".join(file.columns) + \",\" + \",\".join([f\"v{i}\" for i in range(256)]) + \"\\n\")\n",
    "for tag in model.docvecs.doctags:\n",
    "    vec = model.docvecs[tag]\n",
    "    rest = file[file[\"original_url\"] == tag].values[0]\n",
    "    fw.write(\",\".join([str(v).replace(\",\", \"|\") for v in rest]) + \",\" + \",\".join([str(v) for v in vec]) + \"\\n\")"
   ],
   "metadata": {
    "collapsed": false,
    "pycharm": {
     "name": "#%%\n",
     "is_executing": false
    }
   }
  },
  {
   "cell_type": "markdown",
   "source": [
    "For converting to [TensorFlow embedding projector](https://projector.tensorflow.org/) compatible format"
   ],
   "metadata": {
    "collapsed": false
   }
  },
  {
   "cell_type": "code",
   "execution_count": 14,
   "outputs": [
    {
     "name": "stderr",
     "text": [
      "/home/rolv-arild/PycharmProjects/soc/venv/lib/python3.6/site-packages/IPython/core/interactiveshell.py:3057: DtypeWarning: Columns (7,11,17,19,20,21,37) have mixed types. Specify dtype option on import or set low_memory=False.\n  interactivity=interactivity, compiler=compiler, result=result)\n"
     ],
     "output_type": "stream"
    }
   ],
   "source": [
    "import pandas as pd\n",
    "\n",
    "fn = \"oos-doc2vec.csv\"\n",
    "csv = pd.read_csv(fn, index_col=False)\n",
    "\n",
    "csv = csv.dropna(subset=[f\"v{i}\" for i in range(256)])\n",
    "csv = csv.fillna(\"missing\")\n",
    "\n",
    "filt = \"v\\d+\"\n",
    "tsv1 = csv.filter(regex=filt)\n",
    "tsv2 = csv.drop(tsv1.columns, axis=1)\n",
    "tsv2 = tsv2.drop(\"text\", axis=1)\n",
    "\n",
    "tsv2 = tsv2.set_index(\"original_url\")\n",
    "\n",
    "tsv1.to_csv(fn.replace(\".csv\", \"-vec.tsv\"), header=False, sep=\"\\t\", index=False)\n",
    "tsv2.to_csv(fn.replace(\".csv\", \"-meta.tsv\"), sep=\"\\t\", index=True)"
   ],
   "metadata": {
    "collapsed": false,
    "pycharm": {
     "name": "#%%\n",
     "is_executing": false
    }
   }
  },
  {
   "cell_type": "markdown",
   "source": [
    "For Weka compatibility"
   ],
   "metadata": {
    "collapsed": false,
    "pycharm": {
     "name": "#%% md\n"
    }
   }
  },
  {
   "cell_type": "code",
   "execution_count": 19,
   "outputs": [],
   "source": [
    "tsv2.reset_index().to_csv(\"oos.csv\", index=False, quotechar=\"`\")"
   ],
   "metadata": {
    "collapsed": false,
    "pycharm": {
     "name": "#%%\n",
     "is_executing": false
    }
   }
  }
 ],
 "metadata": {
  "language_info": {
   "codemirror_mode": {
    "name": "ipython",
    "version": 2
   },
   "file_extension": ".py",
   "mimetype": "text/x-python",
   "name": "python",
   "nbconvert_exporter": "python",
   "pygments_lexer": "ipython2",
   "version": "2.7.6"
  },
  "kernelspec": {
   "name": "python3",
   "language": "python",
   "display_name": "Python 3"
  },
  "pycharm": {
   "stem_cell": {
    "cell_type": "raw",
    "source": [],
    "metadata": {
     "collapsed": false
    }
   }
  }
 },
 "nbformat": 4,
 "nbformat_minor": 0
}