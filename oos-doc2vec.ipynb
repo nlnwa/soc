{
 "cells": [
  {
   "cell_type": "code",
   "execution_count": 1,
   "outputs": [],
   "source": [
    "import re\n",
    "from pprint import pprint\n",
    "\n",
    "import pandas as pd\n",
    "from gensim.models import Doc2Vec\n",
    "from gensim.models.doc2vec import TaggedDocument"
   ],
   "metadata": {
    "collapsed": false,
    "pycharm": {
     "name": "#%%\n",
     "is_executing": false
    }
   }
  },
  {
   "cell_type": "code",
   "execution_count": 16,
   "outputs": [
    {
     "name": "stderr",
     "text": [
      "/home/rolv-arild/PycharmProjects/soc/venv/lib/python3.6/site-packages/smart_open/smart_open_lib.py:398: UserWarning: This function is deprecated, use smart_open.open instead. See the migration notes for details: https://github.com/RaRe-Technologies/smart_open/blob/master/README.rst#migrating-to-the-new-open-function\n  'See the migration notes for details: %s' % _MIGRATION_NOTES_URL\n"
     ],
     "output_type": "stream"
    }
   ],
   "source": [
    "data_path = \"uri_scores.csv\"\n",
    "file = pd.read_csv(data_path)\n",
    "\n",
    "def iter_urls(file):\n",
    "    for i, row in file.iterrows():\n",
    "        url, text = row[\"orig_url\"], str(row[\"text\"])\n",
    "        yield url, text\n",
    "\n",
    "\n",
    "class TaggedWebpageDocument(object):\n",
    "    def __iter__(self):\n",
    "        for url, text in iter_urls(file):\n",
    "            words = [c for c in re.split(r\"\\s+\", re.sub(r\"[^\\w\\s]+\", \" \", text)) if len(c) > 0]\n",
    "            yield TaggedDocument(words, [url])\n",
    "\n",
    "\n",
    "documents = TaggedWebpageDocument()\n",
    "model = Doc2Vec(documents, window=7, vector_size=256, workers=4)\n",
    "model.save(\"oos-doc2vec\")"
   ],
   "metadata": {
    "collapsed": false,
    "pycharm": {
     "name": "#%%\n",
     "is_executing": false
    }
   }
  },
  {
   "cell_type": "code",
   "execution_count": null,
   "outputs": [],
   "source": [
    "model = Doc2Vec.load(\"oos-doc2vec\")"
   ],
   "metadata": {
    "collapsed": false,
    "pycharm": {
     "name": "#%%\n"
    }
   }
  },
  {
   "cell_type": "code",
   "execution_count": 7,
   "outputs": [
    {
     "name": "stdout",
     "text": [
      "[('http://itunes.apple.com', 0.9400783777236938),\n ('http://ax.itunes.apple.com', 0.9343364238739014),\n ('https://geo.itunes.apple.com', 0.8924614787101746),\n ('http://www.apple.com', 0.8770399689674377),\n ('http://apple.com', 0.8673635125160217),\n ('https://www.apple.com', 0.8480823040008545),\n ('http://livepage.apple.com', 0.8468115329742432),\n ('http://store.apple.com', 0.8216663002967834),\n ('https://maps.apple.com', 0.8066335916519165),\n ('https://amzn.to', 0.7956060171127319)]\n[('http://kopweb.hig.no', 0.7531193494796753),\n ('http://www.arabiskfilm.no', 0.7507939338684082),\n ('http://www.haukeboe-computing.no', 0.7448505163192749),\n ('http://heatsec.datasenter.no', 0.7444443106651306),\n ('http://www.solberg.as', 0.7441533803939819),\n ('https://uks.hypersys.no', 0.74281245470047),\n ('http://teddy-jenssen.datasenter.no', 0.7424317002296448),\n ('https://scholar.google.no', 0.7416311502456665),\n ('http://proxy.helsebiblioteket.no', 0.7394607067108154),\n ('http://www.hig.no', 0.7369590997695923)]\n[('https://www.apsisfinland.fi', 0.9336442947387695),\n ('https://www.speedservices.fi', 0.9143002033233643),\n ('http://www.valtra.fi', 0.9124715328216553),\n ('http://www.accountor.fi', 0.9114328622817993),\n ('https://www.wellspect.fi', 0.9103134870529175),\n ('http://www.petrakeittiot.fi', 0.9084012508392334),\n ('http://www.dechra.fi', 0.9067656993865967),\n ('https://www.printondirect.fi', 0.906501054763794),\n ('http://www.oph.fi', 0.9057929515838623),\n ('http://www.schiedel.fi', 0.9054930806159973)]\n"
     ],
     "output_type": "stream"
    }
   ],
   "source": [
    "pprint(model.docvecs.most_similar(positive=[\"https://itunes.apple.com\"], topn=10))\n",
    "pprint(model.docvecs.most_similar(positive=[\"https://begrep.difi.no\"], topn=10))\n",
    "pprint(model.docvecs.most_similar(positive=[\"https://www.sharp.fi\"], topn=10))"
   ],
   "metadata": {
    "collapsed": false,
    "pycharm": {
     "name": "#%%\n",
     "is_executing": false
    }
   }
  },
  {
   "cell_type": "code",
   "execution_count": 17,
   "outputs": [
    {
     "name": "stdout",
     "text": [
      "(7336, 40) 7334\n"
     ],
     "output_type": "stream"
    }
   ],
   "source": [
    "print(file.shape, len(model.docvecs.doctags))\n",
    "fw = open(\"oos-doc2vec.csv\", \"w\")\n",
    "fw.write(\",\".join(file.columns) + \",\" + \",\".join([f\"v{i}\" for i in range(256)]) + \"\\n\")\n",
    "for tag in model.docvecs.doctags:\n",
    "    vec = model.docvecs[tag]\n",
    "    rest = file[file[\"orig_url\"] == tag].values[0]\n",
    "    fw.write(\",\".join([str(v).replace(\",\", \"|\") for v in rest]) + \",\" + \",\".join([str(v) for v in vec]) + \"\\n\")\n"
   ],
   "metadata": {
    "collapsed": false,
    "pycharm": {
     "name": "#%%\n",
     "is_executing": false
    }
   }
  }
 ],
 "metadata": {
  "language_info": {
   "codemirror_mode": {
    "name": "ipython",
    "version": 2
   },
   "file_extension": ".py",
   "mimetype": "text/x-python",
   "name": "python",
   "nbconvert_exporter": "python",
   "pygments_lexer": "ipython2",
   "version": "2.7.6"
  },
  "kernelspec": {
   "name": "python3",
   "language": "python",
   "display_name": "Python 3"
  },
  "pycharm": {
   "stem_cell": {
    "cell_type": "raw",
    "source": [],
    "metadata": {
     "collapsed": false
    }
   }
  }
 },
 "nbformat": 4,
 "nbformat_minor": 0
}