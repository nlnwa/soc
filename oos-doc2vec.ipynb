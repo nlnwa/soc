{
 "cells": [
  {
   "cell_type": "markdown",
   "source": [
    "# Out-of-scope Doc2Vec\n",
    "Creates Doc2Vec representations from the OOS list."
   ],
   "metadata": {
    "collapsed": false
   }
  },
  {
   "cell_type": "code",
   "execution_count": 1,
   "outputs": [],
   "source": [
    "# Imports\n",
    "import re\n",
    "from pprint import pprint\n",
    "\n",
    "import pandas as pd\n",
    "from gensim.models import Doc2Vec\n",
    "from gensim.models.doc2vec import TaggedDocument"
   ],
   "metadata": {
    "collapsed": false,
    "pycharm": {
     "name": "#%%\n",
     "is_executing": false
    }
   }
  },
  {
   "cell_type": "markdown",
   "source": [
    "Generate Doc2Vec for websites."
   ],
   "metadata": {
    "collapsed": false,
    "pycharm": {
     "name": "#%% md\n"
    }
   }
  },
  {
   "cell_type": "code",
   "execution_count": 23,
   "outputs": [
    {
     "name": "stderr",
     "text": [
      "/home/rolv-arild/PycharmProjects/soc/venv/lib/python3.6/site-packages/smart_open/smart_open_lib.py:398: UserWarning: This function is deprecated, use smart_open.open instead. See the migration notes for details: https://github.com/RaRe-Technologies/smart_open/blob/master/README.rst#migrating-to-the-new-open-function\n  'See the migration notes for details: %s' % _MIGRATION_NOTES_URL\n"
     ],
     "output_type": "stream"
    }
   ],
   "source": [
    "data_path = \"uri_scores.csv\"\n",
    "file = pd.read_csv(data_path)\n",
    "\n",
    "def iter_urls(file):\n",
    "    for i, row in file.iterrows():\n",
    "        url, text = row[\"orig_url\"], str(row[\"text\"])\n",
    "        yield url, text\n",
    "\n",
    "\n",
    "class TaggedWebpageDocument(object):\n",
    "    def __iter__(self):\n",
    "        for url, text in iter_urls(file):\n",
    "            words = [c for c in re.split(r\"\\s+\", re.sub(r\"[^\\w\\s]+\", \" \", text)) if len(c) > 0]\n",
    "            yield TaggedDocument(words, [url])\n",
    "\n",
    "\n",
    "documents = TaggedWebpageDocument()\n",
    "model = Doc2Vec(documents, window=7, vector_size=256, workers=4)\n",
    "model.save(\"oos-doc2vec\")"
   ],
   "metadata": {
    "collapsed": false,
    "pycharm": {
     "name": "#%%\n",
     "is_executing": false
    }
   }
  },
  {
   "cell_type": "code",
   "execution_count": null,
   "outputs": [],
   "source": [
    "model = Doc2Vec.load(\"oos-doc2vec\")"
   ],
   "metadata": {
    "collapsed": false,
    "pycharm": {
     "name": "#%%\n"
    }
   }
  },
  {
   "cell_type": "markdown",
   "source": [
    "Small tests."
   ],
   "metadata": {
    "collapsed": false
   }
  },
  {
   "cell_type": "code",
   "execution_count": 19,
   "outputs": [
    {
     "name": "stdout",
     "text": [
      "[('http://ax.itunes.apple.com', 0.9485054016113281),\n ('http://itunes.apple.com', 0.9328069090843201),\n ('https://geo.itunes.apple.com', 0.9216475486755371),\n ('https://www.apple.com', 0.8240509033203125),\n ('https://www.amazon.com', 0.8226394653320312),\n ('http://www.aidostage.fr', 0.8219770193099976),\n ('http://www.correcomalma.com', 0.8207328915596008),\n ('http://amzn.com', 0.8118586540222168),\n ('http://www.dokteronline.it', 0.811695396900177),\n ('http://amazon.com', 0.8116165399551392)]\n[('http://www.mote.no', 0.8155286312103271),\n ('http://planthunters-gartentagebuch.blogspot.com', 0.8011577129364014),\n ('http://vicoeiendom.no', 0.7955466508865356),\n ('http://www.vulkanmatsal.no', 0.7936769723892212),\n ('http://blinktunet.no', 0.7916043996810913),\n ('http://www.bagszip.com', 0.7908911108970642),\n ('http://www.naob.no', 0.7899017333984375),\n ('http://www.fujitsu-siemens.no', 0.7897645235061646),\n ('http://www.autotransport.no', 0.7897256016731262),\n ('http://www.ankerplassen.com', 0.7896040678024292)]\n[('http://www.metla.fi', 0.9103787541389465),\n ('http://www.uef.fi', 0.8962290287017822),\n ('http://enontekio.fi', 0.8919661045074463),\n ('http://www.toshiba.fi', 0.8882861137390137),\n ('https://www.alihankinta.fi', 0.8877812027931213),\n ('http://www.detector.fi', 0.886186957359314),\n ('https://www.apsisfinland.fi', 0.8860222101211548),\n ('http://www.asiakastieto.fi', 0.8860048055648804),\n ('http://www.kennelliitto.fi', 0.8857219219207764),\n ('http://www.oph.fi', 0.8856763243675232)]\n"
     ],
     "output_type": "stream"
    }
   ],
   "source": [
    "pprint(model.docvecs.most_similar(positive=[\"https://itunes.apple.com\"], topn=10))\n",
    "pprint(model.docvecs.most_similar(positive=[\"https://begrep.difi.no\"], topn=10))\n",
    "pprint(model.docvecs.most_similar(positive=[\"https://www.sharp.fi\"], topn=10))"
   ],
   "metadata": {
    "collapsed": false,
    "pycharm": {
     "name": "#%%\n",
     "is_executing": false
    }
   }
  },
  {
   "cell_type": "markdown",
   "source": [
    "Write to CSV for later analysis."
   ],
   "metadata": {
    "collapsed": false,
    "pycharm": {
     "name": "#%% md\n"
    }
   }
  },
  {
   "cell_type": "code",
   "execution_count": 24,
   "outputs": [
    {
     "name": "stdout",
     "text": [
      "(72952, 40) 72952\n"
     ],
     "output_type": "stream"
    }
   ],
   "source": [
    "print(file.shape, len(model.docvecs.doctags))\n",
    "fw = open(\"oos-doc2vec.csv\", \"w\")\n",
    "fw.write(\",\".join(file.columns) + \",\" + \",\".join([f\"v{i}\" for i in range(256)]) + \"\\n\")\n",
    "for tag in model.docvecs.doctags:\n",
    "    vec = model.docvecs[tag]\n",
    "    rest = file[file[\"orig_url\"] == tag].values[0]\n",
    "    fw.write(\",\".join([str(v).replace(\",\", \"|\") for v in rest]) + \",\" + \",\".join([str(v) for v in vec]) + \"\\n\")\n"
   ],
   "metadata": {
    "collapsed": false,
    "pycharm": {
     "name": "#%%\n",
     "is_executing": false
    }
   }
  }
 ],
 "metadata": {
  "language_info": {
   "codemirror_mode": {
    "name": "ipython",
    "version": 2
   },
   "file_extension": ".py",
   "mimetype": "text/x-python",
   "name": "python",
   "nbconvert_exporter": "python",
   "pygments_lexer": "ipython2",
   "version": "2.7.6"
  },
  "kernelspec": {
   "name": "python3",
   "language": "python",
   "display_name": "Python 3"
  },
  "pycharm": {
   "stem_cell": {
    "cell_type": "raw",
    "source": [],
    "metadata": {
     "collapsed": false
    }
   }
  }
 },
 "nbformat": 4,
 "nbformat_minor": 0
}