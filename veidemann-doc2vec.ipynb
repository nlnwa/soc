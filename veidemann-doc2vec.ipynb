{
 "cells": [
  {
   "cell_type": "markdown",
   "source": [
    "# Veidemann Doc2Vec\n",
    "Creates Doc2Vec representations from websites harvested by the Veidemann harvester.\n"
   ],
   "metadata": {
    "collapsed": false,
    "pycharm": {
     "name": "#%% md\n"
    }
   }
  },
  {
   "cell_type": "code",
   "execution_count": 6,
   "outputs": [],
   "source": [
    "# Imports\n",
    "import json\n",
    "import re\n",
    "\n",
    "import numpy as np\n",
    "from gensim.models import Doc2Vec\n",
    "from gensim.models.doc2vec import TaggedDocument\n",
    "from sklearn.decomposition import PCA"
   ],
   "metadata": {
    "collapsed": false,
    "pycharm": {
     "name": "#%%\n",
     "is_executing": false
    }
   }
  },
  {
   "cell_type": "markdown",
   "source": [
    "Generate Doc2Vec for Veidemann harvested websites."
   ],
   "metadata": {
    "collapsed": false,
    "pycharm": {
     "name": "#%% md\n"
    }
   }
  },
  {
   "cell_type": "code",
   "execution_count": 9,
   "outputs": [
    {
     "traceback": [
      "\u001b[0;31m---------------------------------------------------------------------------\u001b[0m",
      "\u001b[0;31mNameError\u001b[0m                                 Traceback (most recent call last)",
      "\u001b[0;32m<ipython-input-9-0971bbb54b36>\u001b[0m in \u001b[0;36m<module>\u001b[0;34m\u001b[0m\n\u001b[1;32m     16\u001b[0m \u001b[0;34m\u001b[0m\u001b[0m\n\u001b[1;32m     17\u001b[0m \u001b[0mdocuments\u001b[0m \u001b[0;34m=\u001b[0m \u001b[0mTaggedWebpageDocument\u001b[0m\u001b[0;34m(\u001b[0m\u001b[0;34m)\u001b[0m\u001b[0;34m\u001b[0m\u001b[0;34m\u001b[0m\u001b[0m\n\u001b[0;32m---> 18\u001b[0;31m \u001b[0mmodel\u001b[0m \u001b[0;34m=\u001b[0m \u001b[0mDoc2Vec\u001b[0m\u001b[0;34m(\u001b[0m\u001b[0mdocuments\u001b[0m\u001b[0;34m,\u001b[0m \u001b[0mwindow\u001b[0m\u001b[0;34m=\u001b[0m\u001b[0;36m5\u001b[0m\u001b[0;34m,\u001b[0m \u001b[0mvector_size\u001b[0m\u001b[0;34m=\u001b[0m\u001b[0;36m128\u001b[0m\u001b[0;34m)\u001b[0m\u001b[0;34m\u001b[0m\u001b[0;34m\u001b[0m\u001b[0m\n\u001b[0m\u001b[1;32m     19\u001b[0m \u001b[0;34m\u001b[0m\u001b[0m\n\u001b[1;32m     20\u001b[0m \u001b[0mmodel\u001b[0m\u001b[0;34m.\u001b[0m\u001b[0msave\u001b[0m\u001b[0;34m(\u001b[0m\u001b[0;34m\"veidemann-doc2vec\"\u001b[0m\u001b[0;34m)\u001b[0m\u001b[0;34m\u001b[0m\u001b[0;34m\u001b[0m\u001b[0m\n",
      "\u001b[0;32m~/PycharmProjects/soc/venv/lib/python3.6/site-packages/gensim/models/doc2vec.py\u001b[0m in \u001b[0;36m__init__\u001b[0;34m(self, documents, corpus_file, dm_mean, dm, dbow_words, dm_concat, dm_tag_count, docvecs, docvecs_mapfile, comment, trim_rule, callbacks, **kwargs)\u001b[0m\n\u001b[1;32m    614\u001b[0m             \u001b[0;32melif\u001b[0m \u001b[0misinstance\u001b[0m\u001b[0;34m(\u001b[0m\u001b[0mdocuments\u001b[0m\u001b[0;34m,\u001b[0m \u001b[0mGeneratorType\u001b[0m\u001b[0;34m)\u001b[0m\u001b[0;34m:\u001b[0m\u001b[0;34m\u001b[0m\u001b[0;34m\u001b[0m\u001b[0m\n\u001b[1;32m    615\u001b[0m                 \u001b[0;32mraise\u001b[0m \u001b[0mTypeError\u001b[0m\u001b[0;34m(\u001b[0m\u001b[0;34m\"You can't pass a generator as the documents argument. Try a sequence.\"\u001b[0m\u001b[0;34m)\u001b[0m\u001b[0;34m\u001b[0m\u001b[0;34m\u001b[0m\u001b[0m\n\u001b[0;32m--> 616\u001b[0;31m             \u001b[0mself\u001b[0m\u001b[0;34m.\u001b[0m\u001b[0mbuild_vocab\u001b[0m\u001b[0;34m(\u001b[0m\u001b[0mdocuments\u001b[0m\u001b[0;34m=\u001b[0m\u001b[0mdocuments\u001b[0m\u001b[0;34m,\u001b[0m \u001b[0mcorpus_file\u001b[0m\u001b[0;34m=\u001b[0m\u001b[0mcorpus_file\u001b[0m\u001b[0;34m,\u001b[0m \u001b[0mtrim_rule\u001b[0m\u001b[0;34m=\u001b[0m\u001b[0mtrim_rule\u001b[0m\u001b[0;34m)\u001b[0m\u001b[0;34m\u001b[0m\u001b[0;34m\u001b[0m\u001b[0m\n\u001b[0m\u001b[1;32m    617\u001b[0m             self.train(\n\u001b[1;32m    618\u001b[0m                 \u001b[0mdocuments\u001b[0m\u001b[0;34m=\u001b[0m\u001b[0mdocuments\u001b[0m\u001b[0;34m,\u001b[0m \u001b[0mcorpus_file\u001b[0m\u001b[0;34m=\u001b[0m\u001b[0mcorpus_file\u001b[0m\u001b[0;34m,\u001b[0m \u001b[0mtotal_examples\u001b[0m\u001b[0;34m=\u001b[0m\u001b[0mself\u001b[0m\u001b[0;34m.\u001b[0m\u001b[0mcorpus_count\u001b[0m\u001b[0;34m,\u001b[0m\u001b[0;34m\u001b[0m\u001b[0;34m\u001b[0m\u001b[0m\n",
      "\u001b[0;32m~/PycharmProjects/soc/venv/lib/python3.6/site-packages/gensim/models/doc2vec.py\u001b[0m in \u001b[0;36mbuild_vocab\u001b[0;34m(self, documents, corpus_file, update, progress_per, keep_raw_vocab, trim_rule, **kwargs)\u001b[0m\n\u001b[1;32m   1183\u001b[0m         total_words, corpus_count = self.vocabulary.scan_vocab(\n\u001b[1;32m   1184\u001b[0m             \u001b[0mdocuments\u001b[0m\u001b[0;34m=\u001b[0m\u001b[0mdocuments\u001b[0m\u001b[0;34m,\u001b[0m \u001b[0mcorpus_file\u001b[0m\u001b[0;34m=\u001b[0m\u001b[0mcorpus_file\u001b[0m\u001b[0;34m,\u001b[0m \u001b[0mdocvecs\u001b[0m\u001b[0;34m=\u001b[0m\u001b[0mself\u001b[0m\u001b[0;34m.\u001b[0m\u001b[0mdocvecs\u001b[0m\u001b[0;34m,\u001b[0m\u001b[0;34m\u001b[0m\u001b[0;34m\u001b[0m\u001b[0m\n\u001b[0;32m-> 1185\u001b[0;31m             \u001b[0mprogress_per\u001b[0m\u001b[0;34m=\u001b[0m\u001b[0mprogress_per\u001b[0m\u001b[0;34m,\u001b[0m \u001b[0mtrim_rule\u001b[0m\u001b[0;34m=\u001b[0m\u001b[0mtrim_rule\u001b[0m\u001b[0;34m\u001b[0m\u001b[0;34m\u001b[0m\u001b[0m\n\u001b[0m\u001b[1;32m   1186\u001b[0m         )\n\u001b[1;32m   1187\u001b[0m         \u001b[0mself\u001b[0m\u001b[0;34m.\u001b[0m\u001b[0mcorpus_count\u001b[0m \u001b[0;34m=\u001b[0m \u001b[0mcorpus_count\u001b[0m\u001b[0;34m\u001b[0m\u001b[0;34m\u001b[0m\u001b[0m\n",
      "\u001b[0;32m~/PycharmProjects/soc/venv/lib/python3.6/site-packages/gensim/models/doc2vec.py\u001b[0m in \u001b[0;36mscan_vocab\u001b[0;34m(self, documents, corpus_file, docvecs, progress_per, trim_rule)\u001b[0m\n\u001b[1;32m   1380\u001b[0m             \u001b[0mdocuments\u001b[0m \u001b[0;34m=\u001b[0m \u001b[0mTaggedLineDocument\u001b[0m\u001b[0;34m(\u001b[0m\u001b[0mcorpus_file\u001b[0m\u001b[0;34m)\u001b[0m\u001b[0;34m\u001b[0m\u001b[0;34m\u001b[0m\u001b[0m\n\u001b[1;32m   1381\u001b[0m \u001b[0;34m\u001b[0m\u001b[0m\n\u001b[0;32m-> 1382\u001b[0;31m         \u001b[0mtotal_words\u001b[0m\u001b[0;34m,\u001b[0m \u001b[0mcorpus_count\u001b[0m \u001b[0;34m=\u001b[0m \u001b[0mself\u001b[0m\u001b[0;34m.\u001b[0m\u001b[0m_scan_vocab\u001b[0m\u001b[0;34m(\u001b[0m\u001b[0mdocuments\u001b[0m\u001b[0;34m,\u001b[0m \u001b[0mdocvecs\u001b[0m\u001b[0;34m,\u001b[0m \u001b[0mprogress_per\u001b[0m\u001b[0;34m,\u001b[0m \u001b[0mtrim_rule\u001b[0m\u001b[0;34m)\u001b[0m\u001b[0;34m\u001b[0m\u001b[0;34m\u001b[0m\u001b[0m\n\u001b[0m\u001b[1;32m   1383\u001b[0m \u001b[0;34m\u001b[0m\u001b[0m\n\u001b[1;32m   1384\u001b[0m         logger.info(\n",
      "\u001b[0;32m~/PycharmProjects/soc/venv/lib/python3.6/site-packages/gensim/models/doc2vec.py\u001b[0m in \u001b[0;36m_scan_vocab\u001b[0;34m(self, documents, docvecs, progress_per, trim_rule)\u001b[0m\n\u001b[1;32m   1307\u001b[0m         \u001b[0mchecked_string_types\u001b[0m \u001b[0;34m=\u001b[0m \u001b[0;36m0\u001b[0m\u001b[0;34m\u001b[0m\u001b[0;34m\u001b[0m\u001b[0m\n\u001b[1;32m   1308\u001b[0m         \u001b[0mvocab\u001b[0m \u001b[0;34m=\u001b[0m \u001b[0mdefaultdict\u001b[0m\u001b[0;34m(\u001b[0m\u001b[0mint\u001b[0m\u001b[0;34m)\u001b[0m\u001b[0;34m\u001b[0m\u001b[0;34m\u001b[0m\u001b[0m\n\u001b[0;32m-> 1309\u001b[0;31m         \u001b[0;32mfor\u001b[0m \u001b[0mdocument_no\u001b[0m\u001b[0;34m,\u001b[0m \u001b[0mdocument\u001b[0m \u001b[0;32min\u001b[0m \u001b[0menumerate\u001b[0m\u001b[0;34m(\u001b[0m\u001b[0mdocuments\u001b[0m\u001b[0;34m)\u001b[0m\u001b[0;34m:\u001b[0m\u001b[0;34m\u001b[0m\u001b[0;34m\u001b[0m\u001b[0m\n\u001b[0m\u001b[1;32m   1310\u001b[0m             \u001b[0;32mif\u001b[0m \u001b[0;32mnot\u001b[0m \u001b[0mchecked_string_types\u001b[0m\u001b[0;34m:\u001b[0m\u001b[0;34m\u001b[0m\u001b[0;34m\u001b[0m\u001b[0m\n\u001b[1;32m   1311\u001b[0m                 \u001b[0;32mif\u001b[0m \u001b[0misinstance\u001b[0m\u001b[0;34m(\u001b[0m\u001b[0mdocument\u001b[0m\u001b[0;34m.\u001b[0m\u001b[0mwords\u001b[0m\u001b[0;34m,\u001b[0m \u001b[0mstring_types\u001b[0m\u001b[0;34m)\u001b[0m\u001b[0;34m:\u001b[0m\u001b[0;34m\u001b[0m\u001b[0;34m\u001b[0m\u001b[0m\n",
      "\u001b[0;32m<ipython-input-9-0971bbb54b36>\u001b[0m in \u001b[0;36m__iter__\u001b[0;34m(self)\u001b[0m\n\u001b[1;32m     11\u001b[0m     \u001b[0;32mdef\u001b[0m \u001b[0m__iter__\u001b[0m\u001b[0;34m(\u001b[0m\u001b[0mself\u001b[0m\u001b[0;34m)\u001b[0m\u001b[0;34m:\u001b[0m\u001b[0;34m\u001b[0m\u001b[0;34m\u001b[0m\u001b[0m\n\u001b[1;32m     12\u001b[0m         \u001b[0mfile\u001b[0m \u001b[0;34m=\u001b[0m \u001b[0mopen\u001b[0m\u001b[0;34m(\u001b[0m\u001b[0mdata_path\u001b[0m\u001b[0;34m)\u001b[0m\u001b[0;34m\u001b[0m\u001b[0;34m\u001b[0m\u001b[0m\n\u001b[0;32m---> 13\u001b[0;31m         \u001b[0;32mfor\u001b[0m \u001b[0murl\u001b[0m\u001b[0;34m,\u001b[0m \u001b[0mtext\u001b[0m \u001b[0;32min\u001b[0m \u001b[0miter_urls\u001b[0m\u001b[0;34m(\u001b[0m\u001b[0mfile\u001b[0m\u001b[0;34m)\u001b[0m\u001b[0;34m:\u001b[0m\u001b[0;34m\u001b[0m\u001b[0;34m\u001b[0m\u001b[0m\n\u001b[0m\u001b[1;32m     14\u001b[0m             \u001b[0;32myield\u001b[0m \u001b[0mTaggedDocument\u001b[0m\u001b[0;34m(\u001b[0m\u001b[0mwords\u001b[0m\u001b[0;34m,\u001b[0m \u001b[0;34m[\u001b[0m\u001b[0murl\u001b[0m\u001b[0;34m]\u001b[0m\u001b[0;34m)\u001b[0m\u001b[0;34m\u001b[0m\u001b[0;34m\u001b[0m\u001b[0m\n\u001b[1;32m     15\u001b[0m \u001b[0;34m\u001b[0m\u001b[0m\n",
      "\u001b[0;32m<ipython-input-9-0971bbb54b36>\u001b[0m in \u001b[0;36miter_urls\u001b[0;34m(file)\u001b[0m\n\u001b[1;32m      2\u001b[0m \u001b[0;34m\u001b[0m\u001b[0m\n\u001b[1;32m      3\u001b[0m \u001b[0;32mdef\u001b[0m \u001b[0miter_urls\u001b[0m\u001b[0;34m(\u001b[0m\u001b[0mfile\u001b[0m\u001b[0;34m)\u001b[0m\u001b[0;34m:\u001b[0m\u001b[0;34m\u001b[0m\u001b[0;34m\u001b[0m\u001b[0m\n\u001b[0;32m----> 4\u001b[0;31m     \u001b[0;32mfor\u001b[0m \u001b[0mline\u001b[0m \u001b[0;32min\u001b[0m \u001b[0mf\u001b[0m\u001b[0;34m:\u001b[0m\u001b[0;34m\u001b[0m\u001b[0;34m\u001b[0m\u001b[0m\n\u001b[0m\u001b[1;32m      5\u001b[0m         \u001b[0mj\u001b[0m \u001b[0;34m=\u001b[0m \u001b[0mjson\u001b[0m\u001b[0;34m.\u001b[0m\u001b[0mloads\u001b[0m\u001b[0;34m(\u001b[0m\u001b[0mline\u001b[0m\u001b[0;34m)\u001b[0m  \u001b[0;31m# Each line contains a separate json entry\u001b[0m\u001b[0;34m\u001b[0m\u001b[0;34m\u001b[0m\u001b[0m\n\u001b[1;32m      6\u001b[0m         \u001b[0murl\u001b[0m\u001b[0;34m,\u001b[0m \u001b[0mtext\u001b[0m \u001b[0;34m=\u001b[0m \u001b[0mj\u001b[0m\u001b[0;34m[\u001b[0m\u001b[0;34m\"requestedUri\"\u001b[0m\u001b[0;34m]\u001b[0m\u001b[0;34m,\u001b[0m \u001b[0mj\u001b[0m\u001b[0;34m[\u001b[0m\u001b[0;34m\"text\"\u001b[0m\u001b[0;34m]\u001b[0m\u001b[0;34m.\u001b[0m\u001b[0mlower\u001b[0m\u001b[0;34m(\u001b[0m\u001b[0;34m)\u001b[0m\u001b[0;34m\u001b[0m\u001b[0;34m\u001b[0m\u001b[0m\n",
      "\u001b[0;31mNameError\u001b[0m: name 'f' is not defined"
     ],
     "ename": "NameError",
     "evalue": "name 'f' is not defined",
     "output_type": "error"
    }
   ],
   "source": [
    "data_path = \"res/extracted_texts/veidemann/texts.ldjson\"\n",
    "\n",
    "def iter_urls(file):\n",
    "    for line in f:\n",
    "        j = json.loads(line)  # Each line contains a separate json entry\n",
    "        url, text = j[\"requestedUri\"], j[\"text\"].lower()\n",
    "        yield url, text\n",
    "\n",
    "\n",
    "class TaggedWebpageDocument(object):\n",
    "    def __iter__(self):\n",
    "        file = open(data_path)\n",
    "        for url, text in iter_urls(file):\n",
    "            words = [c for c in re.split(r\"\\s+\", re.sub(r\"[^\\w\\s]+\", \"\", text)) if len(c) > 0]\n",
    "            yield TaggedDocument(words, [url])\n",
    "\n",
    "\n",
    "documents = TaggedWebpageDocument()\n",
    "model = Doc2Vec(documents, window=5, vector_size=128)\n",
    "\n",
    "model.save(\"veidemann-doc2vec\")"
   ],
   "metadata": {
    "collapsed": false,
    "pycharm": {
     "name": "#%%\n",
     "is_executing": false
    }
   }
  },
  {
   "cell_type": "code",
   "source": [
    "model = Doc2Vec.load(\"veidemann-doc2vec\")"
   ],
   "metadata": {
    "collapsed": false,
    "pycharm": {
     "name": "#%%\n",
     "is_executing": false
    }
   },
   "execution_count": null,
   "outputs": []
  },
  {
   "cell_type": "code",
   "execution_count": 4,
   "outputs": [
    {
     "name": "stderr",
     "text": [
      "/home/rolv-arild/PycharmProjects/soc/venv/lib/python3.6/site-packages/ipykernel_launcher.py:1: DeprecationWarning: Call to deprecated `most_similar` (Method will be removed in 4.0.0, use self.wv.most_similar() instead).\n  \"\"\"Entry point for launching an IPython kernel.\n"
     ],
     "output_type": "stream"
    },
    {
     "name": "stdout",
     "text": [
      "[('tv2', 0.7558218836784363), ('tv', 0.7535334825515747), ('radio', 0.7260652184486389), ('vg', 0.7234106063842773), ('dagbladet', 0.7229463458061218), ('aftenposten', 0.7105423808097839), ('21', 0.6536192893981934), ('telenor', 0.6498087644577026), ('norsk', 0.6465280055999756), ('mars', 0.6435233354568481)]\n",
      "[('https://www.dagbladet.no/', 0.824970543384552), ('http://topp.no/', 0.8183221817016602), ('https://www.nettavisen.no/', 0.8131425976753235), ('https://sol.no/', 0.7842087745666504), ('https://www.loggpaa.no/', 0.7810474634170532), ('https://www.vg.no/sport/', 0.7735840082168579), ('https://www.dagbladet.no/video', 0.7711979150772095), ('https://www.seher.no/', 0.7639572620391846), ('http://fxt.no/', 0.762884259223938), ('https://www.adressa.no/', 0.7524651885032654), ('https://www.tv2.no/', 0.741334080696106), ('https://www.dagsavisen.no/rogalandsavis', 0.7364118099212646), ('https://www.nrk.no/', 0.7339894771575928), ('https://www.dagsavisen.no/', 0.7241553068161011), ('https://sol.no/api/aurora/routes/?options=%7B%22query%22:%7B%7D%7D&skip=37&limit=37&seed=1550919507992&user=not-logged-in&ip=172.16.107.160&version=201902231058&isMobile=false&isTablet=false&timestamp=&urlToGet=', 0.7118323445320129), ('https://www.aftenposten.no/', 0.7037301063537598), ('https://www.budstikka.no/', 0.7014377117156982), ('https://nrk.no/', 0.7006018757820129), ('https://www.ifinnmark.no/', 0.691904604434967), ('https://lokalstarten.no/dagenidag/', 0.6918157339096069), ('https://www.nettavisen.no/na24/', 0.6911135911941528), ('https://www.glomdalen.no/', 0.6889826059341431), ('https://www.dagbladet.no/kjendis/', 0.6881539821624756), ('https://www.nettavisen.no/okonomi/', 0.6869769096374512), ('https://sol.no/api/harvester/get?excludeDupes=96&excludePaywall=true&excludeTags=sport%2Cunderholdning%2Ckjendis%2Cfilm%2Cmusikk%2Ckultur%2Cutenlandske&includeAnyTags=nyheter%2Cokonomi&includeHosts=dagbladet.no%2Caftenposten.no%2Cvg.no%2Cnrk.no%2Cnettavisen.no%2Ctv2.no%2Cdn.no%2Cdagsavisen.no%2Cabcnyheter.no%2Cbt.no%2Caftenbladet.no%2Cfvn.no%2Chegnar.no&limit=100&offset=0&responseFilter=title%2Curl%2Chost%2Cposted%2Cfields.image%2Cfields.description&tagFields=article_tags2&timeout=5000', 0.6855401992797852), ('https://www.ta.no/', 0.6840333938598633), ('https://vipnytt.no/', 0.682803750038147), ('https://www.ba.no/', 0.6823936700820923), ('https://www.nordlys.no/', 0.6821730136871338), ('https://www.sa.no/', 0.6789524555206299), ('https://www.tv2.no/nyheter/', 0.6787882447242737), ('https://www.adressa.no/100Sport/', 0.6758121252059937), ('https://www.abcnyheter.no/', 0.6757031083106995), ('https://www.itromso.no/', 0.6739576458930969), ('https://api.blogsoft.no/?fa=api2.call&method=getLatestBlogBrandVideos&blogurl=lodgelady.blogg.no&limit=100', 0.673536479473114), ('https://www.sveip.no/_app/news/cat_nyh.php?cont=fnm', 0.6729556322097778), ('https://api.blogsoft.no/?fa=api2.call&method=getLatestBlogBrandVideos&blogurl=lodgelady.blogg.no&limit=88', 0.6719250679016113), ('https://sol.no/api/harvester/get?excludeDupes=95&excludePaywall=true&excludeTags=sport%2Cunderholdning%2Ckjendis%2Cfilm%2Cmusikk%2Ckultur%2Cutenlandske&includeAnyTags=nyheter%2Cokonomi&includeHosts=dagbladet.no%2Caftenposten.no%2Cvg.no%2Cnrk.no%2Cnettavisen.no%2Ctv2.no%2Cdn.no%2Cdagsavisen.no%2Cabcnyheter.no%2Cbt.no%2Caftenbladet.no%2Cadressa.no%2Chegnar.no&limit=100&offset=0&responseFilter=title%2Curl%2Chost%2Cposted%2Cfields.image%2Cfields.description&tagFields=article_tags2&timeout=5000', 0.671245276927948), ('https://www.smp.no/100Sport/', 0.6688901782035828), ('https://api.blogsoft.no/?fa=api2.call&method=getLatestBlogBrandVideos&blogurl=camillaherrem.blogg.no&limit=64', 0.6671730279922485), ('https://www.seher.no/tv/', 0.6666420102119446), ('https://www.abcnyheter.no/nyheter/2009/09/01/94887/vil-ha-id-merking-av-katter', 0.6654223203659058), ('https://www.t-a.no/', 0.665154218673706), ('http://ara.no/index.php', 0.6649137139320374), ('https://www.aftenbladet.no/', 0.6639397144317627), ('https://www.dagbladet.no/sport', 0.663180947303772), ('https://www.f-b.no/', 0.6629875302314758), ('https://www.rb.no/', 0.6613566875457764), ('https://www.nrk.no/kultur/blir-dette-den-neste-norske-katastrofefilmen_-1.14457124', 0.6609581708908081), ('https://www.fremover.no/', 0.6602375507354736), ('https://www.dt.no/', 0.6598528623580933), ('https://www.polkaposten.no/', 0.6598405838012695), ('http://startguiden.no/index.php?page_id=1&folder_id=&language_code=47', 0.6585522890090942), ('https://www.vg.no/sport/i/ng39gL/dagbladets-oddsekspert-tippet-feil-maa-tatovere-solskjaer-paa-kroppen?utm_source=vgfront&utm_content=row-28', 0.6580992937088013), ('https://www.h-avis.no/', 0.6571150422096252), ('http://startguiden.no/', 0.6533746719360352), ('https://www.trim.no/media-har-skapt-et-svartmalt-bilde-av-anabole-steroider/', 0.6533491611480713), ('http://startguiden.no/index.php?language_code=', 0.6532447338104248), ('http://graypages.no/index.php', 0.6521304845809937), ('http://www.msn.com/nb-no', 0.650694727897644), ('https://resett.no/', 0.650338351726532), ('https://www.tv2.no/sport/', 0.6488202214241028), ('https://www.sb.no/', 0.6483352184295654), ('https://api.blogsoft.no/?fa=api2.call&method=getLatestBlogBrandVideos&blogurl=isabellepedersen.blogg.no&limit=60', 0.6461929082870483), ('https://www.h-a.no/', 0.6461419463157654), ('https://www.vg.no/rampelys/musikk/i/qn2y6w/paris-jackson-bryter-tausheten-og-forsvarer-pappa-michael?utm_source=vgfront&utm_content=row-3', 0.6449799537658691), ('https://www.noblad.no/', 0.6429262161254883), ('http://ara.no/', 0.6428598761558533), ('https://www.dagsavisen.no/demokraten', 0.6416993141174316), ('https://www.adressa.no/100Sport/fotball/', 0.6411439180374146), ('https://bodonu.no/', 0.6403584480285645), ('http://n24.no/', 0.6396858096122742), ('https://e24.no/', 0.6393431425094604), ('https://www.moss-avis.no/', 0.6384309530258179), ('http://www.omag.no/spill', 0.6383394002914429), ('http://bymag.no/', 0.635535717010498), ('https://www.fvn.no/', 0.6351643800735474), ('https://www.ha-halden.no/', 0.6348011493682861), ('http://bjornendreandersen.no/tag/video/', 0.6343379020690918), ('http://graypages.no/', 0.6318979859352112), ('https://tv.nrk.no/programmer/dokumentar', 0.6297619342803955), ('https://www.aasavis.no/', 0.629602313041687), ('https://m.h-a.no/', 0.6291095018386841), ('https://www.ht.no/', 0.6271563172340393), ('https://api.p4.no/6/', 0.626068115234375), ('https://lokalstarten.no/nyheter/', 0.6253058910369873), ('https://api.blogsoft.no/?fa=api2.call&method=getLatestBlogBrandVideos&blogurl=krimdokumentet.blogg.no&limit=44', 0.6252120733261108), ('https://www.nrk.no/urix/', 0.624920129776001), ('https://api.blogsoft.no/?fa=api2.call&method=getLatestBlogBrandVideos&blogurl=krimdokumentet.blogg.no&limit=48', 0.6240653991699219), ('https://www.op.no/', 0.6238732933998108), ('https://www.gjengangeren.no/', 0.6233317255973816), ('https://www.nrk.no/norge/', 0.6219709515571594), ('https://www.an.no/', 0.6215922236442566), ('https://p3.no/', 0.6207306981086731), ('https://www.gd.no/', 0.6189033389091492), ('http://www.nyheter.no/nyheter/?f=5', 0.6186921000480652), ('https://www.ringblad.no/', 0.6170384287834167), ('https://www.side2.no/', 0.616225004196167), ('https://www.side3.no/', 0.6161830425262451), ('https://www.smaalenene.no/', 0.6156120896339417)]\n"
     ],
     "output_type": "stream"
    }
   ],
   "source": [
    "print(model.most_similar(positive=[\"nrk\"]))\n",
    "print(model.docvecs.most_similar(positive=[\"https://www.vg.no/\"], topn=100))"
   ],
   "metadata": {
    "collapsed": false,
    "pycharm": {
     "name": "#%%\n",
     "is_executing": false
    }
   }
  },
  {
   "cell_type": "markdown",
   "source": [
    "Run dimensionality reduction."
   ],
   "metadata": {
    "collapsed": false,
    "pycharm": {
     "name": "#%% md\n"
    }
   }
  },
  {
   "cell_type": "code",
   "execution_count": 7,
   "outputs": [],
   "source": [
    "reduced = PCA(n_components=2).fit_transform(model.docvecs.vectors_docs)\n",
    "\n",
    "np.save(\"veidemann-reduced.npy\", reduced)"
   ],
   "metadata": {
    "collapsed": false,
    "pycharm": {
     "name": "#%%\n",
     "is_executing": false
    }
   }
  },
  {
   "cell_type": "code",
   "execution_count": null,
   "outputs": [],
   "source": [
    "reduced = np.load(\"veidemann-reduced.npy\")"
   ],
   "metadata": {
    "collapsed": false,
    "pycharm": {
     "name": "#%%\n"
    }
   }
  },
  {
   "cell_type": "markdown",
   "source": [
    "Write to CSV for later analysis."
   ],
   "metadata": {
    "collapsed": false,
    "pycharm": {
     "name": "#%% md\n"
    }
   }
  },
  {
   "cell_type": "code",
   "execution_count": null,
   "outputs": [],
   "source": [
    "n_vec = model.docvecs.vectors_docs.shape[-1]\n",
    "\n",
    "fw = open(\"all-pages.csv\", \"w\")\n",
    "labels = [\"url\"] + \\\n",
    "         [f\"r{i}\" for i in range(reduced.shape[-1])] + \\\n",
    "         [f\"v{i}\" for i in range(n_vec)]\n",
    "fw.write(\",\".join(labels) + \"\\n\")\n",
    "for tag, red, vec in zip(model.docvecs.doctags, reduced, model.docvecs.vectors_docs):\n",
    "    tag = '\"' + re.sub(r'\\\\', \"/\", tag) + '\"'  # makes it weka compatible\n",
    "    red = [str(r) for r in red]\n",
    "    vec = [str(v) for v in vec]\n",
    "    fw.write(\",\".join([tag] + red + vec) + \"\\n\")"
   ],
   "metadata": {
    "collapsed": false,
    "pycharm": {
     "name": "#%%\n"
    }
   }
  }
 ],
 "metadata": {
  "language_info": {
   "codemirror_mode": {
    "name": "ipython",
    "version": 2
   },
   "file_extension": ".py",
   "mimetype": "text/x-python",
   "name": "python",
   "nbconvert_exporter": "python",
   "pygments_lexer": "ipython2",
   "version": "2.7.6"
  },
  "kernelspec": {
   "name": "python3",
   "language": "python",
   "display_name": "Python 3"
  },
  "pycharm": {
   "stem_cell": {
    "cell_type": "raw",
    "source": [],
    "metadata": {
     "collapsed": false
    }
   }
  }
 },
 "nbformat": 4,
 "nbformat_minor": 0
}