{
 "cells": [
  {
   "cell_type": "markdown",
   "source": [
    "# Veidemann Doc2Vec\n",
    "Creates Doc2Vec representations from websites harvested by the Veidemann harvester.\n"
   ],
   "metadata": {
    "collapsed": false,
    "pycharm": {
     "name": "#%% md\n"
    }
   }
  },
  {
   "cell_type": "code",
   "execution_count": 1,
   "outputs": [],
   "source": [
    "# Imports\n",
    "import json\n",
    "import re\n",
    "from collections import Counter\n",
    "\n",
    "import matplotlib.pyplot as plt\n",
    "import numpy as np\n",
    "from gensim.models import Doc2Vec\n",
    "from gensim.models.doc2vec import TaggedDocument\n",
    "from sklearn.decomposition import PCA\n",
    "from sklearn.manifold import TSNE"
   ],
   "metadata": {
    "collapsed": false,
    "pycharm": {
     "name": "#%%\n",
     "is_executing": false
    }
   }
  },
  {
   "cell_type": "markdown",
   "source": [
    "Generate Doc2Vec for websites."
   ],
   "metadata": {
    "collapsed": false,
    "pycharm": {
     "name": "#%% md\n"
    }
   }
  },
  {
   "cell_type": "code",
   "execution_count": 3,
   "outputs": [
    {
     "name": "stderr",
     "text": [
      "/home/rolv-arild/PycharmProjects/soc/venv/lib/python3.6/site-packages/smart_open/smart_open_lib.py:398: UserWarning: This function is deprecated, use smart_open.open instead. See the migration notes for details: https://github.com/RaRe-Technologies/smart_open/blob/master/README.rst#migrating-to-the-new-open-function\n  'See the migration notes for details: %s' % _MIGRATION_NOTES_URL\n"
     ],
     "output_type": "stream"
    }
   ],
   "source": [
    "data_path = \"res/extracted_texts/veidemann/texts.ldjson\"\n",
    "\n",
    "def iter_urls(file):\n",
    "    for line in file:\n",
    "        j = json.loads(line)  # Each line contains a separate json entry\n",
    "        if \"discoveryPath\" in j and \"contentType\" in j:\n",
    "            if re.match(\"^R*$\", j[\"discoveryPath\"]) and re.match(\"text\", j[\"contentType\"], re.IGNORECASE):\n",
    "                url, text = j[\"requestedUri\"], j[\"text\"].lower()\n",
    "                if re.match(\"[^/]+//[^/]+\\.no/?$\", url):\n",
    "                    yield url, text\n",
    "\n",
    "\n",
    "class TaggedWebpageDocument(object):\n",
    "    def __iter__(self):\n",
    "        file = open(data_path)\n",
    "        for url, text in iter_urls(file):\n",
    "            words = [c for c in re.split(r\"\\s+\", re.sub(r\"[^\\w\\s]+\", \" \", text)) if len(c) > 0]\n",
    "            yield TaggedDocument(words, [url])\n",
    "\n",
    "\n",
    "documents = TaggedWebpageDocument()\n",
    "model = Doc2Vec(documents, window=7, vector_size=128)\n",
    "\n",
    "model.save(\"veidemann-homepages-doc2vec\")"
   ],
   "metadata": {
    "collapsed": false,
    "pycharm": {
     "name": "#%%\n",
     "is_executing": false
    }
   }
  },
  {
   "cell_type": "code",
   "source": [
    "model = Doc2Vec.load(\"veidemann-doc2vec\")"
   ],
   "metadata": {
    "collapsed": false,
    "pycharm": {
     "name": "#%%\n",
     "is_executing": false
    }
   },
   "execution_count": 2,
   "outputs": [
    {
     "name": "stderr",
     "text": [
      "/home/rolv-arild/PycharmProjects/soc/venv/lib/python3.6/site-packages/smart_open/smart_open_lib.py:398: UserWarning: This function is deprecated, use smart_open.open instead. See the migration notes for details: https://github.com/RaRe-Technologies/smart_open/blob/master/README.rst#migrating-to-the-new-open-function\n  'See the migration notes for details: %s' % _MIGRATION_NOTES_URL\n"
     ],
     "output_type": "stream"
    }
   ]
  },
  {
   "cell_type": "code",
   "execution_count": 4,
   "outputs": [
    {
     "name": "stdout",
     "text": [
      "[('tv2', 0.7433454394340515), ('vg', 0.6647576093673706), ('p3', 0.654242217540741), ('tv', 0.6508231163024902), ('aftenposten', 0.6507887840270996), ('p2', 0.6424126625061035), ('nrks', 0.6307368874549866), ('dagsrevyen', 0.5872172117233276), ('dagbladet', 0.5633687376976013), ('nyhetskanalen', 0.5556594133377075)]\n[('https://www.dagbladet.no/', 0.8778731822967529), ('https://www.nettavisen.no/', 0.8664127588272095), ('https://sol.no/', 0.8376708030700684), ('https://www.tv2.no/', 0.825614333152771), ('https://www.seher.no/', 0.8110505938529968), ('https://www.nrk.no/', 0.8080971240997314), ('https://www.adressa.no/', 0.783088743686676), ('https://www.dagsavisen.no/', 0.7677257061004639), ('https://www.loggpaa.no/', 0.7613697052001953), ('https://www.itromso.no/', 0.7480970621109009), ('https://www.klartale.no/', 0.7442464828491211), ('https://www.abcnyheter.no/', 0.7430253028869629), ('https://www.dt.no/', 0.7429558038711548), ('https://www.aftenposten.no/', 0.7373539805412292), ('http://www.mediemix.no/', 0.7345702052116394), ('https://www.fvn.no/', 0.7296140193939209), ('https://www.aftenbladet.no/', 0.7241083383560181), ('https://www.ifinnmark.no/', 0.7219336032867432), ('https://www.t-a.no/', 0.7208669185638428), ('https://www.bt.no/', 0.7206509113311768), ('https://www.ta.no/', 0.7139669060707092), ('https://www.budstikka.no/', 0.7095282077789307), ('https://www.rbnett.no/', 0.7094117403030396), ('https://www.allesider.no/', 0.703822135925293), ('https://www.tronderbladet.no/', 0.692338764667511), ('https://www.nordlys.no/', 0.6884763240814209), ('https://www.altaposten.no/', 0.680449366569519), ('https://journalisten.no/', 0.6797357797622681), ('https://www.ht.no/', 0.6779903173446655), ('https://www.lister24.no/', 0.6757967472076416), ('https://www.rb.no/', 0.6754662990570068), ('https://www.smp.no/', 0.6753774881362915), ('https://www.framtidinord.no/', 0.6747181415557861), ('https://p3.no/', 0.6729148626327515), ('https://www.tk.no/', 0.6660674810409546), ('https://www.sandeavis.no/', 0.6651897430419922), ('https://www.glomdalen.no/', 0.6627286672592163), ('https://resett.no/', 0.6616811156272888), ('https://www.hitra-froya.no/', 0.6602110862731934), ('https://www.tb.no/', 0.6579528450965881), ('https://www.fremover.no/', 0.6572042107582092), ('https://startside1.no/', 0.656481146812439), ('https://ektenyheter.no/', 0.6556895971298218), ('https://www.kk.no/', 0.6523773670196533), ('https://www.side2.no/', 0.650047779083252), ('https://www.avisa-st.no/', 0.6494247913360596), ('https://www.fosna-folket.no/', 0.6481269598007202), ('https://morgenbladet.no/', 0.6474975347518921), ('https://www.agderposten.no/', 0.6465104222297668), ('https://drm24.no/', 0.6463509202003479), ('https://www.amta.no/', 0.6430546045303345), ('https://www.sb.no/', 0.6419080495834351), ('https://www.varden.no/', 0.6418271064758301), ('https://www.polkaposten.no/', 0.64155113697052), ('https://radioh.no/', 0.641363263130188), ('https://www.dagen.no/', 0.6396218538284302), ('https://saltenposten.no/', 0.6393706798553467), ('http://www.aviskurven.no/', 0.6387624740600586), ('https://www.side3.no/', 0.6380214691162109), ('https://www.noblad.no/', 0.637815535068512), ('https://ksu.no/', 0.634865403175354), ('https://www.gat.no/', 0.634286105632782), ('https://www.banett.no/', 0.6301761865615845), ('https://idag.no/', 0.6290149092674255), ('https://www.ialta.no/', 0.6281760931015015), ('https://www.freshnews.no/', 0.6272939443588257), ('https://www.smaalenene.no/', 0.6231698989868164), ('https://www.keyweb.no/', 0.6217299699783325), ('https://ringeriksavisa.no/', 0.620951771736145), ('https://www.lofotposten.no/', 0.6208580732345581), ('https://www.opdalingen.no/', 0.6205065250396729), ('https://www.folkebladet.no/', 0.6194803714752197), ('https://www.rha.no/', 0.615315318107605), ('https://forskning.no/', 0.6151353716850281), ('https://www.klassekampen.no/', 0.6145530343055725), ('https://www.lykten.no/', 0.6140310168266296), ('https://www.innherred.no/', 0.6123985648155212), ('https://www.sa.no/', 0.6106835603713989), ('https://www.bladet.no/', 0.6106539964675903), ('https://tv.nrk.no/', 0.610193133354187), ('https://www.ringeriksavisa.no/', 0.6093429923057556), ('https://www.rights.no/', 0.6088775396347046), ('https://tvsporten.no/', 0.6063624024391174), ('https://www.krsby.no/', 0.6058601140975952), ('https://www.an.no/', 0.6054542660713196), ('https://nye-troms.no/', 0.6048349142074585), ('https://sandnesposten.no/', 0.6042388677597046), ('https://verdensbestenyheter.no/', 0.6030301451683044), ('https://www.dinside.no/', 0.6029762029647827), ('https://www.helg.no/', 0.6010172963142395), ('https://trav365.no/', 0.6004399657249451), ('https://www.vl.no/', 0.5992878079414368), ('https://www.se.no/', 0.5962613821029663), ('https://www.h-a.no/', 0.594970166683197), ('https://www.lp.no/', 0.5943385362625122), ('https://www.miff.no/', 0.5940210819244385), ('https://www.utrop.no/', 0.5937744975090027), ('https://www.dn.no/', 0.5935201048851013), ('https://universitas.no/', 0.592369019985199), ('https://www.demokraten.no/', 0.5922560095787048)]\n"
     ],
     "output_type": "stream"
    },
    {
     "name": "stderr",
     "text": [
      "/home/rolv-arild/PycharmProjects/soc/venv/lib/python3.6/site-packages/ipykernel_launcher.py:1: DeprecationWarning: Call to deprecated `most_similar` (Method will be removed in 4.0.0, use self.wv.most_similar() instead).\n  \"\"\"Entry point for launching an IPython kernel.\n"
     ],
     "output_type": "stream"
    }
   ],
   "source": [
    "print(model.most_similar(positive=[\"nrk\"]))\n",
    "print(model.docvecs.most_similar(positive=[\"https://www.vg.no/\"], topn=100))"
   ],
   "metadata": {
    "collapsed": false,
    "pycharm": {
     "name": "#%%\n",
     "is_executing": false
    }
   }
  },
  {
   "cell_type": "markdown",
   "source": [
    "Run dimensionality reduction."
   ],
   "metadata": {
    "collapsed": false,
    "pycharm": {
     "name": "#%% md\n"
    }
   }
  },
  {
   "cell_type": "code",
   "execution_count": 5,
   "outputs": [
    {
     "name": "stdout",
     "text": [
      "(39272, 128)\n"
     ],
     "output_type": "stream"
    },
    {
     "data": {
      "text/plain": "<Figure size 432x288 with 1 Axes>",
      "image/png": "[encoded data removed]"
     },
     "metadata": {
      "needs_background": "light"
     },
     "output_type": "display_data"
    }
   ],
   "source": [
    "pca = PCA()\n",
    "\n",
    "trans = pca.fit_transform(model.docvecs.vectors_docs)\n",
    "\n",
    "print(trans.shape)\n",
    "\n",
    "# Plot explained variance (information kept) vs number of components\n",
    "plt.plot(np.cumsum(pca.explained_variance_ratio_))\n",
    "plt.xlabel('number of components')\n",
    "plt.ylabel('cumulative explained variance')\n",
    "plt.show()"
   ],
   "metadata": {
    "collapsed": false,
    "pycharm": {
     "name": "#%%\n",
     "is_executing": false
    }
   }
  },
  {
   "cell_type": "code",
   "execution_count": 6,
   "outputs": [],
   "source": [
    "reduced = TSNE().fit_transform(trans)\n",
    "\n",
    "np.save(\"veidemann-reduced.npy\", reduced)"
   ],
   "metadata": {
    "collapsed": false,
    "pycharm": {
     "name": "#%%\n",
     "is_executing": false
    }
   }
  },
  {
   "cell_type": "code",
   "execution_count": 7,
   "outputs": [],
   "source": [
    "reduced = np.load(\"veidemann-reduced.npy\")"
   ],
   "metadata": {
    "collapsed": false,
    "pycharm": {
     "name": "#%%\n",
     "is_executing": false
    }
   }
  },
  {
   "cell_type": "markdown",
   "source": [
    "Write to CSV for later analysis."
   ],
   "metadata": {
    "collapsed": false,
    "pycharm": {
     "name": "#%% md\n"
    }
   }
  },
  {
   "cell_type": "code",
   "execution_count": 8,
   "outputs": [],
   "source": [
    "n_vec = model.docvecs.vectors_docs.shape[-1]\n",
    "\n",
    "fw = open(\"all-homepages.csv\", \"w\")\n",
    "labels = [\"url\"] + \\\n",
    "         [f\"r{i}\" for i in range(reduced.shape[-1])] + \\\n",
    "         [f\"v{i}\" for i in range(n_vec)]\n",
    "fw.write(\",\".join(labels) + \"\\n\")\n",
    "for tag, red, vec in zip(model.docvecs.doctags, reduced, model.docvecs.vectors_docs):\n",
    "    tag = '\"' + re.sub(r'\\\\', \"/\", tag) + '\"'  # makes it weka compatible\n",
    "    red = [str(r) for r in red]\n",
    "    vec = [str(v) for v in vec]\n",
    "    fw.write(\",\".join([tag] + red + vec) + \"\\n\")"
   ],
   "metadata": {
    "collapsed": false,
    "pycharm": {
     "name": "#%%\n",
     "is_executing": false
    }
   }
  },
  {
   "cell_type": "markdown",
   "source": [
    "For converting to [TensorFlow embedding projector](https://projector.tensorflow.org/) compatible format"
   ],
   "metadata": {
    "collapsed": false,
    "pycharm": {
     "name": "#%% md\n"
    }
   }
  },
  {
   "cell_type": "code",
   "execution_count": 2,
   "outputs": [],
   "source": [
    "import pandas as pd\n",
    "\n",
    "fn = \"oos-doc2vec.csv\"\n",
    "csv = pd.read_csv(fn, index_col=False)\n",
    "\n",
    "csv = csv.dropna(subset=[f\"v{i}\" for i in range(256)])\n",
    "csv = csv.fillna(\"missing\")\n",
    "\n",
    "filt = \"v\\d+\"\n",
    "tsv1 = csv.filter(regex=filt)\n",
    "tsv2 = csv.drop(tsv1.columns, axis=1)\n",
    "tsv2 = tsv2.drop(\"text\", axis=1)\n",
    "\n",
    "tsv2 = tsv2.set_index(\"orig_url\")\n",
    "\n",
    "tsv1.to_csv(fn.replace(\".csv\", \"-vec.tsv\"), header=False, sep=\"\\t\", index=False)\n",
    "tsv2.to_csv(fn.replace(\".csv\", \"-meta.tsv\"), sep=\"\\t\", index=True)"
   ],
   "metadata": {
    "collapsed": false,
    "pycharm": {
     "name": "#%%\n",
     "is_executing": false
    }
   }
  },
  {
   "cell_type": "code",
   "execution_count": 29,
   "outputs": [],
   "source": [
    "import numpy as np\n",
    "\n",
    "def pandas2arff(df,filename,wekaname = \"pandasdata\",cleanstringdata=True,cleannan=True):\n",
    "    \"\"\"\n",
    "    converts the pandas dataframe to a weka compatible file\n",
    "    df: dataframe in pandas format\n",
    "    filename: the filename you want the weka compatible file to be in\n",
    "    wekaname: the name you want to give to the weka dataset (this will be visible to you when you open it in Weka)\n",
    "    cleanstringdata: clean up data which may have spaces and replace with \"_\", special characters etc which seem to annoy Weka. \n",
    "                     To suppress this, set this to False\n",
    "    cleannan: replaces all nan values with \"?\" which is Weka's standard for missing values. \n",
    "              To suppress this, set this to False\n",
    "    \"\"\"\n",
    "    import re\n",
    "    \n",
    "    def cleanstring(s):\n",
    "        if s!=\"?\":\n",
    "            return re.sub('[^A-Za-z0-9]+', \"_\", str(s))\n",
    "        else:\n",
    "            return \"?\"\n",
    "            \n",
    "    dfcopy = df #all cleaning operations get done on this copy\n",
    "\n",
    "    \n",
    "    if cleannan!=False:\n",
    "        dfcopy = dfcopy.fillna(-999999999) #this is so that we can swap this out for \"?\"\n",
    "        #this makes sure that certain numerical columns with missing values don't get stuck with \"object\" type\n",
    " \n",
    "    f = open(filename,\"w\")\n",
    "    arffList = []\n",
    "    arffList.append(\"@relation \" + wekaname + \"\\n\")\n",
    "    #look at each column's dtype. If it's an \"object\", make it \"nominal\" under Weka for now (can be changed in source for dates.. etc)\n",
    "    for i in range(df.shape[1]):\n",
    "        if dfcopy.dtypes[i]=='O' or (df.columns[i] in [\"Class\",\"CLASS\",\"class\"]):\n",
    "            if cleannan!=False:\n",
    "                dfcopy.iloc[:,i] = dfcopy.iloc[:,i].replace(to_replace=-999999999, value=\"?\")\n",
    "            if cleanstringdata!=False:\n",
    "                dfcopy.iloc[:,i] = dfcopy.iloc[:,i].apply(cleanstring)\n",
    "            _uniqueNominalVals = [str(_i) for _i in np.unique(dfcopy.iloc[:,i])]\n",
    "            _uniqueNominalVals = \",\".join(_uniqueNominalVals)\n",
    "            _uniqueNominalVals = _uniqueNominalVals.replace(\"[\",\"\")\n",
    "            _uniqueNominalVals = _uniqueNominalVals.replace(\"]\",\"\")\n",
    "            _uniqueValuesString = \"{\" + _uniqueNominalVals +\"}\" \n",
    "            arffList.append(\"@attribute \" + df.columns[i] + _uniqueValuesString + \"\\n\")\n",
    "        else:\n",
    "            arffList.append(\"@attribute \" + df.columns[i] + \" real\\n\") \n",
    "            #even if it is an integer, let's just deal with it as a real number for now\n",
    "    arffList.append(\"@data\\n\")           \n",
    "    for i in range(dfcopy.shape[0]):#instances\n",
    "        _instanceString = \"\"\n",
    "        for j in range(df.shape[1]):#features\n",
    "                if dfcopy.dtypes[j]=='O':\n",
    "                    _instanceString+=\"\\\"\" + str(dfcopy.iloc[i,j]) + \"\\\"\"\n",
    "                else:\n",
    "                    _instanceString+=str(dfcopy.iloc[i,j])\n",
    "                if j!=dfcopy.shape[1]-1:#if it's not the last feature, add a comma\n",
    "                    _instanceString+=\",\"\n",
    "        _instanceString+=\"\\n\"\n",
    "        if cleannan!=False:\n",
    "            _instanceString = _instanceString.replace(\"-999999999.0\",\"?\") #for numeric missing values\n",
    "            _instanceString = _instanceString.replace(\"\\\"?\\\"\",\"?\") #for categorical missing values\n",
    "        arffList.append(_instanceString)\n",
    "    f.writelines(arffList)\n",
    "    f.close()\n",
    "    del dfcopy\n",
    "    return True\n",
    "\n",
    "tsv2.reset_index().drop(\"text\", axis=1).to_csv(\"oos.csv\", index=False, quotechar=\"`\")\n",
    "# pandas2arff(tsv2.reset_index().drop(\"text\", axis=1), fn.replace(\".csv\", \".arff\"))"
   ],
   "metadata": {
    "collapsed": false,
    "pycharm": {
     "name": "#%%\n",
     "is_executing": false
    }
   }
  }
 ],
 "metadata": {
  "language_info": {
   "codemirror_mode": {
    "name": "ipython",
    "version": 2
   },
   "file_extension": ".py",
   "mimetype": "text/x-python",
   "name": "python",
   "nbconvert_exporter": "python",
   "pygments_lexer": "ipython2",
   "version": "2.7.6"
  },
  "kernelspec": {
   "name": "python3",
   "language": "python",
   "display_name": "Python 3"
  },
  "pycharm": {
   "stem_cell": {
    "cell_type": "raw",
    "source": [],
    "metadata": {
     "collapsed": false
    }
   }
  }
 },
 "nbformat": 4,
 "nbformat_minor": 0
}